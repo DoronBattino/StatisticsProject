{
 "cells": [
  {
   "cell_type": "markdown",
   "id": "b926ad12",
   "metadata": {
    "_cell_guid": "b1076dfc-b9ad-4769-8c92-a6c4dae69d19",
    "_uuid": "8f2839f25d086af736a60e9eeb907d3b93b6e0e5",
    "papermill": {
     "duration": 0.147379,
     "end_time": "2022-12-11T13:20:58.250048",
     "exception": false,
     "start_time": "2022-12-11T13:20:58.102669",
     "status": "completed"
    },
    "tags": []
   },
   "source": [
    "# Statistics Project\n",
    "# Nadav Vazana & Doron Battino"
   ]
  },
  {
   "cell_type": "code",
   "execution_count": null,
   "id": "ce10b502",
   "metadata": {
    "papermill": {
     "duration": 0.121226,
     "end_time": "2022-12-11T13:20:58.495206",
     "exception": false,
     "start_time": "2022-12-11T13:20:58.373980",
     "status": "completed"
    },
    "tags": []
   },
   "outputs": [],
   "source": []
  },
  {
   "cell_type": "markdown",
   "id": "8304da40",
   "metadata": {
    "papermill": {
     "duration": 0.120885,
     "end_time": "2022-12-11T13:20:58.736394",
     "exception": false,
     "start_time": "2022-12-11T13:20:58.615509",
     "status": "completed"
    },
    "tags": []
   },
   "source": [
    "#  Part I"
   ]
  },
  {
   "cell_type": "markdown",
   "id": "c84bb038",
   "metadata": {
    "papermill": {
     "duration": 0.119484,
     "end_time": "2022-12-11T13:20:58.977723",
     "exception": false,
     "start_time": "2022-12-11T13:20:58.858239",
     "status": "completed"
    },
    "tags": []
   },
   "source": [
    "# Section I: Choosing a Dataset\n",
    "\n",
    "For our project we have decided to use the FIFA dataset. This dataset contains data taken from the game FIFA 19. In the game, you are able to construct a soccer team from various real life players that are represented in the game. This dataset contains the attributes and stats used to represent these players in the game.\n",
    "\n",
    "The dataset can be found at https://www.kaggle.com/datasets/devansodariya/football-fifa-2019-dataset."
   ]
  },
  {
   "cell_type": "code",
   "execution_count": 1,
   "id": "d6852aed",
   "metadata": {
    "execution": {
     "iopub.execute_input": "2022-12-11T13:20:59.225032Z",
     "iopub.status.busy": "2022-12-11T13:20:59.219358Z",
     "iopub.status.idle": "2022-12-11T13:21:00.927714Z",
     "shell.execute_reply": "2022-12-11T13:21:00.926430Z",
     "shell.execute_reply.started": "2022-12-11T13:17:22.844640Z"
    },
    "papermill": {
     "duration": 1.831545,
     "end_time": "2022-12-11T13:21:00.927913",
     "exception": false,
     "start_time": "2022-12-11T13:20:59.096368",
     "status": "completed"
    },
    "tags": []
   },
   "outputs": [],
   "source": [
    "import pandas as pd\n",
    "import numpy as np\n",
    "from scipy.stats import t, norm\n",
    "from sklearn.linear_model import LinearRegression\n",
    "import statsmodels.formula.api as smf\n",
    "\n",
    "FILE_PATH = \"/kaggle/input/football-fifa-2019-dataset/FIFA-2019.csv\"\n",
    "fifa = pd.read_csv(FILE_PATH)"
   ]
  },
  {
   "cell_type": "markdown",
   "id": "8cf23019",
   "metadata": {
    "papermill": {
     "duration": 0.119551,
     "end_time": "2022-12-11T13:21:01.172758",
     "exception": false,
     "start_time": "2022-12-11T13:21:01.053207",
     "status": "completed"
    },
    "tags": []
   },
   "source": [
    "Of the 89 columns present in the dataset, we have decided to use the following:\n",
    "*      ID - A unique ID for each player\n",
    "*      Overall - An overall rating of the player based on his attributes and international recognition. Int that runs from 0                to 99, the higher the score, the better the player.\n",
    "*      Preferred Foot - The preferred foot of the player. String that receives \"Left\" or \"Right\".\n",
    "*      Weak Foot - Measures the ability of a player to shoot with one foot as he does with his preferred foot. Int that runs                  from 1 to 5, higher value is better.\n",
    "*      Agility - Measures how agile the player is while moving or turning. Int that runs from 0 to 99, higher score is                      better.\n",
    "*      Stamina - Determines the rate at which a player will tire during a game. Int that runs from 0 to 99, higher score is                better (the player will tire at a slower rate).\n",
    "\n"
   ]
  },
  {
   "cell_type": "code",
   "execution_count": 2,
   "id": "33bf7ef7",
   "metadata": {
    "execution": {
     "iopub.execute_input": "2022-12-11T13:21:01.430052Z",
     "iopub.status.busy": "2022-12-11T13:21:01.419660Z",
     "iopub.status.idle": "2022-12-11T13:21:01.433092Z",
     "shell.execute_reply": "2022-12-11T13:21:01.432501Z",
     "shell.execute_reply.started": "2022-12-11T13:17:44.381157Z"
    },
    "papermill": {
     "duration": 0.141764,
     "end_time": "2022-12-11T13:21:01.433250",
     "exception": false,
     "start_time": "2022-12-11T13:21:01.291486",
     "status": "completed"
    },
    "tags": []
   },
   "outputs": [],
   "source": [
    "COLUMNS = ['ID', 'Overall', 'Preferred Foot', 'Weak Foot', 'Agility', \"Stamina\"]\n",
    "fifa = fifa[COLUMNS]"
   ]
  },
  {
   "cell_type": "markdown",
   "id": "e1500837",
   "metadata": {
    "papermill": {
     "duration": 0.118246,
     "end_time": "2022-12-11T13:21:01.670715",
     "exception": false,
     "start_time": "2022-12-11T13:21:01.552469",
     "status": "completed"
    },
    "tags": []
   },
   "source": [
    "After removing rows that contain null values we are left with:"
   ]
  },
  {
   "cell_type": "code",
   "execution_count": 3,
   "id": "5b11d301",
   "metadata": {
    "execution": {
     "iopub.execute_input": "2022-12-11T13:21:01.919496Z",
     "iopub.status.busy": "2022-12-11T13:21:01.918808Z",
     "iopub.status.idle": "2022-12-11T13:21:01.927863Z",
     "shell.execute_reply": "2022-12-11T13:21:01.928474Z",
     "shell.execute_reply.started": "2022-12-11T13:17:51.555187Z"
    },
    "papermill": {
     "duration": 0.138795,
     "end_time": "2022-12-11T13:21:01.928670",
     "exception": false,
     "start_time": "2022-12-11T13:21:01.789875",
     "status": "completed"
    },
    "tags": []
   },
   "outputs": [
    {
     "data": {
      "text/plain": [
       "18159"
      ]
     },
     "execution_count": 3,
     "metadata": {},
     "output_type": "execute_result"
    }
   ],
   "source": [
    "fifa = fifa.dropna()\n",
    "len(fifa)"
   ]
  },
  {
   "cell_type": "markdown",
   "id": "b80bc26d",
   "metadata": {
    "papermill": {
     "duration": 0.120167,
     "end_time": "2022-12-11T13:21:02.169944",
     "exception": false,
     "start_time": "2022-12-11T13:21:02.049777",
     "status": "completed"
    },
    "tags": []
   },
   "source": [
    "# Section II: Initial Statistical Analysis"
   ]
  },
  {
   "cell_type": "code",
   "execution_count": 4,
   "id": "6327fb28",
   "metadata": {
    "execution": {
     "iopub.execute_input": "2022-12-11T13:21:02.419846Z",
     "iopub.status.busy": "2022-12-11T13:21:02.418819Z",
     "iopub.status.idle": "2022-12-11T13:21:02.449720Z",
     "shell.execute_reply": "2022-12-11T13:21:02.450277Z",
     "shell.execute_reply.started": "2022-02-28T20:35:58.590164Z"
    },
    "papermill": {
     "duration": 0.161109,
     "end_time": "2022-12-11T13:21:02.450463",
     "exception": false,
     "start_time": "2022-12-11T13:21:02.289354",
     "status": "completed"
    },
    "tags": []
   },
   "outputs": [
    {
     "data": {
      "text/html": [
       "<div>\n",
       "<style scoped>\n",
       "    .dataframe tbody tr th:only-of-type {\n",
       "        vertical-align: middle;\n",
       "    }\n",
       "\n",
       "    .dataframe tbody tr th {\n",
       "        vertical-align: top;\n",
       "    }\n",
       "\n",
       "    .dataframe thead th {\n",
       "        text-align: right;\n",
       "    }\n",
       "</style>\n",
       "<table border=\"1\" class=\"dataframe\">\n",
       "  <thead>\n",
       "    <tr style=\"text-align: right;\">\n",
       "      <th></th>\n",
       "      <th>ID</th>\n",
       "      <th>Overall</th>\n",
       "      <th>Weak Foot</th>\n",
       "      <th>Agility</th>\n",
       "      <th>Stamina</th>\n",
       "    </tr>\n",
       "  </thead>\n",
       "  <tbody>\n",
       "    <tr>\n",
       "      <th>count</th>\n",
       "      <td>18159.000000</td>\n",
       "      <td>18159.000000</td>\n",
       "      <td>18159.000000</td>\n",
       "      <td>18159.000000</td>\n",
       "      <td>18159.000000</td>\n",
       "    </tr>\n",
       "    <tr>\n",
       "      <th>mean</th>\n",
       "      <td>214279.590286</td>\n",
       "      <td>66.249904</td>\n",
       "      <td>2.947299</td>\n",
       "      <td>63.503607</td>\n",
       "      <td>63.219946</td>\n",
       "    </tr>\n",
       "    <tr>\n",
       "      <th>std</th>\n",
       "      <td>29968.461880</td>\n",
       "      <td>6.914613</td>\n",
       "      <td>0.660456</td>\n",
       "      <td>14.766049</td>\n",
       "      <td>15.894741</td>\n",
       "    </tr>\n",
       "    <tr>\n",
       "      <th>min</th>\n",
       "      <td>16.000000</td>\n",
       "      <td>46.000000</td>\n",
       "      <td>1.000000</td>\n",
       "      <td>14.000000</td>\n",
       "      <td>12.000000</td>\n",
       "    </tr>\n",
       "    <tr>\n",
       "      <th>25%</th>\n",
       "      <td>200300.000000</td>\n",
       "      <td>62.000000</td>\n",
       "      <td>3.000000</td>\n",
       "      <td>55.000000</td>\n",
       "      <td>56.000000</td>\n",
       "    </tr>\n",
       "    <tr>\n",
       "      <th>50%</th>\n",
       "      <td>221743.000000</td>\n",
       "      <td>66.000000</td>\n",
       "      <td>3.000000</td>\n",
       "      <td>66.000000</td>\n",
       "      <td>66.000000</td>\n",
       "    </tr>\n",
       "    <tr>\n",
       "      <th>75%</th>\n",
       "      <td>236508.500000</td>\n",
       "      <td>71.000000</td>\n",
       "      <td>3.000000</td>\n",
       "      <td>74.000000</td>\n",
       "      <td>74.000000</td>\n",
       "    </tr>\n",
       "    <tr>\n",
       "      <th>max</th>\n",
       "      <td>246620.000000</td>\n",
       "      <td>94.000000</td>\n",
       "      <td>5.000000</td>\n",
       "      <td>96.000000</td>\n",
       "      <td>96.000000</td>\n",
       "    </tr>\n",
       "  </tbody>\n",
       "</table>\n",
       "</div>"
      ],
      "text/plain": [
       "                  ID       Overall     Weak Foot       Agility       Stamina\n",
       "count   18159.000000  18159.000000  18159.000000  18159.000000  18159.000000\n",
       "mean   214279.590286     66.249904      2.947299     63.503607     63.219946\n",
       "std     29968.461880      6.914613      0.660456     14.766049     15.894741\n",
       "min        16.000000     46.000000      1.000000     14.000000     12.000000\n",
       "25%    200300.000000     62.000000      3.000000     55.000000     56.000000\n",
       "50%    221743.000000     66.000000      3.000000     66.000000     66.000000\n",
       "75%    236508.500000     71.000000      3.000000     74.000000     74.000000\n",
       "max    246620.000000     94.000000      5.000000     96.000000     96.000000"
      ]
     },
     "execution_count": 4,
     "metadata": {},
     "output_type": "execute_result"
    }
   ],
   "source": [
    "fifa.describe()"
   ]
  },
  {
   "cell_type": "markdown",
   "id": "32cc37ec",
   "metadata": {
    "papermill": {
     "duration": 0.120511,
     "end_time": "2022-12-11T13:21:02.691484",
     "exception": false,
     "start_time": "2022-12-11T13:21:02.570973",
     "status": "completed"
    },
    "tags": []
   },
   "source": [
    "From initial observation, it seems like Overall, Agility and Stamina have a similar distribution since their quantiles are nearly identical. However, it is worth noting that Overall has significantly less variance than Agility and Stamina."
   ]
  },
  {
   "cell_type": "code",
   "execution_count": 5,
   "id": "0f08edd2",
   "metadata": {
    "execution": {
     "iopub.execute_input": "2022-12-11T13:21:02.938909Z",
     "iopub.status.busy": "2022-12-11T13:21:02.938219Z",
     "iopub.status.idle": "2022-12-11T13:21:03.483938Z",
     "shell.execute_reply": "2022-12-11T13:21:03.484522Z",
     "shell.execute_reply.started": "2022-02-28T20:35:58.635887Z"
    },
    "papermill": {
     "duration": 0.672957,
     "end_time": "2022-12-11T13:21:03.484721",
     "exception": false,
     "start_time": "2022-12-11T13:21:02.811764",
     "status": "completed"
    },
    "tags": []
   },
   "outputs": [
    {
     "data": {
      "image/png": "[encoded data removed]",
      "text/plain": [
       "<Figure size 576x576 with 3 Axes>"
      ]
     },
     "metadata": {
      "needs_background": "light"
     },
     "output_type": "display_data"
    }
   ],
   "source": [
    "fifa.hist(['Overall', 'Agility', 'Stamina'], layout=(3,1), figsize=(8,8.), grid=False, ec='black');"
   ]
  },
  {
   "cell_type": "code",
   "execution_count": 6,
   "id": "95cd3a98",
   "metadata": {
    "execution": {
     "iopub.execute_input": "2022-12-11T13:21:03.730904Z",
     "iopub.status.busy": "2022-12-11T13:21:03.730229Z",
     "iopub.status.idle": "2022-12-11T13:21:04.018487Z",
     "shell.execute_reply": "2022-12-11T13:21:04.019103Z",
     "shell.execute_reply.started": "2022-02-28T20:35:59.244554Z"
    },
    "papermill": {
     "duration": 0.41299,
     "end_time": "2022-12-11T13:21:04.019312",
     "exception": false,
     "start_time": "2022-12-11T13:21:03.606322",
     "status": "completed"
    },
    "tags": []
   },
   "outputs": [
    {
     "data": {
      "image/png": "[encoded data removed]",
      "text/plain": [
       "<Figure size 720x720 with 1 Axes>"
      ]
     },
     "metadata": {
      "needs_background": "light"
     },
     "output_type": "display_data"
    }
   ],
   "source": [
    "fifa.boxplot(['Overall', 'Agility', 'Stamina'], figsize=(10,10));"
   ]
  },
  {
   "cell_type": "code",
   "execution_count": 7,
   "id": "0bd56b4a",
   "metadata": {
    "execution": {
     "iopub.execute_input": "2022-12-11T13:21:04.268604Z",
     "iopub.status.busy": "2022-12-11T13:21:04.267942Z",
     "iopub.status.idle": "2022-12-11T13:21:04.429933Z",
     "shell.execute_reply": "2022-12-11T13:21:04.430420Z",
     "shell.execute_reply.started": "2022-02-28T20:35:59.57448Z"
    },
    "papermill": {
     "duration": 0.287225,
     "end_time": "2022-12-11T13:21:04.430606",
     "exception": false,
     "start_time": "2022-12-11T13:21:04.143381",
     "status": "completed"
    },
    "tags": []
   },
   "outputs": [
    {
     "data": {
      "image/png": "[encoded data removed]",
      "text/plain": [
       "<Figure size 936x936 with 1 Axes>"
      ]
     },
     "metadata": {},
     "output_type": "display_data"
    }
   ],
   "source": [
    "fifa.groupby(\"Preferred Foot\").size().plot.pie(autopct=\"%.2f%%\", figsize=(13,13));"
   ]
  },
  {
   "cell_type": "code",
   "execution_count": 8,
   "id": "bb6643aa",
   "metadata": {
    "execution": {
     "iopub.execute_input": "2022-12-11T13:21:04.683083Z",
     "iopub.status.busy": "2022-12-11T13:21:04.682404Z",
     "iopub.status.idle": "2022-12-11T13:21:04.852235Z",
     "shell.execute_reply": "2022-12-11T13:21:04.852798Z",
     "shell.execute_reply.started": "2022-02-28T20:35:59.746707Z"
    },
    "papermill": {
     "duration": 0.297921,
     "end_time": "2022-12-11T13:21:04.852985",
     "exception": false,
     "start_time": "2022-12-11T13:21:04.555064",
     "status": "completed"
    },
    "tags": []
   },
   "outputs": [
    {
     "data": {
      "image/png": "[encoded data removed]",
      "text/plain": [
       "<Figure size 936x936 with 1 Axes>"
      ]
     },
     "metadata": {},
     "output_type": "display_data"
    }
   ],
   "source": [
    "fifa.groupby(\"Weak Foot\").size().plot.pie(autopct=\"%.2f%%\", figsize=(13,13));"
   ]
  },
  {
   "cell_type": "markdown",
   "id": "56c55195",
   "metadata": {
    "papermill": {
     "duration": 0.123534,
     "end_time": "2022-12-11T13:21:05.102289",
     "exception": false,
     "start_time": "2022-12-11T13:21:04.978755",
     "status": "completed"
    },
    "tags": []
   },
   "source": [
    "# Section III: Research Questions\n",
    "\n",
    "Here are some examples for research questions we can pursue with our data:\n",
    "1.     Does a higher Agility rating lead to a higher Overall rating?\n",
    "1.     Does a higher Overall rating increases the chance that Preferred Foot is \"Left\"?\n",
    "1.     Does the Stamina rating change between different ratings of Weak Foot?"
   ]
  },
  {
   "cell_type": "markdown",
   "id": "f8becb0c",
   "metadata": {
    "papermill": {
     "duration": 0.123278,
     "end_time": "2022-12-11T13:21:05.350524",
     "exception": false,
     "start_time": "2022-12-11T13:21:05.227246",
     "status": "completed"
    },
    "tags": []
   },
   "source": [
    "# Part II"
   ]
  },
  {
   "cell_type": "markdown",
   "id": "6d092b4b",
   "metadata": {
    "papermill": {
     "duration": 0.123309,
     "end_time": "2022-12-11T13:21:05.597310",
     "exception": false,
     "start_time": "2022-12-11T13:21:05.474001",
     "status": "completed"
    },
    "tags": []
   },
   "source": [
    "# Section I"
   ]
  },
  {
   "cell_type": "markdown",
   "id": "9dc29cba",
   "metadata": {
    "papermill": {
     "duration": 0.123705,
     "end_time": "2022-12-11T13:21:05.843934",
     "exception": false,
     "start_time": "2022-12-11T13:21:05.720229",
     "status": "completed"
    },
    "tags": []
   },
   "source": [
    "In this section we will estimate the expected value of Overall between different categories of Preferred Foot."
   ]
  },
  {
   "cell_type": "code",
   "execution_count": 9,
   "id": "dd231ca0",
   "metadata": {
    "execution": {
     "iopub.execute_input": "2022-12-11T13:21:06.094758Z",
     "iopub.status.busy": "2022-12-11T13:21:06.094110Z",
     "iopub.status.idle": "2022-12-11T13:21:06.108342Z",
     "shell.execute_reply": "2022-12-11T13:21:06.108972Z",
     "shell.execute_reply.started": "2022-02-28T20:35:59.919913Z"
    },
    "papermill": {
     "duration": 0.140664,
     "end_time": "2022-12-11T13:21:06.109147",
     "exception": false,
     "start_time": "2022-12-11T13:21:05.968483",
     "status": "completed"
    },
    "tags": []
   },
   "outputs": [
    {
     "data": {
      "text/html": [
       "<div>\n",
       "<style scoped>\n",
       "    .dataframe tbody tr th:only-of-type {\n",
       "        vertical-align: middle;\n",
       "    }\n",
       "\n",
       "    .dataframe tbody tr th {\n",
       "        vertical-align: top;\n",
       "    }\n",
       "\n",
       "    .dataframe thead th {\n",
       "        text-align: right;\n",
       "    }\n",
       "</style>\n",
       "<table border=\"1\" class=\"dataframe\">\n",
       "  <thead>\n",
       "    <tr style=\"text-align: right;\">\n",
       "      <th></th>\n",
       "      <th>Overall</th>\n",
       "    </tr>\n",
       "    <tr>\n",
       "      <th>Preferred Foot</th>\n",
       "      <th></th>\n",
       "    </tr>\n",
       "  </thead>\n",
       "  <tbody>\n",
       "    <tr>\n",
       "      <th>Left</th>\n",
       "      <td>66.801472</td>\n",
       "    </tr>\n",
       "    <tr>\n",
       "      <th>Right</th>\n",
       "      <td>66.083381</td>\n",
       "    </tr>\n",
       "  </tbody>\n",
       "</table>\n",
       "</div>"
      ],
      "text/plain": [
       "                  Overall\n",
       "Preferred Foot           \n",
       "Left            66.801472\n",
       "Right           66.083381"
      ]
     },
     "execution_count": 9,
     "metadata": {},
     "output_type": "execute_result"
    }
   ],
   "source": [
    "data = fifa.filter(items=['Preferred Foot', 'Overall'])\n",
    "data.groupby('Preferred Foot').mean()"
   ]
  },
  {
   "cell_type": "markdown",
   "id": "28ea1181",
   "metadata": {
    "papermill": {
     "duration": 0.124336,
     "end_time": "2022-12-11T13:21:06.364514",
     "exception": false,
     "start_time": "2022-12-11T13:21:06.240178",
     "status": "completed"
    },
    "tags": []
   },
   "source": [
    "We will build a confidence interval with a strength of 0.95:"
   ]
  },
  {
   "cell_type": "code",
   "execution_count": 10,
   "id": "28f5bffa",
   "metadata": {
    "execution": {
     "iopub.execute_input": "2022-12-11T13:21:06.614749Z",
     "iopub.status.busy": "2022-12-11T13:21:06.614078Z",
     "iopub.status.idle": "2022-12-11T13:21:06.628956Z",
     "shell.execute_reply": "2022-12-11T13:21:06.629465Z",
     "shell.execute_reply.started": "2022-02-28T20:35:59.944061Z"
    },
    "papermill": {
     "duration": 0.141805,
     "end_time": "2022-12-11T13:21:06.629655",
     "exception": false,
     "start_time": "2022-12-11T13:21:06.487850",
     "status": "completed"
    },
    "tags": []
   },
   "outputs": [
    {
     "name": "stdout",
     "output_type": "stream",
     "text": [
      "Confidence interval for right:\n",
      "[65.96465883149025, 66.20210342833195]\n",
      "Confidence interval for left:\n",
      "[66.59937767073195, 67.00356699799282]\n"
     ]
    }
   ],
   "source": [
    "data_right = data.loc[data['Preferred Foot'] == 'Right']['Overall']\n",
    "data_left = data.loc[data['Preferred Foot'] == 'Left']['Overall']\n",
    "mean_left = data_left.mean()\n",
    "mean_right = data_right.mean()\n",
    "print('Confidence interval for right:')\n",
    "print([mean_right - 2*data_right.std()/(len(data_right)**(1/2)), mean_right + 2*data_right.std()/(len(data_right)**(1/2))])\n",
    "print('Confidence interval for left:')\n",
    "print([mean_left - 2*data_left.std()/(len(data_left)**(1/2)), mean_left + 2*data_left.std()/(len(data_left)**(1/2))])"
   ]
  },
  {
   "cell_type": "markdown",
   "id": "5fe11504",
   "metadata": {
    "papermill": {
     "duration": 0.123805,
     "end_time": "2022-12-11T13:21:06.877530",
     "exception": false,
     "start_time": "2022-12-11T13:21:06.753725",
     "status": "completed"
    },
    "tags": []
   },
   "source": [
    "Our intervals don't overlap, implying that the expected value of Overall is different between those categories of Preferred Foot."
   ]
  },
  {
   "cell_type": "markdown",
   "id": "e54ca398",
   "metadata": {
    "papermill": {
     "duration": 0.123674,
     "end_time": "2022-12-11T13:21:07.126077",
     "exception": false,
     "start_time": "2022-12-11T13:21:07.002403",
     "status": "completed"
    },
    "tags": []
   },
   "source": [
    "# Section II - Tests"
   ]
  },
  {
   "cell_type": "markdown",
   "id": "2d2b2714",
   "metadata": {
    "papermill": {
     "duration": 0.123759,
     "end_time": "2022-12-11T13:21:07.373859",
     "exception": false,
     "start_time": "2022-12-11T13:21:07.250100",
     "status": "completed"
    },
    "tags": []
   },
   "source": [
    "$$ H_0: \\mu_{Left} - \\mu_{Right} = 0 $$\n",
    "$$ H_1: \\mu_{Left} - \\mu_{Right} \\neq 0 $$"
   ]
  },
  {
   "cell_type": "markdown",
   "id": "f819abc3",
   "metadata": {
    "papermill": {
     "duration": 0.123283,
     "end_time": "2022-12-11T13:21:07.620888",
     "exception": false,
     "start_time": "2022-12-11T13:21:07.497605",
     "status": "completed"
    },
    "tags": []
   },
   "source": [
    "First, we will check if our data appears to follow a normal distribution:"
   ]
  },
  {
   "cell_type": "code",
   "execution_count": 11,
   "id": "e18c55bc",
   "metadata": {
    "execution": {
     "iopub.execute_input": "2022-12-11T13:21:07.877308Z",
     "iopub.status.busy": "2022-12-11T13:21:07.876537Z",
     "iopub.status.idle": "2022-12-11T13:21:08.317200Z",
     "shell.execute_reply": "2022-12-11T13:21:08.316510Z",
     "shell.execute_reply.started": "2022-02-28T20:35:59.969276Z"
    },
    "papermill": {
     "duration": 0.573011,
     "end_time": "2022-12-11T13:21:08.317353",
     "exception": false,
     "start_time": "2022-12-11T13:21:07.744342",
     "status": "completed"
    },
    "tags": []
   },
   "outputs": [
    {
     "data": {
      "image/png": "[encoded data removed]",
      "text/plain": [
       "<Figure size 360x360 with 2 Axes>"
      ]
     },
     "metadata": {
      "needs_background": "light"
     },
     "output_type": "display_data"
    }
   ],
   "source": [
    "import numpy as np\n",
    "from scipy.stats import norm\n",
    "from scipy.stats import probplot\n",
    "import matplotlib.pyplot as plt\n",
    "fig, axs = plt.subplots(2, figsize=(5,5))\n",
    "mu_right, std_right = norm.fit(data_right) \n",
    "mu_left, std_left = norm.fit(data_left)\n",
    "probplot(data_right, sparams=(mu_right, std_right), plot=axs[0])\n",
    "axs[0].set_title('QQ-Plot of data_right, Compared to Theoretical Normal Distribution')\n",
    "probplot(data_right, sparams=(mu_left, std_left), plot=axs[1])\n",
    "axs[1].set_title('QQ-Plot of data_left, Compared to Theoretical Normal Distribution')\n",
    "plt.tight_layout()\n",
    "plt.show()"
   ]
  },
  {
   "cell_type": "markdown",
   "id": "b5fbdfeb",
   "metadata": {
    "papermill": {
     "duration": 0.125968,
     "end_time": "2022-12-11T13:21:08.569705",
     "exception": false,
     "start_time": "2022-12-11T13:21:08.443737",
     "status": "completed"
    },
    "tags": []
   },
   "source": [
    "Based on the plots, it seems very likely that the data is distributed normally. Moreover, it seems like the variance is equal between the different categories of Preferred Foot."
   ]
  },
  {
   "cell_type": "markdown",
   "id": "0cb28571",
   "metadata": {
    "papermill": {
     "duration": 0.129272,
     "end_time": "2022-12-11T13:21:08.825560",
     "exception": false,
     "start_time": "2022-12-11T13:21:08.696288",
     "status": "completed"
    },
    "tags": []
   },
   "source": [
    "**t test (size 0.05):**"
   ]
  },
  {
   "cell_type": "code",
   "execution_count": 12,
   "id": "850f4274",
   "metadata": {
    "execution": {
     "iopub.execute_input": "2022-12-11T13:21:09.087203Z",
     "iopub.status.busy": "2022-12-11T13:21:09.086501Z",
     "iopub.status.idle": "2022-12-11T13:21:09.089409Z",
     "shell.execute_reply": "2022-12-11T13:21:09.088834Z",
     "shell.execute_reply.started": "2022-02-28T20:36:00.420305Z"
    },
    "papermill": {
     "duration": 0.135394,
     "end_time": "2022-12-11T13:21:09.089567",
     "exception": false,
     "start_time": "2022-12-11T13:21:08.954173",
     "status": "completed"
    },
    "tags": []
   },
   "outputs": [],
   "source": [
    "n_right = len(data_right)\n",
    "n_left = len(data_left)\n",
    "sp = (((n_right-1)*data_right.std()**2 + (n_left - 1)*data_left.std()**2)/(n_right + n_left - 2))**(1/2)\n",
    "tn = (mean_right - mean_left) / (sp * (1/n_right + 1/n_left)**(1/2))"
   ]
  },
  {
   "cell_type": "code",
   "execution_count": 13,
   "id": "a9e1562e",
   "metadata": {
    "execution": {
     "iopub.execute_input": "2022-12-11T13:21:09.376996Z",
     "iopub.status.busy": "2022-12-11T13:21:09.375972Z",
     "iopub.status.idle": "2022-12-11T13:21:09.384109Z",
     "shell.execute_reply": "2022-12-11T13:21:09.383178Z",
     "shell.execute_reply.started": "2022-02-28T20:36:00.43069Z"
    },
    "papermill": {
     "duration": 0.151765,
     "end_time": "2022-12-11T13:21:09.384331",
     "exception": false,
     "start_time": "2022-12-11T13:21:09.232566",
     "status": "completed"
    },
    "tags": []
   },
   "outputs": [
    {
     "name": "stdout",
     "output_type": "stream",
     "text": [
      "False\n"
     ]
    }
   ],
   "source": [
    "from scipy.stats import t\n",
    "rej = t.ppf(0.975, n_right + n_left - 2)\n",
    "if abs(tn) > rej:\n",
    "    print(False)\n",
    "else:\n",
    "    print(True)"
   ]
  },
  {
   "cell_type": "markdown",
   "id": "a787189e",
   "metadata": {
    "papermill": {
     "duration": 0.135115,
     "end_time": "2022-12-11T13:21:09.651833",
     "exception": false,
     "start_time": "2022-12-11T13:21:09.516718",
     "status": "completed"
    },
    "tags": []
   },
   "source": [
    "According to the t test we should reject $H_0$"
   ]
  },
  {
   "cell_type": "markdown",
   "id": "98f384e0",
   "metadata": {
    "papermill": {
     "duration": 0.132917,
     "end_time": "2022-12-11T13:21:09.929415",
     "exception": false,
     "start_time": "2022-12-11T13:21:09.796498",
     "status": "completed"
    },
    "tags": []
   },
   "source": [
    "**Wald test (size 0.05):**"
   ]
  },
  {
   "cell_type": "code",
   "execution_count": 14,
   "id": "30b242c8",
   "metadata": {
    "execution": {
     "iopub.execute_input": "2022-12-11T13:21:10.193265Z",
     "iopub.status.busy": "2022-12-11T13:21:10.192513Z",
     "iopub.status.idle": "2022-12-11T13:21:10.199098Z",
     "shell.execute_reply": "2022-12-11T13:21:10.199753Z",
     "shell.execute_reply.started": "2022-02-28T20:36:00.447145Z"
    },
    "papermill": {
     "duration": 0.137599,
     "end_time": "2022-12-11T13:21:10.199934",
     "exception": false,
     "start_time": "2022-12-11T13:21:10.062335",
     "status": "completed"
    },
    "tags": []
   },
   "outputs": [
    {
     "name": "stdout",
     "output_type": "stream",
     "text": [
      "False\n"
     ]
    }
   ],
   "source": [
    "from scipy.stats import norm\n",
    "rej = norm.ppf(0.975)\n",
    "if abs(tn) > rej:\n",
    "    print(False)\n",
    "else:\n",
    "    print(True)"
   ]
  },
  {
   "cell_type": "markdown",
   "id": "54ce5186",
   "metadata": {
    "papermill": {
     "duration": 0.132777,
     "end_time": "2022-12-11T13:21:10.466473",
     "exception": false,
     "start_time": "2022-12-11T13:21:10.333696",
     "status": "completed"
    },
    "tags": []
   },
   "source": [
    "According to the Wald test we should reject $H_0$\n",
    "\n",
    "We will calculate the pvalues for both tests:"
   ]
  },
  {
   "cell_type": "code",
   "execution_count": 15,
   "id": "9896f8c9",
   "metadata": {
    "execution": {
     "iopub.execute_input": "2022-12-11T13:21:10.727877Z",
     "iopub.status.busy": "2022-12-11T13:21:10.726841Z",
     "iopub.status.idle": "2022-12-11T13:21:10.734215Z",
     "shell.execute_reply": "2022-12-11T13:21:10.733637Z",
     "shell.execute_reply.started": "2022-02-28T20:36:00.459749Z"
    },
    "papermill": {
     "duration": 0.139526,
     "end_time": "2022-12-11T13:21:10.734368",
     "exception": false,
     "start_time": "2022-12-11T13:21:10.594842",
     "status": "completed"
    },
    "tags": []
   },
   "outputs": [
    {
     "name": "stdout",
     "output_type": "stream",
     "text": [
      "t pvalue: 3.444411422748317e-09\n",
      "Wald pvalue: 3.3838232216254482e-09\n"
     ]
    }
   ],
   "source": [
    "pvalue_t = (1 - t.cdf(abs(tn), n_right + n_left - 2))*2\n",
    "pvalue_Wald = (1 - norm.cdf(abs(tn)))*2\n",
    "print('t pvalue:', pvalue_t)\n",
    "print('Wald pvalue:', pvalue_Wald)"
   ]
  },
  {
   "cell_type": "markdown",
   "id": "131d0674",
   "metadata": {
    "papermill": {
     "duration": 0.136225,
     "end_time": "2022-12-11T13:21:11.007186",
     "exception": false,
     "start_time": "2022-12-11T13:21:10.870961",
     "status": "completed"
    },
    "tags": []
   },
   "source": [
    "We have received similiar results for the Wald test and the t test. That fits our expectations since the t distribution converges to standrad normal distribution as the degrees of freedom approach infinity. Essentially, thanks to the large sample size, both tests are almost exactly equal."
   ]
  },
  {
   "cell_type": "markdown",
   "id": "77dcd5ab",
   "metadata": {
    "papermill": {
     "duration": 0.133266,
     "end_time": "2022-12-11T13:21:11.276517",
     "exception": false,
     "start_time": "2022-12-11T13:21:11.143251",
     "status": "completed"
    },
    "tags": []
   },
   "source": [
    "**Likelihood-ratio test (size 0.05)**\n",
    "\n",
    "We will assume that both data_right and data_left are distributed normally with the same variance. After calculating we recieved the following estimators:"
   ]
  },
  {
   "cell_type": "markdown",
   "id": "f6c0f652",
   "metadata": {
    "papermill": {
     "duration": 0.127843,
     "end_time": "2022-12-11T13:21:11.533838",
     "exception": false,
     "start_time": "2022-12-11T13:21:11.405995",
     "status": "completed"
    },
    "tags": []
   },
   "source": [
    "Under $H_0$:\n",
    "\n",
    "$ \\mu_{1} = \\mu_{2} = \\mu_0 $\n",
    "\n",
    "$\\hat{\\mu_0} = \\frac{\\sum_{i=1}^{n} X_i + \\sum_{i=1}^{m} Y_i}{m + n}$\n",
    "\n",
    "$\\hat{\\sigma}^2 = \\frac{\\sum_{i=1}^{n} (X_i - \\hat{\\mu_0})^2 + \\sum_{i=1}^{m} (Y_i - \\hat{\\mu_0})^2}{n + m}$\n",
    "\n",
    "Otherwise:\n",
    "\n",
    "$\\hat{\\mu_1} = \\bar{X_n}$\n",
    "\n",
    "$\\hat{\\mu_2} = \\bar{Y_m}$\n",
    "\n",
    "$\\hat{\\sigma}^2 = \\frac{\\sum_{i=1}^{n} (X_i - \\hat{\\mu_1})^2 + \\sum_{i=1}^{m} (Y_i - \\hat{\\mu_2})^2}{n + m}$"
   ]
  },
  {
   "cell_type": "code",
   "execution_count": 16,
   "id": "c5a662b0",
   "metadata": {
    "execution": {
     "iopub.execute_input": "2022-12-11T13:21:11.810368Z",
     "iopub.status.busy": "2022-12-11T13:21:11.809528Z",
     "iopub.status.idle": "2022-12-11T13:21:11.817719Z",
     "shell.execute_reply": "2022-12-11T13:21:11.817066Z",
     "shell.execute_reply.started": "2022-02-28T20:36:00.473361Z"
    },
    "papermill": {
     "duration": 0.147875,
     "end_time": "2022-12-11T13:21:11.817873",
     "exception": false,
     "start_time": "2022-12-11T13:21:11.669998",
     "status": "completed"
    },
    "tags": []
   },
   "outputs": [
    {
     "name": "stdout",
     "output_type": "stream",
     "text": [
      "66.0833811299111\n",
      "False\n"
     ]
    }
   ],
   "source": [
    "import numpy as np\n",
    "from scipy.stats import chi2\n",
    "mu_0 = data['Overall'].mean()\n",
    "std_0 = data['Overall'].std(ddof=0)\n",
    "mu_1_left = mean_left\n",
    "\n",
    "mu_1_right = mean_right\n",
    "print(mu_1_right)\n",
    "std_1 = (data_right.std(ddof=-n_left)**2 + data_left.std(ddof=-n_right)**2)**(1/2)\n",
    "l_1 = np.sum(np.log(norm.pdf(data_left, mu_1_left, std_1))) + np.sum(np.log(norm.pdf(data_right, mu_1_right, std_1)))\n",
    "l_0 = np.sum(np.log(norm.pdf(data['Overall'], mu_0, std_0)))\n",
    "T = 2*(l_1 - l_0)\n",
    "if T > chi2.ppf(0.95, 1):\n",
    "    print(False)\n",
    "else:\n",
    "    print(True)"
   ]
  },
  {
   "cell_type": "markdown",
   "id": "defaca4c",
   "metadata": {
    "papermill": {
     "duration": 0.133798,
     "end_time": "2022-12-11T13:21:12.092252",
     "exception": false,
     "start_time": "2022-12-11T13:21:11.958454",
     "status": "completed"
    },
    "tags": []
   },
   "source": [
    "According to a Likelihood-ratio test of size 0.05 we should reject $H_0$\n",
    "\n",
    "The pvalue for this test is:"
   ]
  },
  {
   "cell_type": "code",
   "execution_count": 17,
   "id": "05647691",
   "metadata": {
    "execution": {
     "iopub.execute_input": "2022-12-11T13:21:12.367337Z",
     "iopub.status.busy": "2022-12-11T13:21:12.366397Z",
     "iopub.status.idle": "2022-12-11T13:21:12.370149Z",
     "shell.execute_reply": "2022-12-11T13:21:12.370605Z",
     "shell.execute_reply.started": "2022-02-28T20:36:00.492272Z"
    },
    "papermill": {
     "duration": 0.141947,
     "end_time": "2022-12-11T13:21:12.370814",
     "exception": false,
     "start_time": "2022-12-11T13:21:12.228867",
     "status": "completed"
    },
    "tags": []
   },
   "outputs": [
    {
     "name": "stdout",
     "output_type": "stream",
     "text": [
      "3.4359174394538172e-09\n"
     ]
    }
   ],
   "source": [
    "print(1 - chi2.cdf(T, 1))"
   ]
  },
  {
   "cell_type": "markdown",
   "id": "53f9c445",
   "metadata": {
    "papermill": {
     "duration": 0.136101,
     "end_time": "2022-12-11T13:21:12.641443",
     "exception": false,
     "start_time": "2022-12-11T13:21:12.505342",
     "status": "completed"
    },
    "tags": []
   },
   "source": [
    "Overall, the tests produced similar results. According to the tests we should reject $H_0$. Every test had a pvalue of about 3.4e-09."
   ]
  },
  {
   "cell_type": "markdown",
   "id": "4d8383f3",
   "metadata": {
    "papermill": {
     "duration": 0.13706,
     "end_time": "2022-12-11T13:21:12.913858",
     "exception": false,
     "start_time": "2022-12-11T13:21:12.776798",
     "status": "completed"
    },
    "tags": []
   },
   "source": [
    "# Section III - Testing Different Sample Sizes"
   ]
  },
  {
   "cell_type": "markdown",
   "id": "9b18a217",
   "metadata": {
    "papermill": {
     "duration": 0.134086,
     "end_time": "2022-12-11T13:21:13.183557",
     "exception": false,
     "start_time": "2022-12-11T13:21:13.049471",
     "status": "completed"
    },
    "tags": []
   },
   "source": [
    "In this section, we will check the effects of sample size on the length of the confidence interval and on the result of the Wald test.\n",
    "\n",
    "We will check sample sizes 30, 50 ,100, 500:"
   ]
  },
  {
   "cell_type": "code",
   "execution_count": 18,
   "id": "ba328daa",
   "metadata": {
    "execution": {
     "iopub.execute_input": "2022-12-11T13:21:13.462427Z",
     "iopub.status.busy": "2022-12-11T13:21:13.459451Z",
     "iopub.status.idle": "2022-12-11T13:21:13.465125Z",
     "shell.execute_reply": "2022-12-11T13:21:13.464545Z",
     "shell.execute_reply.started": "2022-02-28T20:36:00.503235Z"
    },
    "papermill": {
     "duration": 0.148833,
     "end_time": "2022-12-11T13:21:13.465304",
     "exception": false,
     "start_time": "2022-12-11T13:21:13.316471",
     "status": "completed"
    },
    "tags": []
   },
   "outputs": [],
   "source": [
    "samples = [data.sample(30, random_state=0), data.sample(50, random_state=1), data.sample(100, random_state=2), data.sample(500, random_state=3)]"
   ]
  },
  {
   "cell_type": "markdown",
   "id": "9953df66",
   "metadata": {
    "papermill": {
     "duration": 0.134861,
     "end_time": "2022-12-11T13:21:13.734982",
     "exception": false,
     "start_time": "2022-12-11T13:21:13.600121",
     "status": "completed"
    },
    "tags": []
   },
   "source": [
    "First we will calculate confidence intervals for the expected value:"
   ]
  },
  {
   "cell_type": "code",
   "execution_count": 19,
   "id": "52637622",
   "metadata": {
    "execution": {
     "iopub.execute_input": "2022-12-11T13:21:14.008709Z",
     "iopub.status.busy": "2022-12-11T13:21:14.004578Z",
     "iopub.status.idle": "2022-12-11T13:21:14.014603Z",
     "shell.execute_reply": "2022-12-11T13:21:14.014003Z",
     "shell.execute_reply.started": "2022-02-28T20:36:00.529553Z"
    },
    "papermill": {
     "duration": 0.150888,
     "end_time": "2022-12-11T13:21:14.014791",
     "exception": false,
     "start_time": "2022-12-11T13:21:13.863903",
     "status": "completed"
    },
    "tags": []
   },
   "outputs": [
    {
     "name": "stdout",
     "output_type": "stream",
     "text": [
      "size 30\n",
      "Confidence interval for right:\n",
      "[62.022814212202164, 67.72718578779784]\n",
      "Confidence interval for left:\n",
      "[63.67950620106143, 72.32049379893857]\n",
      "\n",
      "size 50\n",
      "Confidence interval for right:\n",
      "[62.45628395883981, 66.87704937449354]\n",
      "Confidence interval for left:\n",
      "[66.5217739794083, 71.7282260205917]\n",
      "\n",
      "size 100\n",
      "Confidence interval for right:\n",
      "[64.41827438871866, 67.46267799223372]\n",
      "Confidence interval for left:\n",
      "[64.84692112155533, 73.52807887844467]\n",
      "\n",
      "size 500\n",
      "Confidence interval for right:\n",
      "[66.2585103171271, 67.7414896828729]\n",
      "Confidence interval for left:\n",
      "[66.26972363417228, 68.92407481544014]\n",
      "\n"
     ]
    }
   ],
   "source": [
    "for data, i in zip(samples, [30,50,100,500]):\n",
    "    print('size', i)\n",
    "    data_right = data.loc[data['Preferred Foot'] == 'Right']['Overall']\n",
    "    data_left = data.loc[data['Preferred Foot'] == 'Left']['Overall']\n",
    "    print('Confidence interval for right:')\n",
    "    print([data_right.mean() - 2*data_right.std()/(len(data_right)**(1/2)), data_right.mean() + 2*data_right.std()/(len(data_right)**(1/2))])\n",
    "    print('Confidence interval for left:')\n",
    "    print([data_left.mean() - 2*data_left.std()/(len(data_left)**(1/2)), data_left.mean() + 2*data_left.std()/(len(data_left)**(1/2))])\n",
    "    print()"
   ]
  },
  {
   "cell_type": "markdown",
   "id": "02b5461e",
   "metadata": {
    "papermill": {
     "duration": 0.135833,
     "end_time": "2022-12-11T13:21:14.285794",
     "exception": false,
     "start_time": "2022-12-11T13:21:14.149961",
     "status": "completed"
    },
    "tags": []
   },
   "source": [
    "All confidence intervals are longer than the confidence interval we have calculated in Section I. Also, while the confidence interval for right improves as we add more data, the confidence interval for left only significantly improves at size 500. This probably happens because left is under represented in our data."
   ]
  },
  {
   "cell_type": "markdown",
   "id": "9d6172c3",
   "metadata": {
    "papermill": {
     "duration": 0.129472,
     "end_time": "2022-12-11T13:21:14.546921",
     "exception": false,
     "start_time": "2022-12-11T13:21:14.417449",
     "status": "completed"
    },
    "tags": []
   },
   "source": [
    "Wald tests:"
   ]
  },
  {
   "cell_type": "code",
   "execution_count": 20,
   "id": "45918d42",
   "metadata": {
    "execution": {
     "iopub.execute_input": "2022-12-11T13:21:14.826381Z",
     "iopub.status.busy": "2022-12-11T13:21:14.818028Z",
     "iopub.status.idle": "2022-12-11T13:21:14.838185Z",
     "shell.execute_reply": "2022-12-11T13:21:14.837543Z",
     "shell.execute_reply.started": "2022-02-28T20:36:00.555094Z"
    },
    "papermill": {
     "duration": 0.15845,
     "end_time": "2022-12-11T13:21:14.838341",
     "exception": false,
     "start_time": "2022-12-11T13:21:14.679891",
     "status": "completed"
    },
    "tags": []
   },
   "outputs": [
    {
     "name": "stdout",
     "output_type": "stream",
     "text": [
      "size 30\n",
      "True\n",
      "Wald pvalue: 0.3079375453093691\n",
      "\n",
      "size 50\n",
      "True\n",
      "Wald pvalue: 0.08766881916344538\n",
      "\n",
      "size 100\n",
      "True\n",
      "Wald pvalue: 0.10120536121710488\n",
      "\n",
      "size 500\n",
      "True\n",
      "Wald pvalue: 0.4202079143157551\n",
      "\n"
     ]
    }
   ],
   "source": [
    "for data, i in zip(samples, [30, 50, 100,500]):\n",
    "    print('size', i)\n",
    "    data_right = data.loc[data['Preferred Foot'] == 'Right']['Overall']\n",
    "    data_left = data.loc[data['Preferred Foot'] == 'Left']['Overall']\n",
    "    n_right = len(data_right)\n",
    "    n_left = len(data_left)\n",
    "    sp = (((n_right-1)*data_right.std()**2 + (n_left - 1)*data_left.std()**2)/(n_right + n_left - 2))**(1/2)\n",
    "    tn = (data_right.mean() - data_left.mean()) / (sp * (1/n_right + 1/n_left)**(1/2))\n",
    "    rej = norm.ppf(0.975)\n",
    "    if abs(tn) > rej:\n",
    "        print(False)\n",
    "    else:\n",
    "        print(True)\n",
    "    pvalue_Wald = (1 - norm.cdf(abs(tn)))*2\n",
    "    print('Wald pvalue:', pvalue_Wald)\n",
    "    print()"
   ]
  },
  {
   "cell_type": "markdown",
   "id": "c0339a52",
   "metadata": {
    "papermill": {
     "duration": 0.131656,
     "end_time": "2022-12-11T13:21:15.107178",
     "exception": false,
     "start_time": "2022-12-11T13:21:14.975522",
     "status": "completed"
    },
    "tags": []
   },
   "source": [
    "Unlike the tests we performed in Section II, All Wald tests maintain $H_0$. We think that the means are different but are very close to each other. As such, we need a big sample size to confidently attribute this difference to different means."
   ]
  },
  {
   "cell_type": "code",
   "execution_count": 21,
   "id": "06129641",
   "metadata": {
    "execution": {
     "iopub.execute_input": "2022-12-11T13:21:15.390992Z",
     "iopub.status.busy": "2022-12-11T13:21:15.385726Z",
     "iopub.status.idle": "2022-12-11T13:21:16.968637Z",
     "shell.execute_reply": "2022-12-11T13:21:16.967939Z",
     "shell.execute_reply.started": "2022-02-28T20:36:00.586613Z"
    },
    "papermill": {
     "duration": 1.728373,
     "end_time": "2022-12-11T13:21:16.968787",
     "exception": false,
     "start_time": "2022-12-11T13:21:15.240414",
     "status": "completed"
    },
    "tags": []
   },
   "outputs": [
    {
     "data": {
      "image/png": "[encoded data removed]",
      "text/plain": [
       "<Figure size 720x720 with 5 Axes>"
      ]
     },
     "metadata": {
      "needs_background": "light"
     },
     "output_type": "display_data"
    }
   ],
   "source": [
    "info = {n : {'avg_len_left': 0, 'avg_len_right':0, 'percentage_left': 0, 'percentage_right':0, 'pvalue':0} for n in [30, 50, 100, 500]}\n",
    "for i in range(100):\n",
    "    samples = [data.sample(30), data.sample(50), data.sample(100), data.sample(500)]\n",
    "    while len(samples[0].loc[samples[0]['Preferred Foot'] == 'Left']) == 0:\n",
    "        samples[0] = data.sample(30)\n",
    "    for sample, i in zip(samples, [30,50,100,500]):\n",
    "        data_right = sample.loc[sample['Preferred Foot'] == 'Right']['Overall']\n",
    "        data_left = sample.loc[sample['Preferred Foot'] == 'Left']['Overall']\n",
    "        n_right = len(data_right)\n",
    "        n_left = len(data_left)\n",
    "        sp = (((n_right-1)*data_right.std()**2 + (n_left - 1)*data_left.std()**2)/(n_right + n_left - 2))**(1/2)\n",
    "        tn = (data_right.mean() - data_left.mean()) / (sp * (1/n_right + 1/n_left)**(1/2))\n",
    "        info[i]['pvalue'] += (1 - norm.cdf(abs(tn)))*2\n",
    "        CI_right = [data_right.mean() - 2*data_right.std()/(n_right**(1/2)), data_right.mean() + 2*data_right.std()/(n_right**(1/2))]\n",
    "        CI_left = [data_left.mean() - 2*data_left.std()/(n_left**(1/2)), data_left.mean() + 2*data_left.std()/(n_left**(1/2))]\n",
    "        info[i]['avg_len_left'] += CI_left[1] - CI_left[0]\n",
    "        info[i]['avg_len_right'] += CI_right[1] - CI_right[0]\n",
    "        if CI_left[0] <= mean_left <= CI_left[1]:\n",
    "            info[i]['percentage_left'] += 1\n",
    "        if CI_right[0] <= mean_right <= CI_right[1]:\n",
    "            info[i]['percentage_right'] += 1 \n",
    "points_len_left = []\n",
    "points_len_right = []\n",
    "points_percentage_left = []\n",
    "points_percentage_right = []\n",
    "points_pvalue = []\n",
    "for size in info:\n",
    "    points_len_left.append((size, info[size]['avg_len_left']/100))\n",
    "    points_len_right.append((size, info[size]['avg_len_right']/100))\n",
    "    points_percentage_left.append((size, info[size]['percentage_left']/100))\n",
    "    points_percentage_right.append((size, info[size]['percentage_right']/100))\n",
    "    points_pvalue.append((size, info[size]['pvalue']/100))\n",
    "fig, axs = plt.subplots(5, figsize=(10,10))\n",
    "axs[0].scatter(*zip(*points_len_left))\n",
    "axs[0].set_title('Average Length Left')\n",
    "axs[1].scatter(*zip(*points_len_right))\n",
    "axs[1].set_title('Average Length Right')\n",
    "axs[2].scatter(*zip(*points_percentage_left))\n",
    "axs[2].set_title('Percentage of Left Intervals that Include mean')\n",
    "axs[3].scatter(*zip(*points_percentage_right))\n",
    "axs[3].set_title('Percentage of Right Intervals that Include mean')\n",
    "axs[4].scatter(*zip(*points_pvalue))\n",
    "axs[4].set_title('Average Wald Pvalue')\n",
    "plt.tight_layout()"
   ]
  },
  {
   "cell_type": "markdown",
   "id": "bb75bd7f",
   "metadata": {
    "papermill": {
     "duration": 0.130184,
     "end_time": "2022-12-11T13:21:17.230356",
     "exception": false,
     "start_time": "2022-12-11T13:21:17.100172",
     "status": "completed"
    },
    "tags": []
   },
   "source": [
    "# Part III"
   ]
  },
  {
   "cell_type": "markdown",
   "id": "51f7443e",
   "metadata": {
    "papermill": {
     "duration": 0.129032,
     "end_time": "2022-12-11T13:21:17.489119",
     "exception": false,
     "start_time": "2022-12-11T13:21:17.360087",
     "status": "completed"
    },
    "tags": []
   },
   "source": [
    "# Section I - Linear Regression"
   ]
  },
  {
   "cell_type": "markdown",
   "id": "62e0f17b",
   "metadata": {
    "papermill": {
     "duration": 0.129002,
     "end_time": "2022-12-11T13:21:17.747827",
     "exception": false,
     "start_time": "2022-12-11T13:21:17.618825",
     "status": "completed"
    },
    "tags": []
   },
   "source": [
    "In this section we will check the effects of the Agility rating, Stamina rating and Preferred Foot on the Overall rating of a player."
   ]
  },
  {
   "cell_type": "code",
   "execution_count": 22,
   "id": "6c27fab0",
   "metadata": {
    "execution": {
     "iopub.execute_input": "2022-12-11T13:21:18.017249Z",
     "iopub.status.busy": "2022-12-11T13:21:18.016367Z",
     "iopub.status.idle": "2022-12-11T13:21:18.219924Z",
     "shell.execute_reply": "2022-12-11T13:21:18.220478Z",
     "shell.execute_reply.started": "2022-02-28T20:36:02.237294Z"
    },
    "papermill": {
     "duration": 0.34354,
     "end_time": "2022-12-11T13:21:18.220677",
     "exception": false,
     "start_time": "2022-12-11T13:21:17.877137",
     "status": "completed"
    },
    "tags": []
   },
   "outputs": [],
   "source": [
    "data = fifa.loc[:, ('Overall', 'Stamina', 'Agility', 'Preferred Foot')]\n",
    "data['Preferred_Foot'] = data.apply(lambda row: 1 if row['Preferred Foot'] == 'Left' else 2, axis=1)\n",
    "sample = data.sample(200, random_state=0)"
   ]
  },
  {
   "cell_type": "markdown",
   "id": "582070ab",
   "metadata": {
    "papermill": {
     "duration": 0.128574,
     "end_time": "2022-12-11T13:21:18.478658",
     "exception": false,
     "start_time": "2022-12-11T13:21:18.350084",
     "status": "completed"
    },
    "tags": []
   },
   "source": [
    "**Initial Data Visualization**"
   ]
  },
  {
   "cell_type": "code",
   "execution_count": 23,
   "id": "ffe8ea97",
   "metadata": {
    "execution": {
     "iopub.execute_input": "2022-12-11T13:21:18.740098Z",
     "iopub.status.busy": "2022-12-11T13:21:18.739424Z",
     "iopub.status.idle": "2022-12-11T13:21:19.275465Z",
     "shell.execute_reply": "2022-12-11T13:21:19.274780Z",
     "shell.execute_reply.started": "2022-02-28T20:36:02.531985Z"
    },
    "papermill": {
     "duration": 0.668321,
     "end_time": "2022-12-11T13:21:19.275628",
     "exception": false,
     "start_time": "2022-12-11T13:21:18.607307",
     "status": "completed"
    },
    "tags": []
   },
   "outputs": [
    {
     "data": {
      "image/png": "[encoded data removed]",
      "text/plain": [
       "<Figure size 576x576 with 4 Axes>"
      ]
     },
     "metadata": {
      "needs_background": "light"
     },
     "output_type": "display_data"
    }
   ],
   "source": [
    "sample[['Agility', 'Stamina', 'Overall']].hist(figsize=(8,8.), grid=False, ec='black');"
   ]
  },
  {
   "cell_type": "code",
   "execution_count": 24,
   "id": "46ffc07a",
   "metadata": {
    "execution": {
     "iopub.execute_input": "2022-12-11T13:21:19.549450Z",
     "iopub.status.busy": "2022-12-11T13:21:19.548755Z",
     "iopub.status.idle": "2022-12-11T13:21:19.551373Z",
     "shell.execute_reply": "2022-12-11T13:21:19.551925Z",
     "shell.execute_reply.started": "2022-02-28T20:36:03.113976Z"
    },
    "papermill": {
     "duration": 0.141099,
     "end_time": "2022-12-11T13:21:19.552118",
     "exception": false,
     "start_time": "2022-12-11T13:21:19.411019",
     "status": "completed"
    },
    "tags": []
   },
   "outputs": [
    {
     "data": {
      "text/plain": [
       "count       200\n",
       "unique        2\n",
       "top       Right\n",
       "freq        155\n",
       "Name: Preferred Foot, dtype: object"
      ]
     },
     "execution_count": 24,
     "metadata": {},
     "output_type": "execute_result"
    }
   ],
   "source": [
    "sample['Preferred Foot'].describe()"
   ]
  },
  {
   "cell_type": "code",
   "execution_count": 25,
   "id": "fa197b9f",
   "metadata": {
    "execution": {
     "iopub.execute_input": "2022-12-11T13:21:19.815132Z",
     "iopub.status.busy": "2022-12-11T13:21:19.814456Z",
     "iopub.status.idle": "2022-12-11T13:21:20.207147Z",
     "shell.execute_reply": "2022-12-11T13:21:20.206085Z",
     "shell.execute_reply.started": "2022-02-28T20:36:03.129158Z"
    },
    "papermill": {
     "duration": 0.525511,
     "end_time": "2022-12-11T13:21:20.207344",
     "exception": false,
     "start_time": "2022-12-11T13:21:19.681833",
     "status": "completed"
    },
    "tags": []
   },
   "outputs": [
    {
     "data": {
      "image/png": "[encoded data removed]",
      "text/plain": [
       "<Figure size 432x288 with 1 Axes>"
      ]
     },
     "metadata": {
      "needs_background": "light"
     },
     "output_type": "display_data"
    },
    {
     "data": {
      "image/png": "[encoded data removed]",
      "text/plain": [
       "<Figure size 432x288 with 1 Axes>"
      ]
     },
     "metadata": {
      "needs_background": "light"
     },
     "output_type": "display_data"
    }
   ],
   "source": [
    "sample[['Overall', 'Agility']].groupby('Agility', as_index=False).mean().plot('Agility', 'Overall');\n",
    "sample[['Overall', 'Stamina']].groupby('Stamina', as_index=False).mean().plot('Stamina', 'Overall');"
   ]
  },
  {
   "cell_type": "markdown",
   "id": "041bbc1d",
   "metadata": {
    "papermill": {
     "duration": 0.131272,
     "end_time": "2022-12-11T13:21:20.487150",
     "exception": false,
     "start_time": "2022-12-11T13:21:20.355878",
     "status": "completed"
    },
    "tags": []
   },
   "source": [
    "From the graphs, it seems that the overall rating fluctuates wildly between different values of Agility and Stamina. However, there does seem to be a slight upwards trend in both graphs, it seems that generally when Stamina or Agility increase Overall also increases. from these graphs it is difficult to determine which variable affects Overall more."
   ]
  },
  {
   "cell_type": "code",
   "execution_count": 26,
   "id": "f01a302a",
   "metadata": {
    "execution": {
     "iopub.execute_input": "2022-12-11T13:21:20.762505Z",
     "iopub.status.busy": "2022-12-11T13:21:20.761743Z",
     "iopub.status.idle": "2022-12-11T13:21:21.215645Z",
     "shell.execute_reply": "2022-12-11T13:21:21.215055Z",
     "shell.execute_reply.started": "2022-02-28T20:36:03.523808Z"
    },
    "papermill": {
     "duration": 0.597141,
     "end_time": "2022-12-11T13:21:21.215822",
     "exception": false,
     "start_time": "2022-12-11T13:21:20.618681",
     "status": "completed"
    },
    "tags": []
   },
   "outputs": [
    {
     "data": {
      "image/png": "[encoded data removed]",
      "text/plain": [
       "<Figure size 432x432 with 2 Axes>"
      ]
     },
     "metadata": {
      "needs_background": "light"
     },
     "output_type": "display_data"
    }
   ],
   "source": [
    "sample.hist('Overall', by='Preferred Foot', bins=10, figsize=(6,6), xrot=360, ec='black');"
   ]
  },
  {
   "cell_type": "markdown",
   "id": "24295eba",
   "metadata": {
    "papermill": {
     "duration": 0.133329,
     "end_time": "2022-12-11T13:21:21.484873",
     "exception": false,
     "start_time": "2022-12-11T13:21:21.351544",
     "status": "completed"
    },
    "tags": []
   },
   "source": [
    "**Finding Coefficients**"
   ]
  },
  {
   "cell_type": "code",
   "execution_count": 27,
   "id": "7b01709e",
   "metadata": {
    "execution": {
     "iopub.execute_input": "2022-12-11T13:21:21.762193Z",
     "iopub.status.busy": "2022-12-11T13:21:21.761202Z",
     "iopub.status.idle": "2022-12-11T13:21:21.781365Z",
     "shell.execute_reply": "2022-12-11T13:21:21.782018Z",
     "shell.execute_reply.started": "2022-02-28T20:36:04.020293Z"
    },
    "papermill": {
     "duration": 0.161312,
     "end_time": "2022-12-11T13:21:21.782199",
     "exception": false,
     "start_time": "2022-12-11T13:21:21.620887",
     "status": "completed"
    },
    "tags": []
   },
   "outputs": [
    {
     "data": {
      "text/plain": [
       "Intercept         53.386748\n",
       "Agility            0.077061\n",
       "Stamina            0.139271\n",
       "Preferred_Foot    -0.607783\n",
       "dtype: float64"
      ]
     },
     "execution_count": 27,
     "metadata": {},
     "output_type": "execute_result"
    }
   ],
   "source": [
    "model_sample = smf.ols('Overall ~ Agility + Stamina + Preferred_Foot', sample).fit()\n",
    "model_sample.params"
   ]
  },
  {
   "cell_type": "markdown",
   "id": "35deed81",
   "metadata": {
    "papermill": {
     "duration": 0.140333,
     "end_time": "2022-12-11T13:21:22.058206",
     "exception": false,
     "start_time": "2022-12-11T13:21:21.917873",
     "status": "completed"
    },
    "tags": []
   },
   "source": [
    "In this case, we got small coefficients and a large constant. For Agility and Stamina we see that the model thinks Agility and Stamina have a positive effect on Overall (i.e. Higher Stamina/Agility leads to higher Overall) but changing Stamina or Agility by a single unit barely affects the Overall score. Also our model gives negative weight to Preferred_Foot, meaning that the Overall rating of right-footed players is lower according to the model."
   ]
  },
  {
   "cell_type": "markdown",
   "id": "1ed8d133",
   "metadata": {
    "papermill": {
     "duration": 0.13371,
     "end_time": "2022-12-11T13:21:22.326317",
     "exception": false,
     "start_time": "2022-12-11T13:21:22.192607",
     "status": "completed"
    },
    "tags": []
   },
   "source": [
    "**Anova Table, R Squared, R Squared Adj, F Pvalue**"
   ]
  },
  {
   "cell_type": "code",
   "execution_count": 28,
   "id": "97fcdcac",
   "metadata": {
    "execution": {
     "iopub.execute_input": "2022-12-11T13:21:22.602121Z",
     "iopub.status.busy": "2022-12-11T13:21:22.601381Z",
     "iopub.status.idle": "2022-12-11T13:21:22.612261Z",
     "shell.execute_reply": "2022-12-11T13:21:22.611579Z",
     "shell.execute_reply.started": "2022-02-28T20:36:04.048992Z"
    },
    "papermill": {
     "duration": 0.151707,
     "end_time": "2022-12-11T13:21:22.612405",
     "exception": false,
     "start_time": "2022-12-11T13:21:22.460698",
     "status": "completed"
    },
    "tags": []
   },
   "outputs": [
    {
     "data": {
      "text/html": [
       "<div>\n",
       "<style scoped>\n",
       "    .dataframe tbody tr th:only-of-type {\n",
       "        vertical-align: middle;\n",
       "    }\n",
       "\n",
       "    .dataframe tbody tr th {\n",
       "        vertical-align: top;\n",
       "    }\n",
       "\n",
       "    .dataframe thead th {\n",
       "        text-align: right;\n",
       "    }\n",
       "</style>\n",
       "<table border=\"1\" class=\"dataframe\">\n",
       "  <thead>\n",
       "    <tr style=\"text-align: right;\">\n",
       "      <th></th>\n",
       "      <th>Source of Variation</th>\n",
       "      <th>SS</th>\n",
       "      <th>df</th>\n",
       "      <th>MS</th>\n",
       "      <th>F</th>\n",
       "    </tr>\n",
       "  </thead>\n",
       "  <tbody>\n",
       "    <tr>\n",
       "      <th>0</th>\n",
       "      <td>Reg</td>\n",
       "      <td>1770.335706</td>\n",
       "      <td>3</td>\n",
       "      <td>590.111902</td>\n",
       "      <td>15.551886</td>\n",
       "    </tr>\n",
       "    <tr>\n",
       "      <th>1</th>\n",
       "      <td>Res</td>\n",
       "      <td>7437.164294</td>\n",
       "      <td>196</td>\n",
       "      <td>37.944716</td>\n",
       "      <td>NaN</td>\n",
       "    </tr>\n",
       "    <tr>\n",
       "      <th>2</th>\n",
       "      <td>Total</td>\n",
       "      <td>9207.500000</td>\n",
       "      <td>199</td>\n",
       "      <td>NaN</td>\n",
       "      <td>NaN</td>\n",
       "    </tr>\n",
       "  </tbody>\n",
       "</table>\n",
       "</div>"
      ],
      "text/plain": [
       "  Source of Variation           SS   df          MS          F\n",
       "0                 Reg  1770.335706    3  590.111902  15.551886\n",
       "1                 Res  7437.164294  196   37.944716        NaN\n",
       "2               Total  9207.500000  199         NaN        NaN"
      ]
     },
     "execution_count": 28,
     "metadata": {},
     "output_type": "execute_result"
    }
   ],
   "source": [
    "anova = {'Source of Variation': ['Reg', 'Res', 'Total'], 'SS': [model_sample.ess, np.sum(model_sample.resid**2), model_sample.centered_tss], 'df': [3, 196, 199], 'MS': [model_sample.mse_model, model_sample.mse_resid, None], 'F': [model_sample.mse_model/model_sample.mse_resid, None, None]}\n",
    "pd.DataFrame(data=anova)"
   ]
  },
  {
   "cell_type": "code",
   "execution_count": 29,
   "id": "f5dcb650",
   "metadata": {
    "execution": {
     "iopub.execute_input": "2022-12-11T13:21:22.887590Z",
     "iopub.status.busy": "2022-12-11T13:21:22.886776Z",
     "iopub.status.idle": "2022-12-11T13:21:22.890029Z",
     "shell.execute_reply": "2022-12-11T13:21:22.890544Z",
     "shell.execute_reply.started": "2022-02-28T20:36:04.06691Z"
    },
    "papermill": {
     "duration": 0.143282,
     "end_time": "2022-12-11T13:21:22.890733",
     "exception": false,
     "start_time": "2022-12-11T13:21:22.747451",
     "status": "completed"
    },
    "tags": []
   },
   "outputs": [
    {
     "name": "stdout",
     "output_type": "stream",
     "text": [
      "R^2: 0.192\n",
      "R^2_adj: 0.180\n",
      "F Pvalue: 4.09877469101466e-09\n"
     ]
    }
   ],
   "source": [
    "print('R^2: %.3f' % model_sample.rsquared)\n",
    "print('R^2_adj: %.3f' % model_sample.rsquared_adj)\n",
    "print('F Pvalue:', model_sample.f_pvalue)"
   ]
  },
  {
   "cell_type": "markdown",
   "id": "617b2aae",
   "metadata": {
    "papermill": {
     "duration": 0.13568,
     "end_time": "2022-12-11T13:21:23.163719",
     "exception": false,
     "start_time": "2022-12-11T13:21:23.028039",
     "status": "completed"
    },
    "tags": []
   },
   "source": [
    "**Confidence Intervals for beta**"
   ]
  },
  {
   "cell_type": "code",
   "execution_count": 30,
   "id": "fc4501c3",
   "metadata": {
    "execution": {
     "iopub.execute_input": "2022-12-11T13:21:23.460429Z",
     "iopub.status.busy": "2022-12-11T13:21:23.459062Z",
     "iopub.status.idle": "2022-12-11T13:21:23.470696Z",
     "shell.execute_reply": "2022-12-11T13:21:23.468895Z",
     "shell.execute_reply.started": "2022-02-28T20:36:04.082679Z"
    },
    "papermill": {
     "duration": 0.17019,
     "end_time": "2022-12-11T13:21:23.470966",
     "exception": false,
     "start_time": "2022-12-11T13:21:23.300776",
     "status": "completed"
    },
    "tags": []
   },
   "outputs": [
    {
     "data": {
      "text/html": [
       "<div>\n",
       "<style scoped>\n",
       "    .dataframe tbody tr th:only-of-type {\n",
       "        vertical-align: middle;\n",
       "    }\n",
       "\n",
       "    .dataframe tbody tr th {\n",
       "        vertical-align: top;\n",
       "    }\n",
       "\n",
       "    .dataframe thead th {\n",
       "        text-align: right;\n",
       "    }\n",
       "</style>\n",
       "<table border=\"1\" class=\"dataframe\">\n",
       "  <thead>\n",
       "    <tr style=\"text-align: right;\">\n",
       "      <th></th>\n",
       "      <th>Parameter</th>\n",
       "      <th>Low</th>\n",
       "      <th>High</th>\n",
       "    </tr>\n",
       "  </thead>\n",
       "  <tbody>\n",
       "    <tr>\n",
       "      <th>0</th>\n",
       "      <td>b0</td>\n",
       "      <td>47.560938</td>\n",
       "      <td>59.212559</td>\n",
       "    </tr>\n",
       "    <tr>\n",
       "      <th>1</th>\n",
       "      <td>b1</td>\n",
       "      <td>0.014445</td>\n",
       "      <td>0.139678</td>\n",
       "    </tr>\n",
       "    <tr>\n",
       "      <th>2</th>\n",
       "      <td>b2</td>\n",
       "      <td>0.076074</td>\n",
       "      <td>0.202468</td>\n",
       "    </tr>\n",
       "    <tr>\n",
       "      <th>3</th>\n",
       "      <td>b3</td>\n",
       "      <td>-2.681851</td>\n",
       "      <td>1.466286</td>\n",
       "    </tr>\n",
       "  </tbody>\n",
       "</table>\n",
       "</div>"
      ],
      "text/plain": [
       "  Parameter        Low       High\n",
       "0        b0  47.560938  59.212559\n",
       "1        b1   0.014445   0.139678\n",
       "2        b2   0.076074   0.202468\n",
       "3        b3  -2.681851   1.466286"
      ]
     },
     "execution_count": 30,
     "metadata": {},
     "output_type": "execute_result"
    }
   ],
   "source": [
    "C = np.ones((200,4))\n",
    "C[:,1:] = sample[['Agility', 'Stamina', 'Preferred_Foot']].to_numpy()\n",
    "C = np.linalg.inv((C.T@C))\n",
    "var_error = np.sum(model_sample.resid**2)/196\n",
    "conf_int = {'Parameter': [], 'Low': [], 'High': []}\n",
    "for i in range(4):\n",
    "    b_hat = model_sample.params[i]\n",
    "    ci_low = b_hat - t.ppf(0.975, 196)*np.sqrt(var_error*C[i][i])\n",
    "    ci_high = b_hat + t.ppf(0.975, 196)*np.sqrt(var_error*C[i][i])\n",
    "    conf_int['Parameter'].append('b%s' % i)\n",
    "    conf_int['Low'].append(ci_low)\n",
    "    conf_int['High'].append(ci_high)\n",
    "pd.DataFrame(data=conf_int)"
   ]
  },
  {
   "cell_type": "code",
   "execution_count": 31,
   "id": "bbfc8902",
   "metadata": {
    "execution": {
     "iopub.execute_input": "2022-12-11T13:21:23.804231Z",
     "iopub.status.busy": "2022-12-11T13:21:23.803110Z",
     "iopub.status.idle": "2022-12-11T13:21:23.824352Z",
     "shell.execute_reply": "2022-12-11T13:21:23.825287Z",
     "shell.execute_reply.started": "2022-02-28T20:36:04.124358Z"
    },
    "papermill": {
     "duration": 0.163727,
     "end_time": "2022-12-11T13:21:23.825640",
     "exception": false,
     "start_time": "2022-12-11T13:21:23.661913",
     "status": "completed"
    },
    "tags": []
   },
   "outputs": [
    {
     "data": {
      "text/plain": [
       "Intercept         55.176439\n",
       "Agility            0.039248\n",
       "Stamina            0.138124\n",
       "Preferred_Foot    -0.085453\n",
       "dtype: float64"
      ]
     },
     "execution_count": 31,
     "metadata": {},
     "output_type": "execute_result"
    }
   ],
   "source": [
    "model_data = smf.ols('Overall ~ Agility + Stamina + Preferred_Foot', data).fit()\n",
    "model_data.params"
   ]
  },
  {
   "cell_type": "markdown",
   "id": "5d42bc50",
   "metadata": {
    "papermill": {
     "duration": 0.135809,
     "end_time": "2022-12-11T13:21:24.163363",
     "exception": false,
     "start_time": "2022-12-11T13:21:24.027554",
     "status": "completed"
    },
    "tags": []
   },
   "source": [
    "All coefficients based on the full data are in the confidence intervals."
   ]
  },
  {
   "cell_type": "markdown",
   "id": "02c2880a",
   "metadata": {
    "papermill": {
     "duration": 0.134629,
     "end_time": "2022-12-11T13:21:24.432642",
     "exception": false,
     "start_time": "2022-12-11T13:21:24.298013",
     "status": "completed"
    },
    "tags": []
   },
   "source": [
    "**Likelihood Ratio Test**"
   ]
  },
  {
   "cell_type": "markdown",
   "id": "a473b5f5",
   "metadata": {
    "papermill": {
     "duration": 0.134562,
     "end_time": "2022-12-11T13:21:24.701817",
     "exception": false,
     "start_time": "2022-12-11T13:21:24.567255",
     "status": "completed"
    },
    "tags": []
   },
   "source": [
    "$$ H_0: \\beta_1=\\beta_2=\\beta_3=0 $$\n",
    "$$ H_1: \\exists {j>0}, \\beta_j\\neq{0} $$"
   ]
  },
  {
   "cell_type": "markdown",
   "id": "8d63af47",
   "metadata": {
    "papermill": {
     "duration": 0.135455,
     "end_time": "2022-12-11T13:21:24.971714",
     "exception": false,
     "start_time": "2022-12-11T13:21:24.836259",
     "status": "completed"
    },
    "tags": []
   },
   "source": [
    "We will use the likelihood ratio test to determine if our model represents the data better than the null model. To use the likelihood ratio test we assume that our errors come from N(0,$\\sigma^2$) and that the errors are independant. Additionally we assume that there exists some $\\beta_0,\\beta_1,\\beta_2,\\beta_3$ such that $Overall = \\beta_0 + \\beta_1*Agility + \\beta_2*Stamina + \\beta_3*PreferredFoot$.\n",
    "The test statistic is $log(L(\\hat{\\beta_{0, F}},\\hat{\\beta_{1, F}},\\hat{\\beta_{2, F}},\\hat{\\beta_{3, F}}, \\hat{\\sigma_F})) - log(L(\\hat{\\beta_{0, N}},0,0,0, \\hat{\\sigma_N}))$.\n",
    "Under $H_0$ the test statistic is distributed $\\chi^2_3$"
   ]
  },
  {
   "cell_type": "code",
   "execution_count": 32,
   "id": "40e1ec1a",
   "metadata": {
    "execution": {
     "iopub.execute_input": "2022-12-11T13:21:25.252443Z",
     "iopub.status.busy": "2022-12-11T13:21:25.251406Z",
     "iopub.status.idle": "2022-12-11T13:21:25.258698Z",
     "shell.execute_reply": "2022-12-11T13:21:25.259265Z",
     "shell.execute_reply.started": "2022-02-28T20:36:04.168306Z"
    },
    "papermill": {
     "duration": 0.149344,
     "end_time": "2022-12-11T13:21:25.259441",
     "exception": false,
     "start_time": "2022-12-11T13:21:25.110097",
     "status": "completed"
    },
    "tags": []
   },
   "outputs": [
    {
     "name": "stdout",
     "output_type": "stream",
     "text": [
      "Likelihood Ratio Pvalue: 2.8417260674526844e-09\n"
     ]
    }
   ],
   "source": [
    "null_model = smf.ols('Overall ~ 1', sample).fit()\n",
    "print('Likelihood Ratio Pvalue:', model_sample.compare_lr_test(null_model)[1])"
   ]
  },
  {
   "cell_type": "markdown",
   "id": "5324da50",
   "metadata": {
    "papermill": {
     "duration": 0.136047,
     "end_time": "2022-12-11T13:21:25.530581",
     "exception": false,
     "start_time": "2022-12-11T13:21:25.394534",
     "status": "completed"
    },
    "tags": []
   },
   "source": [
    "The pvalue is small enough to reject $H_0$ under any reasonable confidence level."
   ]
  },
  {
   "cell_type": "markdown",
   "id": "1bbe0c5c",
   "metadata": {
    "papermill": {
     "duration": 0.137705,
     "end_time": "2022-12-11T13:21:25.805643",
     "exception": false,
     "start_time": "2022-12-11T13:21:25.667938",
     "status": "completed"
    },
    "tags": []
   },
   "source": [
    "**Residue Analysis**"
   ]
  },
  {
   "cell_type": "code",
   "execution_count": 33,
   "id": "7abcbb96",
   "metadata": {
    "execution": {
     "iopub.execute_input": "2022-12-11T13:21:26.092143Z",
     "iopub.status.busy": "2022-12-11T13:21:26.091036Z",
     "iopub.status.idle": "2022-12-11T13:21:26.340492Z",
     "shell.execute_reply": "2022-12-11T13:21:26.339881Z",
     "shell.execute_reply.started": "2022-02-28T20:36:04.197548Z"
    },
    "papermill": {
     "duration": 0.399481,
     "end_time": "2022-12-11T13:21:26.340667",
     "exception": false,
     "start_time": "2022-12-11T13:21:25.941186",
     "status": "completed"
    },
    "tags": []
   },
   "outputs": [
    {
     "data": {
      "image/png": "[encoded data removed]",
      "text/plain": [
       "<Figure size 432x288 with 1 Axes>"
      ]
     },
     "metadata": {
      "needs_background": "light"
     },
     "output_type": "display_data"
    }
   ],
   "source": [
    "plt.scatter(model_sample.fittedvalues, model_sample.resid);\n",
    "plt.xlabel('y hat')\n",
    "plt.ylabel('Residue')\n",
    "plt.plot(range(55, 75), np.zeros((20,)), color='red');"
   ]
  },
  {
   "cell_type": "markdown",
   "id": "183d83e3",
   "metadata": {
    "papermill": {
     "duration": 0.136084,
     "end_time": "2022-12-11T13:21:26.613237",
     "exception": false,
     "start_time": "2022-12-11T13:21:26.477153",
     "status": "completed"
    },
    "tags": []
   },
   "source": [
    " The points are symmetrical (more or less) around the X axis. This leads us to conclude that our model is unbiased and that it is reasonable to assume that the error is distributed normally. Additionally, we see that the \"width\" between the points is roughly equal across the graph. Thus we conclude that homoscedasticity is a reasonable assumption. Overall, it seems that the linearity assumption is reasonable."
   ]
  },
  {
   "cell_type": "markdown",
   "id": "5a68b356",
   "metadata": {
    "papermill": {
     "duration": 0.137369,
     "end_time": "2022-12-11T13:21:26.886768",
     "exception": false,
     "start_time": "2022-12-11T13:21:26.749399",
     "status": "completed"
    },
    "tags": []
   },
   "source": [
    "**Testing the Model**"
   ]
  },
  {
   "cell_type": "code",
   "execution_count": 34,
   "id": "f424a5d1",
   "metadata": {
    "execution": {
     "iopub.execute_input": "2022-12-11T13:21:27.170276Z",
     "iopub.status.busy": "2022-12-11T13:21:27.169228Z",
     "iopub.status.idle": "2022-12-11T13:21:27.203831Z",
     "shell.execute_reply": "2022-12-11T13:21:27.205318Z",
     "shell.execute_reply.started": "2022-02-28T20:36:04.47445Z"
    },
    "papermill": {
     "duration": 0.180795,
     "end_time": "2022-12-11T13:21:27.205742",
     "exception": false,
     "start_time": "2022-12-11T13:21:27.024947",
     "status": "completed"
    },
    "tags": []
   },
   "outputs": [
    {
     "data": {
      "text/plain": [
       "0.937"
      ]
     },
     "execution_count": 34,
     "metadata": {},
     "output_type": "execute_result"
    }
   ],
   "source": [
    "test_sample = data.drop(sample.index).sample(1000, random_state=1)\n",
    "test_sample['const'] = 1\n",
    "predictions = model_sample.get_prediction(test_sample)\n",
    "test_sample_numpy = test_sample[['const', 'Agility', 'Stamina', 'Preferred_Foot']].to_numpy()\n",
    "ci_low = model_sample.params@test_sample_numpy.T - t.ppf(0.975, 196)*np.sqrt(var_error)*np.sqrt(np.diag(test_sample_numpy@C@test_sample_numpy.T)+1)\n",
    "ci_high = model_sample.params@test_sample_numpy.T + t.ppf(0.975, 196)*np.sqrt(var_error)*np.sqrt(np.diag(test_sample_numpy@C@test_sample_numpy.T)+1)\n",
    "in_ci = (ci_low < test_sample['Overall']) & (test_sample['Overall'] < ci_high)\n",
    "in_ci.mean()"
   ]
  },
  {
   "cell_type": "markdown",
   "id": "83f5afe3",
   "metadata": {
    "papermill": {
     "duration": 0.137285,
     "end_time": "2022-12-11T13:21:27.540855",
     "exception": false,
     "start_time": "2022-12-11T13:21:27.403570",
     "status": "completed"
    },
    "tags": []
   },
   "source": [
    "In this case, we got that 93.7% of the real values are in the confidence intervals. The confidence intervals are based on the linearity assumption and normal errors assumption, among others. The fact that our confidence intervals are \"working as intended\" shows that our assumptions are reasonable."
   ]
  },
  {
   "cell_type": "markdown",
   "id": "ce3c6495",
   "metadata": {
    "papermill": {
     "duration": 0.189647,
     "end_time": "2022-12-11T13:21:27.870931",
     "exception": false,
     "start_time": "2022-12-11T13:21:27.681284",
     "status": "completed"
    },
    "tags": []
   },
   "source": [
    "**Model with First Order Interactions**"
   ]
  },
  {
   "cell_type": "code",
   "execution_count": 35,
   "id": "fb66ff1a",
   "metadata": {
    "execution": {
     "iopub.execute_input": "2022-12-11T13:21:28.162975Z",
     "iopub.status.busy": "2022-12-11T13:21:28.161890Z",
     "iopub.status.idle": "2022-12-11T13:21:28.167497Z",
     "shell.execute_reply": "2022-12-11T13:21:28.168072Z",
     "shell.execute_reply.started": "2022-02-28T20:36:04.518931Z"
    },
    "papermill": {
     "duration": 0.156646,
     "end_time": "2022-12-11T13:21:28.168248",
     "exception": false,
     "start_time": "2022-12-11T13:21:28.011602",
     "status": "completed"
    },
    "tags": []
   },
   "outputs": [
    {
     "data": {
      "text/plain": [
       "(1299.3951673461902,\n",
       " 1322.4833889120264,\n",
       " 0.21365331713512659,\n",
       " 0.18920730626886095)"
      ]
     },
     "execution_count": 35,
     "metadata": {},
     "output_type": "execute_result"
    }
   ],
   "source": [
    "new_model_sample = smf.ols('Overall ~ Agility * Stamina * Preferred_Foot - Agility:Stamina:Preferred_Foot ', sample).fit()\n",
    "new_model_sample.aic, new_model_sample.bic, new_model_sample.rsquared, new_model_sample.rsquared_adj"
   ]
  },
  {
   "cell_type": "code",
   "execution_count": 36,
   "id": "398f8db5",
   "metadata": {
    "execution": {
     "iopub.execute_input": "2022-12-11T13:21:28.451292Z",
     "iopub.status.busy": "2022-12-11T13:21:28.450593Z",
     "iopub.status.idle": "2022-12-11T13:21:28.453014Z",
     "shell.execute_reply": "2022-12-11T13:21:28.453489Z",
     "shell.execute_reply.started": "2022-02-28T20:36:04.566942Z"
    },
    "papermill": {
     "duration": 0.146082,
     "end_time": "2022-12-11T13:21:28.453687",
     "exception": false,
     "start_time": "2022-12-11T13:21:28.307605",
     "status": "completed"
    },
    "tags": []
   },
   "outputs": [],
   "source": [
    "model_sample.aic, model_sample.bic, model_sample.rsquared, model_sample.rsquared_adj\n",
    "sample_lin = sample"
   ]
  },
  {
   "cell_type": "markdown",
   "id": "0339e7ad",
   "metadata": {
    "papermill": {
     "duration": 0.137091,
     "end_time": "2022-12-11T13:21:28.728853",
     "exception": false,
     "start_time": "2022-12-11T13:21:28.591762",
     "status": "completed"
    },
    "tags": []
   },
   "source": [
    "The new model has a higher AIC and a higher BIC than the previous model. It also has a higher $R^2$ coefficent and a higher $R^2_{adj}$ coefficent. Based on these metrics, we will prefer the new model."
   ]
  },
  {
   "cell_type": "markdown",
   "id": "1121c1cc",
   "metadata": {
    "papermill": {
     "duration": 0.139766,
     "end_time": "2022-12-11T13:21:29.006764",
     "exception": false,
     "start_time": "2022-12-11T13:21:28.866998",
     "status": "completed"
    },
    "tags": []
   },
   "source": [
    "# Section II - Logistic regression"
   ]
  },
  {
   "cell_type": "markdown",
   "id": "b3d83763",
   "metadata": {
    "papermill": {
     "duration": 0.137786,
     "end_time": "2022-12-11T13:21:29.284808",
     "exception": false,
     "start_time": "2022-12-11T13:21:29.147022",
     "status": "completed"
    },
    "tags": []
   },
   "source": [
    "In this section we will check the effects of the Agility rating, Stamina rating and Week Foot on the Preffered Foot of a player."
   ]
  },
  {
   "cell_type": "code",
   "execution_count": 37,
   "id": "fdb604ff",
   "metadata": {
    "execution": {
     "iopub.execute_input": "2022-12-11T13:21:29.563280Z",
     "iopub.status.busy": "2022-12-11T13:21:29.562557Z",
     "iopub.status.idle": "2022-12-11T13:21:29.766069Z",
     "shell.execute_reply": "2022-12-11T13:21:29.766671Z",
     "shell.execute_reply.started": "2022-02-28T20:36:04.587837Z"
    },
    "papermill": {
     "duration": 0.345048,
     "end_time": "2022-12-11T13:21:29.766876",
     "exception": false,
     "start_time": "2022-12-11T13:21:29.421828",
     "status": "completed"
    },
    "tags": []
   },
   "outputs": [],
   "source": [
    "data = fifa.loc[:, ('Weak Foot', 'Stamina', 'Agility', 'Preferred Foot')]\n",
    "data['Preferred_Foot'] = data.apply(lambda row: 0 if row['Preferred Foot'] == 'Left' else 1, axis=1)\n",
    "del data['Preferred Foot']\n",
    "data = data.rename({'Weak Foot' : 'Weak_Foot'}, axis=1)\n",
    "sample = data.sample(200, random_state=0)"
   ]
  },
  {
   "cell_type": "markdown",
   "id": "05b6597a",
   "metadata": {
    "papermill": {
     "duration": 0.13993,
     "end_time": "2022-12-11T13:21:30.047505",
     "exception": false,
     "start_time": "2022-12-11T13:21:29.907575",
     "status": "completed"
    },
    "tags": []
   },
   "source": [
    "**Initial Data Visualization**"
   ]
  },
  {
   "cell_type": "code",
   "execution_count": 38,
   "id": "0b4b5acb",
   "metadata": {
    "execution": {
     "iopub.execute_input": "2022-12-11T13:21:30.336004Z",
     "iopub.status.busy": "2022-12-11T13:21:30.335205Z",
     "iopub.status.idle": "2022-12-11T13:21:30.339677Z",
     "shell.execute_reply": "2022-12-11T13:21:30.339035Z",
     "shell.execute_reply.started": "2022-02-28T20:36:04.875951Z"
    },
    "papermill": {
     "duration": 0.151373,
     "end_time": "2022-12-11T13:21:30.339820",
     "exception": false,
     "start_time": "2022-12-11T13:21:30.188447",
     "status": "completed"
    },
    "tags": []
   },
   "outputs": [
    {
     "data": {
      "text/plain": [
       "count    200.00000\n",
       "mean       2.96500\n",
       "std        0.62909\n",
       "min        1.00000\n",
       "25%        3.00000\n",
       "50%        3.00000\n",
       "75%        3.00000\n",
       "max        5.00000\n",
       "Name: Weak_Foot, dtype: float64"
      ]
     },
     "execution_count": 38,
     "metadata": {},
     "output_type": "execute_result"
    }
   ],
   "source": [
    "sample['Weak_Foot'].describe()"
   ]
  },
  {
   "cell_type": "code",
   "execution_count": 39,
   "id": "752fda84",
   "metadata": {
    "execution": {
     "iopub.execute_input": "2022-12-11T13:21:30.624272Z",
     "iopub.status.busy": "2022-12-11T13:21:30.623532Z",
     "iopub.status.idle": "2022-12-11T13:21:31.125320Z",
     "shell.execute_reply": "2022-12-11T13:21:31.124685Z",
     "shell.execute_reply.started": "2022-02-28T20:36:04.891239Z"
    },
    "papermill": {
     "duration": 0.648154,
     "end_time": "2022-12-11T13:21:31.125461",
     "exception": false,
     "start_time": "2022-12-11T13:21:30.477307",
     "status": "completed"
    },
    "tags": []
   },
   "outputs": [
    {
     "data": {
      "image/png": "[encoded data removed]",
      "text/plain": [
       "<Figure size 432x288 with 1 Axes>"
      ]
     },
     "metadata": {
      "needs_background": "light"
     },
     "output_type": "display_data"
    },
    {
     "data": {
      "image/png": "[encoded data removed]",
      "text/plain": [
       "<Figure size 432x288 with 1 Axes>"
      ]
     },
     "metadata": {
      "needs_background": "light"
     },
     "output_type": "display_data"
    }
   ],
   "source": [
    "sample[['Preferred_Foot', 'Agility']].groupby('Agility', as_index=False).mean().plot('Agility', 'Preferred_Foot');\n",
    "sample[['Preferred_Foot', 'Stamina']].groupby('Stamina', as_index=False).mean().plot('Stamina', 'Preferred_Foot');"
   ]
  },
  {
   "cell_type": "markdown",
   "id": "0416b883",
   "metadata": {
    "papermill": {
     "duration": 0.139983,
     "end_time": "2022-12-11T13:21:31.431815",
     "exception": false,
     "start_time": "2022-12-11T13:21:31.291832",
     "status": "completed"
    },
    "tags": []
   },
   "source": [
    "Seems that stamina has a slight impact on Preferred_Foot, the less stamina a player has, the more likely he is to prefere his right foot while Agility seems not to have impact on Preferred Foot."
   ]
  },
  {
   "cell_type": "code",
   "execution_count": 40,
   "id": "1da31d71",
   "metadata": {
    "execution": {
     "iopub.execute_input": "2022-12-11T13:21:31.729630Z",
     "iopub.status.busy": "2022-12-11T13:21:31.728216Z",
     "iopub.status.idle": "2022-12-11T13:21:31.746004Z",
     "shell.execute_reply": "2022-12-11T13:21:31.747114Z",
     "shell.execute_reply.started": "2022-02-28T20:36:05.380529Z"
    },
    "papermill": {
     "duration": 0.175215,
     "end_time": "2022-12-11T13:21:31.747451",
     "exception": false,
     "start_time": "2022-12-11T13:21:31.572236",
     "status": "completed"
    },
    "tags": []
   },
   "outputs": [
    {
     "name": "stdout",
     "output_type": "stream",
     "text": [
      "Optimization terminated successfully.\n",
      "         Current function value: 0.509603\n",
      "         Iterations 6\n"
     ]
    },
    {
     "data": {
      "text/plain": [
       "Intercept    1.011460\n",
       "Agility     -0.004538\n",
       "Stamina     -0.024984\n",
       "Weak_Foot    0.732844\n",
       "dtype: float64"
      ]
     },
     "execution_count": 40,
     "metadata": {},
     "output_type": "execute_result"
    }
   ],
   "source": [
    "log_reg = smf.logit(formula = str('Preferred_Foot ~ Agility + Stamina + Weak_Foot'), data = sample).fit()\n",
    "log_reg.params"
   ]
  },
  {
   "cell_type": "markdown",
   "id": "6e694ab5",
   "metadata": {
    "papermill": {
     "duration": 0.141532,
     "end_time": "2022-12-11T13:21:32.097317",
     "exception": false,
     "start_time": "2022-12-11T13:21:31.955785",
     "status": "completed"
    },
    "tags": []
   },
   "source": [
    "We got small negative parameters for Agility and Stamina meaning that they barely affects the Preferred Foot foot of a player according to the model. Weak foot has a larger positive coefficient meaning that right footed players has larger value of Weak Foot, in other words, a player that playes well with his weak foot more likely to right footed. Here, increasing a parameter in one unit will affect the explained variable by e to the power of its coefficient."
   ]
  },
  {
   "cell_type": "markdown",
   "id": "f0b0789a",
   "metadata": {
    "papermill": {
     "duration": 0.145003,
     "end_time": "2022-12-11T13:21:32.386084",
     "exception": false,
     "start_time": "2022-12-11T13:21:32.241081",
     "status": "completed"
    },
    "tags": []
   },
   "source": [
    "**Confidence intervals for beta coefficients**"
   ]
  },
  {
   "cell_type": "code",
   "execution_count": 41,
   "id": "19db57b1",
   "metadata": {
    "execution": {
     "iopub.execute_input": "2022-12-11T13:21:32.683781Z",
     "iopub.status.busy": "2022-12-11T13:21:32.683022Z",
     "iopub.status.idle": "2022-12-11T13:21:32.696585Z",
     "shell.execute_reply": "2022-12-11T13:21:32.697248Z",
     "shell.execute_reply.started": "2022-02-28T20:36:05.416462Z"
    },
    "papermill": {
     "duration": 0.17167,
     "end_time": "2022-12-11T13:21:32.697438",
     "exception": false,
     "start_time": "2022-12-11T13:21:32.525768",
     "status": "completed"
    },
    "tags": []
   },
   "outputs": [
    {
     "data": {
      "text/html": [
       "<table class=\"simpletable\">\n",
       "<caption>Logit Regression Results</caption>\n",
       "<tr>\n",
       "  <th>Dep. Variable:</th>    <td>Preferred_Foot</td>  <th>  No. Observations:  </th>  <td>   200</td> \n",
       "</tr>\n",
       "<tr>\n",
       "  <th>Model:</th>                 <td>Logit</td>      <th>  Df Residuals:      </th>  <td>   196</td> \n",
       "</tr>\n",
       "<tr>\n",
       "  <th>Method:</th>                 <td>MLE</td>       <th>  Df Model:          </th>  <td>     3</td> \n",
       "</tr>\n",
       "<tr>\n",
       "  <th>Date:</th>            <td>Sun, 11 Dec 2022</td> <th>  Pseudo R-squ.:     </th>  <td>0.04419</td>\n",
       "</tr>\n",
       "<tr>\n",
       "  <th>Time:</th>                <td>13:21:32</td>     <th>  Log-Likelihood:    </th> <td> -101.92</td>\n",
       "</tr>\n",
       "<tr>\n",
       "  <th>converged:</th>             <td>True</td>       <th>  LL-Null:           </th> <td> -106.63</td>\n",
       "</tr>\n",
       "<tr>\n",
       "  <th>Covariance Type:</th>     <td>nonrobust</td>    <th>  LLR p-value:       </th>  <td>0.02415</td>\n",
       "</tr>\n",
       "</table>\n",
       "<table class=\"simpletable\">\n",
       "<tr>\n",
       "      <td></td>         <th>coef</th>     <th>std err</th>      <th>z</th>      <th>P>|z|</th>  <th>[0.025</th>    <th>0.975]</th>  \n",
       "</tr>\n",
       "<tr>\n",
       "  <th>Intercept</th> <td>    1.0115</td> <td>    1.096</td> <td>    0.922</td> <td> 0.356</td> <td>   -1.138</td> <td>    3.161</td>\n",
       "</tr>\n",
       "<tr>\n",
       "  <th>Agility</th>   <td>   -0.0045</td> <td>    0.013</td> <td>   -0.349</td> <td> 0.727</td> <td>   -0.030</td> <td>    0.021</td>\n",
       "</tr>\n",
       "<tr>\n",
       "  <th>Stamina</th>   <td>   -0.0250</td> <td>    0.013</td> <td>   -1.854</td> <td> 0.064</td> <td>   -0.051</td> <td>    0.001</td>\n",
       "</tr>\n",
       "<tr>\n",
       "  <th>Weak_Foot</th> <td>    0.7328</td> <td>    0.307</td> <td>    2.385</td> <td> 0.017</td> <td>    0.131</td> <td>    1.335</td>\n",
       "</tr>\n",
       "</table>"
      ],
      "text/plain": [
       "<class 'statsmodels.iolib.summary.Summary'>\n",
       "\"\"\"\n",
       "                           Logit Regression Results                           \n",
       "==============================================================================\n",
       "Dep. Variable:         Preferred_Foot   No. Observations:                  200\n",
       "Model:                          Logit   Df Residuals:                      196\n",
       "Method:                           MLE   Df Model:                            3\n",
       "Date:                Sun, 11 Dec 2022   Pseudo R-squ.:                 0.04419\n",
       "Time:                        13:21:32   Log-Likelihood:                -101.92\n",
       "converged:                       True   LL-Null:                       -106.63\n",
       "Covariance Type:            nonrobust   LLR p-value:                   0.02415\n",
       "==============================================================================\n",
       "                 coef    std err          z      P>|z|      [0.025      0.975]\n",
       "------------------------------------------------------------------------------\n",
       "Intercept      1.0115      1.096      0.922      0.356      -1.138       3.161\n",
       "Agility       -0.0045      0.013     -0.349      0.727      -0.030       0.021\n",
       "Stamina       -0.0250      0.013     -1.854      0.064      -0.051       0.001\n",
       "Weak_Foot      0.7328      0.307      2.385      0.017       0.131       1.335\n",
       "==============================================================================\n",
       "\"\"\""
      ]
     },
     "execution_count": 41,
     "metadata": {},
     "output_type": "execute_result"
    }
   ],
   "source": [
    "log_reg.summary()"
   ]
  },
  {
   "cell_type": "code",
   "execution_count": 42,
   "id": "2dd665ad",
   "metadata": {
    "execution": {
     "iopub.execute_input": "2022-12-11T13:21:32.987499Z",
     "iopub.status.busy": "2022-12-11T13:21:32.986486Z",
     "iopub.status.idle": "2022-12-11T13:21:33.047334Z",
     "shell.execute_reply": "2022-12-11T13:21:33.048407Z",
     "shell.execute_reply.started": "2022-02-28T20:36:05.458589Z"
    },
    "papermill": {
     "duration": 0.207408,
     "end_time": "2022-12-11T13:21:33.048744",
     "exception": false,
     "start_time": "2022-12-11T13:21:32.841336",
     "status": "completed"
    },
    "tags": []
   },
   "outputs": [
    {
     "name": "stdout",
     "output_type": "stream",
     "text": [
      "Optimization terminated successfully.\n",
      "         Current function value: 0.527923\n",
      "         Iterations 6\n"
     ]
    },
    {
     "data": {
      "text/plain": [
       "Intercept    1.766665\n",
       "Agility     -0.019403\n",
       "Stamina     -0.009447\n",
       "Weak_Foot    0.442527\n",
       "dtype: float64"
      ]
     },
     "execution_count": 42,
     "metadata": {},
     "output_type": "execute_result"
    }
   ],
   "source": [
    "model_data = smf.logit('Preferred_Foot ~ Agility + Stamina + Weak_Foot', data).fit()\n",
    "model_data.params"
   ]
  },
  {
   "cell_type": "markdown",
   "id": "d97ac733",
   "metadata": {
    "papermill": {
     "duration": 0.144482,
     "end_time": "2022-12-11T13:21:33.405923",
     "exception": false,
     "start_time": "2022-12-11T13:21:33.261441",
     "status": "completed"
    },
    "tags": []
   },
   "source": [
    "All betas of the full data are in the confidence intervals"
   ]
  },
  {
   "cell_type": "markdown",
   "id": "7a3e5892",
   "metadata": {
    "papermill": {
     "duration": 0.142045,
     "end_time": "2022-12-11T13:21:33.691121",
     "exception": false,
     "start_time": "2022-12-11T13:21:33.549076",
     "status": "completed"
    },
    "tags": []
   },
   "source": [
    "**Adding interactions to the model**"
   ]
  },
  {
   "cell_type": "code",
   "execution_count": 43,
   "id": "c47a65a7",
   "metadata": {
    "execution": {
     "iopub.execute_input": "2022-12-11T13:21:33.999429Z",
     "iopub.status.busy": "2022-12-11T13:21:33.981539Z",
     "iopub.status.idle": "2022-12-11T13:21:34.015157Z",
     "shell.execute_reply": "2022-12-11T13:21:34.016666Z",
     "shell.execute_reply.started": "2022-02-28T20:36:05.530448Z"
    },
    "papermill": {
     "duration": 0.18287,
     "end_time": "2022-12-11T13:21:34.017044",
     "exception": false,
     "start_time": "2022-12-11T13:21:33.834174",
     "status": "completed"
    },
    "tags": []
   },
   "outputs": [
    {
     "name": "stdout",
     "output_type": "stream",
     "text": [
      "Optimization terminated successfully.\n",
      "         Current function value: 0.503438\n",
      "         Iterations 6\n"
     ]
    },
    {
     "data": {
      "text/plain": [
       "(215.3753954519084, 238.46361701774464)"
      ]
     },
     "execution_count": 43,
     "metadata": {},
     "output_type": "execute_result"
    }
   ],
   "source": [
    "new_log_reg = smf.logit('Preferred_Foot ~ Agility * Stamina * Weak_Foot - Agility:Stamina:Weak_Foot ', sample).fit()\n",
    "new_log_reg.aic, new_log_reg.bic"
   ]
  },
  {
   "cell_type": "code",
   "execution_count": 44,
   "id": "11b45af6",
   "metadata": {
    "execution": {
     "iopub.execute_input": "2022-12-11T13:21:34.374029Z",
     "iopub.status.busy": "2022-12-11T13:21:34.373308Z",
     "iopub.status.idle": "2022-12-11T13:21:34.377904Z",
     "shell.execute_reply": "2022-12-11T13:21:34.377253Z",
     "shell.execute_reply.started": "2022-02-28T20:36:05.562934Z"
    },
    "papermill": {
     "duration": 0.154096,
     "end_time": "2022-12-11T13:21:34.378052",
     "exception": false,
     "start_time": "2022-12-11T13:21:34.223956",
     "status": "completed"
    },
    "tags": []
   },
   "outputs": [
    {
     "data": {
      "text/plain": [
       "(211.84130131536267, 225.0345707815548)"
      ]
     },
     "execution_count": 44,
     "metadata": {},
     "output_type": "execute_result"
    }
   ],
   "source": [
    "log_reg.aic, log_reg.bic"
   ]
  },
  {
   "cell_type": "markdown",
   "id": "32f5627d",
   "metadata": {
    "papermill": {
     "duration": 0.143287,
     "end_time": "2022-12-11T13:21:34.665220",
     "exception": false,
     "start_time": "2022-12-11T13:21:34.521933",
     "status": "completed"
    },
    "tags": []
   },
   "source": [
    "The new model has higher AIC & BIC, thus we prefere it."
   ]
  },
  {
   "cell_type": "markdown",
   "id": "fa789eb6",
   "metadata": {
    "papermill": {
     "duration": 0.142266,
     "end_time": "2022-12-11T13:21:34.951489",
     "exception": false,
     "start_time": "2022-12-11T13:21:34.809223",
     "status": "completed"
    },
    "tags": []
   },
   "source": [
    "Now we will use all columns allowing first order interactions, performing forward/backward stepwise regression using BIC score."
   ]
  },
  {
   "cell_type": "markdown",
   "id": "cc0517c0",
   "metadata": {
    "papermill": {
     "duration": 0.145673,
     "end_time": "2022-12-11T13:21:35.239341",
     "exception": false,
     "start_time": "2022-12-11T13:21:35.093668",
     "status": "completed"
    },
    "tags": []
   },
   "source": [
    "**Forward stepwise regression with BIC score**"
   ]
  },
  {
   "cell_type": "code",
   "execution_count": 45,
   "id": "a19e01f2",
   "metadata": {
    "execution": {
     "iopub.execute_input": "2022-12-11T13:21:35.540346Z",
     "iopub.status.busy": "2022-12-11T13:21:35.539294Z",
     "iopub.status.idle": "2022-12-11T13:21:35.892814Z",
     "shell.execute_reply": "2022-12-11T13:21:35.893901Z",
     "shell.execute_reply.started": "2022-02-28T20:36:05.575166Z"
    },
    "papermill": {
     "duration": 0.509424,
     "end_time": "2022-12-11T13:21:35.894229",
     "exception": false,
     "start_time": "2022-12-11T13:21:35.384805",
     "status": "completed"
    },
    "tags": []
   },
   "outputs": [
    {
     "name": "stdout",
     "output_type": "stream",
     "text": [
      "Optimization terminated successfully.\n",
      "         Current function value: 0.538923\n",
      "         Iterations 5\n",
      "Optimization terminated successfully.\n",
      "         Current function value: 0.532359\n",
      "         Iterations 6\n",
      "Optimization terminated successfully.\n",
      "         Current function value: 0.527923\n",
      "         Iterations 6\n",
      "Optimization terminated successfully.\n",
      "         Current function value: 0.525728\n",
      "         Iterations 6\n",
      "Optimization terminated successfully.\n",
      "         Current function value: 0.525346\n",
      "         Iterations 6\n",
      "Optimization terminated successfully.\n",
      "         Current function value: 0.525077\n",
      "         Iterations 6\n",
      "best model found: target is: Preferred_Foot, features: Weak_Foot , its BIC score is 19592\n"
     ]
    }
   ],
   "source": [
    "from itertools import combinations\n",
    "\n",
    "features = data.loc[:, data.columns != 'Preferred_Foot']\n",
    "target = data.loc[:, data.columns == 'Preferred_Foot']\n",
    "BICs = {}\n",
    "input_str = 'Preferred_Foot ~ '\n",
    "best_model = ''\n",
    "best_BIC = 0\n",
    "for k in range(1, 3):\n",
    "    for feature in combinations(features, k):\n",
    "        \n",
    "        if len(input_str) - len('Preferred_Foot ~ ') == 0:\n",
    "            input_str = input_str + '%s ' % (feature[0])\n",
    "        elif len(feature) <= 1:\n",
    "            input_str = input_str + '+ %s ' % (feature[0])\n",
    "        else:\n",
    "            input_str = input_str + '+ %s * %s ' % (feature[0], feature[1])\n",
    "        \n",
    "        model = smf.logit(input_str, data).fit()\n",
    "        \n",
    "        if len(BICs) == 0:\n",
    "            BICs[str(input_str)] = model.bic\n",
    "            best_model = input_str\n",
    "            best_BIC = model.bic\n",
    "        \n",
    "        if model.bic > max(BICs.values()):\n",
    "            BICs[str(input_str)] = model.bic\n",
    "            best_model = input_str\n",
    "            best_BIC = model.bic\n",
    "        else:\n",
    "            continue\n",
    "            \n",
    "output = best_model.split(' ~ ')     \n",
    "print('best model found: target is: %s, features: %s, its BIC score is %d' % (output[0], output[1], best_BIC))"
   ]
  },
  {
   "cell_type": "markdown",
   "id": "8aea112e",
   "metadata": {
    "papermill": {
     "duration": 0.150065,
     "end_time": "2022-12-11T13:21:36.256604",
     "exception": false,
     "start_time": "2022-12-11T13:21:36.106539",
     "status": "completed"
    },
    "tags": []
   },
   "source": [
    "**Backward stepwise regression with BIC score**"
   ]
  },
  {
   "cell_type": "code",
   "execution_count": 46,
   "id": "c54c69ad",
   "metadata": {
    "execution": {
     "iopub.execute_input": "2022-12-11T13:21:36.553578Z",
     "iopub.status.busy": "2022-12-11T13:21:36.552858Z",
     "iopub.status.idle": "2022-12-11T13:21:36.841036Z",
     "shell.execute_reply": "2022-12-11T13:21:36.842323Z",
     "shell.execute_reply.started": "2022-02-28T20:36:05.932807Z"
    },
    "papermill": {
     "duration": 0.442225,
     "end_time": "2022-12-11T13:21:36.842668",
     "exception": false,
     "start_time": "2022-12-11T13:21:36.400443",
     "status": "completed"
    },
    "tags": []
   },
   "outputs": [
    {
     "name": "stdout",
     "output_type": "stream",
     "text": [
      "Optimization terminated successfully.\n",
      "         Current function value: 0.525077\n",
      "         Iterations 6\n",
      "Optimization terminated successfully.\n",
      "         Current function value: 0.527012\n",
      "         Iterations 6\n",
      "Optimization terminated successfully.\n",
      "         Current function value: 0.527012\n",
      "         Iterations 6\n",
      "Optimization terminated successfully.\n",
      "         Current function value: 0.527012\n",
      "         Iterations 6\n",
      "Optimization terminated successfully.\n",
      "         Current function value: 0.538923\n",
      "         Iterations 5\n",
      "best model found: target is: Preferred_Foot, features: Weak_Foot, its BIC score is 19592\n"
     ]
    }
   ],
   "source": [
    "features = data.loc[:, data.columns != 'Preferred_Foot']\n",
    "target = data.loc[:, data.columns == 'Preferred_Foot']\n",
    "BICs = {}\n",
    "input_str = 'Preferred_Foot ~'\n",
    "best_model = ''\n",
    "best_BIC = 0\n",
    "model = []\n",
    "\n",
    "for k in range(1, 3):\n",
    "    for feature in combinations(features, k):\n",
    "        model.append(feature)\n",
    "model.reverse()\n",
    "\n",
    "for feature in model:\n",
    "    if len(input_str) - len('Preferred_Foot ~') == 0:\n",
    "        input_str = input_str + ' %s * %s' % (feature[0], feature[1])\n",
    "    elif len(feature) == 2:\n",
    "        input_str = input_str + ' + %s * %s' % (feature[0], feature[1])\n",
    "    else:\n",
    "        input_str = input_str + ' + %s' % (feature[0])\n",
    "\n",
    "log_reg = smf.logit(input_str, data).fit()\n",
    "BICs[str(input_str)] = log_reg.bic\n",
    "best_model = input_str\n",
    "best_BIC = log_reg.bic\n",
    "\n",
    "while len(model) >= 1:\n",
    "    model.pop(0)\n",
    "    input_str = 'Preferred_Foot ~'\n",
    "    for feature in model:\n",
    "         if len(input_str) - len('Preferred_Foot ~') == 0:\n",
    "            if len(feature) == 2:\n",
    "                input_str = input_str + ' %s * %s' % (feature[0], feature[1])\n",
    "            elif len(feature) == 1:\n",
    "                input_str = input_str + ' %s' % (feature[0])\n",
    "         elif len(feature) == 2:\n",
    "            input_str = input_str + ' + %s * %s' % (feature[0], feature[1])\n",
    "         else:\n",
    "            input_str = input_str + ' + %s' % (feature[0])\n",
    "\n",
    "         log_reg = smf.logit(input_str, data).fit()\n",
    "\n",
    "         if log_reg.bic > max(BICs.values()):\n",
    "            BICs[str(input_str)] = log_reg.bic\n",
    "            best_model = input_str\n",
    "            best_BIC = log_reg.bic\n",
    "            model.pop(0)\n",
    "         else:\n",
    "            model.pop(0)\n",
    "            continue\n",
    "        \n",
    "output = best_model.split(' ~ ')     \n",
    "print('best model found: target is: %s, features: %s, its BIC score is %d' % (output[0], output[1], best_BIC))"
   ]
  },
  {
   "cell_type": "markdown",
   "id": "ed7462df",
   "metadata": {
    "papermill": {
     "duration": 0.145542,
     "end_time": "2022-12-11T13:21:37.204186",
     "exception": false,
     "start_time": "2022-12-11T13:21:37.058644",
     "status": "completed"
    },
    "tags": []
   },
   "source": [
    "The two methods led to the same result"
   ]
  },
  {
   "cell_type": "markdown",
   "id": "2109526b",
   "metadata": {
    "papermill": {
     "duration": 0.145831,
     "end_time": "2022-12-11T13:21:37.494351",
     "exception": false,
     "start_time": "2022-12-11T13:21:37.348520",
     "status": "completed"
    },
    "tags": []
   },
   "source": [
    "**Forward stepwise regression with AIC score**"
   ]
  },
  {
   "cell_type": "code",
   "execution_count": 47,
   "id": "12b6db02",
   "metadata": {
    "execution": {
     "iopub.execute_input": "2022-12-11T13:21:37.794385Z",
     "iopub.status.busy": "2022-12-11T13:21:37.793632Z",
     "iopub.status.idle": "2022-12-11T13:21:38.151954Z",
     "shell.execute_reply": "2022-12-11T13:21:38.153790Z",
     "shell.execute_reply.started": "2022-02-28T20:36:06.234875Z"
    },
    "papermill": {
     "duration": 0.514135,
     "end_time": "2022-12-11T13:21:38.154200",
     "exception": false,
     "start_time": "2022-12-11T13:21:37.640065",
     "status": "completed"
    },
    "tags": []
   },
   "outputs": [
    {
     "name": "stdout",
     "output_type": "stream",
     "text": [
      "Optimization terminated successfully.\n",
      "         Current function value: 0.538923\n",
      "         Iterations 5\n",
      "Optimization terminated successfully.\n",
      "         Current function value: 0.532359\n",
      "         Iterations 6\n",
      "Optimization terminated successfully.\n",
      "         Current function value: 0.527923\n",
      "         Iterations 6\n",
      "Optimization terminated successfully.\n",
      "         Current function value: 0.525728\n",
      "         Iterations 6\n",
      "Optimization terminated successfully.\n",
      "         Current function value: 0.525346\n",
      "         Iterations 6\n",
      "Optimization terminated successfully.\n",
      "         Current function value: 0.525077\n",
      "         Iterations 6\n",
      "best model found: target is: Preferred_Foot, features: Weak_Foot , its AIC score is 19576\n"
     ]
    }
   ],
   "source": [
    "features = data.loc[:, data.columns != 'Preferred_Foot']\n",
    "target = data.loc[:, data.columns == 'Preferred_Foot']\n",
    "AICs = {}\n",
    "input_str = 'Preferred_Foot ~ '\n",
    "best_model = ''\n",
    "best_AIC = 0\n",
    "for k in range(1, 3):\n",
    "    for feature in combinations(features, k):\n",
    "        \n",
    "        if len(input_str) - len('Preferred_Foot ~ ') == 0:\n",
    "            input_str = input_str + '%s ' % (feature[0])\n",
    "        elif len(feature) <= 1:\n",
    "            input_str = input_str + '+ %s ' % (feature[0])\n",
    "        else:\n",
    "            input_str = input_str + '+ %s * %s ' % (feature[0], feature[1])\n",
    "        \n",
    "        model = smf.logit(input_str, data).fit()\n",
    "        \n",
    "        if len(AICs) == 0:\n",
    "            AICs[str(input_str)] = model.aic\n",
    "            best_model = input_str\n",
    "            best_AIC = model.aic\n",
    "        \n",
    "        if model.aic > max(AICs.values()):\n",
    "            AICs[str(input_str)] = model.aic\n",
    "            best_model = input_str\n",
    "            best_AIC = model.aic\n",
    "        else:\n",
    "            continue\n",
    "            \n",
    "output = best_model.split(' ~ ')     \n",
    "print('best model found: target is: %s, features: %s, its AIC score is %d' % (output[0], output[1], best_AIC))"
   ]
  },
  {
   "cell_type": "markdown",
   "id": "c61aeab1",
   "metadata": {
    "papermill": {
     "duration": 0.14485,
     "end_time": "2022-12-11T13:21:38.509163",
     "exception": false,
     "start_time": "2022-12-11T13:21:38.364313",
     "status": "completed"
    },
    "tags": []
   },
   "source": [
    "**Backward stepwise regression with AIC score**"
   ]
  },
  {
   "cell_type": "code",
   "execution_count": 48,
   "id": "8f4609cf",
   "metadata": {
    "execution": {
     "iopub.execute_input": "2022-12-11T13:21:38.810414Z",
     "iopub.status.busy": "2022-12-11T13:21:38.809670Z",
     "iopub.status.idle": "2022-12-11T13:21:39.109108Z",
     "shell.execute_reply": "2022-12-11T13:21:39.110979Z",
     "shell.execute_reply.started": "2022-02-28T20:36:06.59314Z"
    },
    "papermill": {
     "duration": 0.459039,
     "end_time": "2022-12-11T13:21:39.111377",
     "exception": false,
     "start_time": "2022-12-11T13:21:38.652338",
     "status": "completed"
    },
    "tags": []
   },
   "outputs": [
    {
     "name": "stdout",
     "output_type": "stream",
     "text": [
      "Optimization terminated successfully.\n",
      "         Current function value: 0.525077\n",
      "         Iterations 6\n",
      "Optimization terminated successfully.\n",
      "         Current function value: 0.527012\n",
      "         Iterations 6\n",
      "Optimization terminated successfully.\n",
      "         Current function value: 0.527012\n",
      "         Iterations 6\n",
      "Optimization terminated successfully.\n",
      "         Current function value: 0.527012\n",
      "         Iterations 6\n",
      "Optimization terminated successfully.\n",
      "         Current function value: 0.538923\n",
      "         Iterations 5\n",
      "best model found: target is: Preferred_Foot, features: Weak_Foot, its AIC score is 19576\n"
     ]
    }
   ],
   "source": [
    "features = data.loc[:, data.columns != 'Preferred_Foot']\n",
    "target = data.loc[:, data.columns == 'Preferred_Foot']\n",
    "AICs = {}\n",
    "input_str = 'Preferred_Foot ~'\n",
    "best_model = ''\n",
    "best_AIC = 0\n",
    "model = []\n",
    "\n",
    "for k in range(1, 3):\n",
    "    for feature in combinations(features, k):\n",
    "        model.append(feature)\n",
    "model.reverse()\n",
    "\n",
    "for feature in model:\n",
    "    if len(input_str) - len('Preferred_Foot ~') == 0:\n",
    "        input_str = input_str + ' %s * %s' % (feature[0], feature[1])\n",
    "    elif len(feature) == 2:\n",
    "        input_str = input_str + ' + %s * %s' % (feature[0], feature[1])\n",
    "    else:\n",
    "        input_str = input_str + ' + %s' % (feature[0])\n",
    "\n",
    "log_reg = smf.logit(input_str, data).fit()\n",
    "AICs[str(input_str)] = log_reg.aic\n",
    "best_model = input_str\n",
    "best_AIC = log_reg.aic\n",
    "\n",
    "while len(model) >= 1:\n",
    "    model.pop(0)\n",
    "    input_str = 'Preferred_Foot ~'\n",
    "    for feature in model:\n",
    "         if len(input_str) - len('Preferred_Foot ~') == 0:\n",
    "            if len(feature) == 2:\n",
    "                input_str = input_str + ' %s * %s' % (feature[0], feature[1])\n",
    "            elif len(feature) == 1:\n",
    "                input_str = input_str + ' %s' % (feature[0])\n",
    "         elif len(feature) == 2:\n",
    "            input_str = input_str + ' + %s * %s' % (feature[0], feature[1])\n",
    "         else:\n",
    "            input_str = input_str + ' + %s' % (feature[0])\n",
    "\n",
    "         log_reg = smf.logit(input_str, data).fit()\n",
    "\n",
    "         if log_reg.aic > max(AICs.values()):\n",
    "            AICs[str(input_str)] = log_reg.aic\n",
    "            best_model = input_str\n",
    "            best_AIC = log_reg.aic\n",
    "            model.pop(0)\n",
    "         else:\n",
    "            model.pop(0)\n",
    "            continue\n",
    "        \n",
    "output = best_model.split(' ~ ')     \n",
    "print('best model found: target is: %s, features: %s, its AIC score is %d' % (output[0], output[1], best_AIC))"
   ]
  },
  {
   "cell_type": "markdown",
   "id": "0f32b235",
   "metadata": {
    "papermill": {
     "duration": 0.15037,
     "end_time": "2022-12-11T13:21:39.473440",
     "exception": false,
     "start_time": "2022-12-11T13:21:39.323070",
     "status": "completed"
    },
    "tags": []
   },
   "source": [
    "AIC score is identical for both forward & backward"
   ]
  },
  {
   "cell_type": "markdown",
   "id": "2c5464ef",
   "metadata": {
    "papermill": {
     "duration": 0.144349,
     "end_time": "2022-12-11T13:21:39.762479",
     "exception": false,
     "start_time": "2022-12-11T13:21:39.618130",
     "status": "completed"
    },
    "tags": []
   },
   "source": [
    "AIC and BIC score are almost the same and giving the same model as a result, it means that the Weak_Foot feature is highly correlated with Preferred_Foot relatively to the rest of features."
   ]
  },
  {
   "cell_type": "markdown",
   "id": "777948d1",
   "metadata": {
    "papermill": {
     "duration": 0.147996,
     "end_time": "2022-12-11T13:21:40.064532",
     "exception": false,
     "start_time": "2022-12-11T13:21:39.916536",
     "status": "completed"
    },
    "tags": []
   },
   "source": [
    "# Part IV"
   ]
  },
  {
   "cell_type": "markdown",
   "id": "72366f13",
   "metadata": {
    "papermill": {
     "duration": 0.152024,
     "end_time": "2022-12-11T13:21:40.364314",
     "exception": false,
     "start_time": "2022-12-11T13:21:40.212290",
     "status": "completed"
    },
    "tags": []
   },
   "source": [
    "# Section I - Bootstrap"
   ]
  },
  {
   "cell_type": "markdown",
   "id": "bd47bd2a",
   "metadata": {
    "papermill": {
     "duration": 0.155441,
     "end_time": "2022-12-11T13:21:40.681528",
     "exception": false,
     "start_time": "2022-12-11T13:21:40.526087",
     "status": "completed"
    },
    "tags": []
   },
   "source": [
    "**Bootstrap Confidence Intervals**\n",
    "\n",
    "In this section we will build confidence intervals for $\\beta_0^*,...,\\beta_k^*$ from Part III using different bootstrap techniques. "
   ]
  },
  {
   "cell_type": "markdown",
   "id": "6771155b",
   "metadata": {
    "papermill": {
     "duration": 0.14491,
     "end_time": "2022-12-11T13:21:40.978727",
     "exception": false,
     "start_time": "2022-12-11T13:21:40.833817",
     "status": "completed"
    },
    "tags": []
   },
   "source": [
    "**Confidence Interval Without Bootstrap**"
   ]
  },
  {
   "cell_type": "code",
   "execution_count": 49,
   "id": "a857e9c6",
   "metadata": {
    "execution": {
     "iopub.execute_input": "2022-12-11T13:21:41.281165Z",
     "iopub.status.busy": "2022-12-11T13:21:41.280474Z",
     "iopub.status.idle": "2022-12-11T13:21:41.496359Z",
     "shell.execute_reply": "2022-12-11T13:21:41.495639Z",
     "shell.execute_reply.started": "2022-02-28T20:36:06.912297Z"
    },
    "papermill": {
     "duration": 0.372588,
     "end_time": "2022-12-11T13:21:41.496538",
     "exception": false,
     "start_time": "2022-12-11T13:21:41.123950",
     "status": "completed"
    },
    "tags": []
   },
   "outputs": [
    {
     "data": {
      "text/html": [
       "<div>\n",
       "<style scoped>\n",
       "    .dataframe tbody tr th:only-of-type {\n",
       "        vertical-align: middle;\n",
       "    }\n",
       "\n",
       "    .dataframe tbody tr th {\n",
       "        vertical-align: top;\n",
       "    }\n",
       "\n",
       "    .dataframe thead th {\n",
       "        text-align: right;\n",
       "    }\n",
       "</style>\n",
       "<table border=\"1\" class=\"dataframe\">\n",
       "  <thead>\n",
       "    <tr style=\"text-align: right;\">\n",
       "      <th></th>\n",
       "      <th>0</th>\n",
       "      <th>1</th>\n",
       "    </tr>\n",
       "  </thead>\n",
       "  <tbody>\n",
       "    <tr>\n",
       "      <th>Intercept</th>\n",
       "      <td>47.560938</td>\n",
       "      <td>59.212559</td>\n",
       "    </tr>\n",
       "    <tr>\n",
       "      <th>Agility</th>\n",
       "      <td>0.014445</td>\n",
       "      <td>0.139678</td>\n",
       "    </tr>\n",
       "    <tr>\n",
       "      <th>Stamina</th>\n",
       "      <td>0.076074</td>\n",
       "      <td>0.202468</td>\n",
       "    </tr>\n",
       "    <tr>\n",
       "      <th>Preferred_Foot</th>\n",
       "      <td>-2.681851</td>\n",
       "      <td>1.466286</td>\n",
       "    </tr>\n",
       "  </tbody>\n",
       "</table>\n",
       "</div>"
      ],
      "text/plain": [
       "                        0          1\n",
       "Intercept       47.560938  59.212559\n",
       "Agility          0.014445   0.139678\n",
       "Stamina          0.076074   0.202468\n",
       "Preferred_Foot  -2.681851   1.466286"
      ]
     },
     "execution_count": 49,
     "metadata": {},
     "output_type": "execute_result"
    }
   ],
   "source": [
    "data = fifa.loc[:, ('Overall', 'Stamina', 'Agility', 'Preferred Foot')]\n",
    "data['Preferred_Foot'] = data.apply(lambda row: 1 if row['Preferred Foot'] == 'Left' else 2, axis=1)\n",
    "model_sample = smf.ols('Overall ~ Agility + Stamina + Preferred_Foot', sample_lin).fit()\n",
    "model_sample.conf_int()"
   ]
  },
  {
   "cell_type": "markdown",
   "id": "72abdd2a",
   "metadata": {
    "papermill": {
     "duration": 0.144141,
     "end_time": "2022-12-11T13:21:41.786446",
     "exception": false,
     "start_time": "2022-12-11T13:21:41.642305",
     "status": "completed"
    },
    "tags": []
   },
   "source": [
    "**Bootstrap Confidence Interval - Normal Approximation**"
   ]
  },
  {
   "cell_type": "code",
   "execution_count": 50,
   "id": "c0bddde2",
   "metadata": {
    "execution": {
     "iopub.execute_input": "2022-12-11T13:21:42.087063Z",
     "iopub.status.busy": "2022-12-11T13:21:42.086255Z",
     "iopub.status.idle": "2022-12-11T13:21:45.734876Z",
     "shell.execute_reply": "2022-12-11T13:21:45.734303Z",
     "shell.execute_reply.started": "2022-02-28T20:36:07.242159Z"
    },
    "papermill": {
     "duration": 3.803159,
     "end_time": "2022-12-11T13:21:45.735024",
     "exception": false,
     "start_time": "2022-12-11T13:21:41.931865",
     "status": "completed"
    },
    "tags": []
   },
   "outputs": [
    {
     "data": {
      "text/html": [
       "<div>\n",
       "<style scoped>\n",
       "    .dataframe tbody tr th:only-of-type {\n",
       "        vertical-align: middle;\n",
       "    }\n",
       "\n",
       "    .dataframe tbody tr th {\n",
       "        vertical-align: top;\n",
       "    }\n",
       "\n",
       "    .dataframe thead th {\n",
       "        text-align: right;\n",
       "    }\n",
       "</style>\n",
       "<table border=\"1\" class=\"dataframe\">\n",
       "  <thead>\n",
       "    <tr style=\"text-align: right;\">\n",
       "      <th></th>\n",
       "      <th>Parameter</th>\n",
       "      <th>Low</th>\n",
       "      <th>High</th>\n",
       "    </tr>\n",
       "  </thead>\n",
       "  <tbody>\n",
       "    <tr>\n",
       "      <th>0</th>\n",
       "      <td>b0</td>\n",
       "      <td>47.143799</td>\n",
       "      <td>59.629698</td>\n",
       "    </tr>\n",
       "    <tr>\n",
       "      <th>1</th>\n",
       "      <td>b1</td>\n",
       "      <td>0.004403</td>\n",
       "      <td>0.149720</td>\n",
       "    </tr>\n",
       "    <tr>\n",
       "      <th>2</th>\n",
       "      <td>b2</td>\n",
       "      <td>0.067221</td>\n",
       "      <td>0.211322</td>\n",
       "    </tr>\n",
       "    <tr>\n",
       "      <th>3</th>\n",
       "      <td>b3</td>\n",
       "      <td>-2.646797</td>\n",
       "      <td>1.431232</td>\n",
       "    </tr>\n",
       "  </tbody>\n",
       "</table>\n",
       "</div>"
      ],
      "text/plain": [
       "  Parameter        Low       High\n",
       "0        b0  47.143799  59.629698\n",
       "1        b1   0.004403   0.149720\n",
       "2        b2   0.067221   0.211322\n",
       "3        b3  -2.646797   1.431232"
      ]
     },
     "execution_count": 50,
     "metadata": {},
     "output_type": "execute_result"
    }
   ],
   "source": [
    "B = 400\n",
    "features = ['Agility', 'Stamina', 'Preferred_Foot', 'Overall']\n",
    "parameters = {'b0' : [], \"b1\" : [], \"b2\" : [], \"b3\" : [] }\n",
    "\n",
    "for _ in  range(B):\n",
    "    model_sample1 = smf.ols('Overall ~ Agility + Stamina + Preferred_Foot', data.sample(200)).fit()\n",
    "    for i in range(len(model_sample1.params)):\n",
    "        parameters[f'b{i}'].append(model_sample1.params[i])\n",
    "\n",
    "\n",
    "var_list = {}\n",
    "for parameter in parameters:\n",
    "    mean = sum(parameters[parameter])/B\n",
    "    var_list[parameter] = 1/B * sum((t - mean)**2 for t in parameters[parameter])\n",
    "\n",
    "conf_int = {'Parameter': [], 'Low': [], 'High': []}\n",
    "for i in range(4):\n",
    "    b_hat = model_sample.params[i]\n",
    "    ci_low = b_hat -  norm.ppf(0.975)*np.sqrt(var_list[f'b{i}'])\n",
    "    ci_high = b_hat +  norm.ppf(0.975)*np.sqrt(var_list[f'b{i}'])\n",
    "    conf_int['Parameter'].append('b%s' % i)\n",
    "    conf_int['Low'].append(ci_low)\n",
    "    conf_int['High'].append(ci_high)\n",
    "    \n",
    "pd.DataFrame(data=conf_int)"
   ]
  },
  {
   "cell_type": "markdown",
   "id": "ec6f8a89",
   "metadata": {
    "papermill": {
     "duration": 0.149123,
     "end_time": "2022-12-11T13:21:46.033351",
     "exception": false,
     "start_time": "2022-12-11T13:21:45.884228",
     "status": "completed"
    },
    "tags": []
   },
   "source": [
    "**Bootstrap Confidence Interval - Pivot**"
   ]
  },
  {
   "cell_type": "code",
   "execution_count": 51,
   "id": "92ce849c",
   "metadata": {
    "execution": {
     "iopub.execute_input": "2022-12-11T13:21:46.340391Z",
     "iopub.status.busy": "2022-12-11T13:21:46.339330Z",
     "iopub.status.idle": "2022-12-11T13:21:50.262498Z",
     "shell.execute_reply": "2022-12-11T13:21:50.261953Z",
     "shell.execute_reply.started": "2022-02-28T20:36:10.993823Z"
    },
    "papermill": {
     "duration": 4.078866,
     "end_time": "2022-12-11T13:21:50.262699",
     "exception": false,
     "start_time": "2022-12-11T13:21:46.183833",
     "status": "completed"
    },
    "tags": []
   },
   "outputs": [
    {
     "data": {
      "text/html": [
       "<div>\n",
       "<style scoped>\n",
       "    .dataframe tbody tr th:only-of-type {\n",
       "        vertical-align: middle;\n",
       "    }\n",
       "\n",
       "    .dataframe tbody tr th {\n",
       "        vertical-align: top;\n",
       "    }\n",
       "\n",
       "    .dataframe thead th {\n",
       "        text-align: right;\n",
       "    }\n",
       "</style>\n",
       "<table border=\"1\" class=\"dataframe\">\n",
       "  <thead>\n",
       "    <tr style=\"text-align: right;\">\n",
       "      <th></th>\n",
       "      <th>Parameter</th>\n",
       "      <th>Low</th>\n",
       "      <th>High</th>\n",
       "    </tr>\n",
       "  </thead>\n",
       "  <tbody>\n",
       "    <tr>\n",
       "      <th>0</th>\n",
       "      <td>b0</td>\n",
       "      <td>45.259422</td>\n",
       "      <td>57.855895</td>\n",
       "    </tr>\n",
       "    <tr>\n",
       "      <th>1</th>\n",
       "      <td>b1</td>\n",
       "      <td>0.036712</td>\n",
       "      <td>0.175156</td>\n",
       "    </tr>\n",
       "    <tr>\n",
       "      <th>2</th>\n",
       "      <td>b2</td>\n",
       "      <td>0.070593</td>\n",
       "      <td>0.212987</td>\n",
       "    </tr>\n",
       "    <tr>\n",
       "      <th>3</th>\n",
       "      <td>b3</td>\n",
       "      <td>-2.990568</td>\n",
       "      <td>1.095658</td>\n",
       "    </tr>\n",
       "  </tbody>\n",
       "</table>\n",
       "</div>"
      ],
      "text/plain": [
       "  Parameter        Low       High\n",
       "0        b0  45.259422  57.855895\n",
       "1        b1   0.036712   0.175156\n",
       "2        b2   0.070593   0.212987\n",
       "3        b3  -2.990568   1.095658"
      ]
     },
     "execution_count": 51,
     "metadata": {},
     "output_type": "execute_result"
    }
   ],
   "source": [
    "B = 400\n",
    "SQRT_N = np.sqrt(200)\n",
    "features = ['Agility', 'Stamina', 'Preferred_Foot', 'Overall']\n",
    "temp_df = {'Agility' : [], 'Stamina' : [], 'Preferred_Foot' : [], 'Overall' : []}\n",
    "parameters = {'b0' : [], \"b1\" : [], \"b2\" : [], \"b3\" : [] }\n",
    "\n",
    "for _ in  range(B):\n",
    "    model_sample2 = smf.ols('Overall ~ Agility + Stamina + Preferred_Foot', data.sample(200)).fit()\n",
    "    for i in range(len(model_sample2.params)):\n",
    "        parameters[f'b{i}'].append(-SQRT_N*(model_sample.params[i] - model_sample2.params[i]))\n",
    "\n",
    "pdf = {}\n",
    "for parameter in parameters:\n",
    "    pdf[parameter] = [np.quantile(parameters[parameter], 0.975), np.quantile(parameters[parameter], 0.025)]\n",
    "    \n",
    "conf_int1 = {'Parameter': [], 'Low': [], 'High': []}\n",
    "for i in range(4):\n",
    "    b_hat =  model_sample.params[i]\n",
    "    ci_low = b_hat -  pdf[f'b{i}'][0]/SQRT_N\n",
    "    ci_high = b_hat -  pdf[f'b{i}'][1]/SQRT_N\n",
    "    conf_int1['Parameter'].append('b%s' % i)\n",
    "    conf_int1['Low'].append(ci_low)\n",
    "    conf_int1['High'].append(ci_high)\n",
    "    \n",
    "pd.DataFrame(data=conf_int1)"
   ]
  },
  {
   "cell_type": "markdown",
   "id": "cafff212",
   "metadata": {
    "papermill": {
     "duration": 0.14928,
     "end_time": "2022-12-11T13:21:50.561163",
     "exception": false,
     "start_time": "2022-12-11T13:21:50.411883",
     "status": "completed"
    },
    "tags": []
   },
   "source": [
    "**Bootstrap Confidence Interval - Quantiles**"
   ]
  },
  {
   "cell_type": "code",
   "execution_count": 52,
   "id": "c3b40e5f",
   "metadata": {
    "execution": {
     "iopub.execute_input": "2022-12-11T13:21:50.856108Z",
     "iopub.status.busy": "2022-12-11T13:21:50.855125Z",
     "iopub.status.idle": "2022-12-11T13:21:54.508758Z",
     "shell.execute_reply": "2022-12-11T13:21:54.509405Z",
     "shell.execute_reply.started": "2022-02-28T20:36:14.99804Z"
    },
    "papermill": {
     "duration": 3.80309,
     "end_time": "2022-12-11T13:21:54.509584",
     "exception": false,
     "start_time": "2022-12-11T13:21:50.706494",
     "status": "completed"
    },
    "tags": []
   },
   "outputs": [
    {
     "data": {
      "text/html": [
       "<div>\n",
       "<style scoped>\n",
       "    .dataframe tbody tr th:only-of-type {\n",
       "        vertical-align: middle;\n",
       "    }\n",
       "\n",
       "    .dataframe tbody tr th {\n",
       "        vertical-align: top;\n",
       "    }\n",
       "\n",
       "    .dataframe thead th {\n",
       "        text-align: right;\n",
       "    }\n",
       "</style>\n",
       "<table border=\"1\" class=\"dataframe\">\n",
       "  <thead>\n",
       "    <tr style=\"text-align: right;\">\n",
       "      <th></th>\n",
       "      <th>Parameter</th>\n",
       "      <th>Low</th>\n",
       "      <th>High</th>\n",
       "    </tr>\n",
       "  </thead>\n",
       "  <tbody>\n",
       "    <tr>\n",
       "      <th>0</th>\n",
       "      <td>b0</td>\n",
       "      <td>49.185050</td>\n",
       "      <td>61.827967</td>\n",
       "    </tr>\n",
       "    <tr>\n",
       "      <th>1</th>\n",
       "      <td>b1</td>\n",
       "      <td>-0.027979</td>\n",
       "      <td>0.119815</td>\n",
       "    </tr>\n",
       "    <tr>\n",
       "      <th>2</th>\n",
       "      <td>b2</td>\n",
       "      <td>0.057879</td>\n",
       "      <td>0.210982</td>\n",
       "    </tr>\n",
       "    <tr>\n",
       "      <th>3</th>\n",
       "      <td>b3</td>\n",
       "      <td>-2.187349</td>\n",
       "      <td>1.862638</td>\n",
       "    </tr>\n",
       "  </tbody>\n",
       "</table>\n",
       "</div>"
      ],
      "text/plain": [
       "  Parameter        Low       High\n",
       "0        b0  49.185050  61.827967\n",
       "1        b1  -0.027979   0.119815\n",
       "2        b2   0.057879   0.210982\n",
       "3        b3  -2.187349   1.862638"
      ]
     },
     "execution_count": 52,
     "metadata": {},
     "output_type": "execute_result"
    }
   ],
   "source": [
    "B = 400\n",
    "SQRT_N = np.sqrt(200)\n",
    "features = ['Agility', 'Stamina', 'Preferred_Foot', 'Overall']\n",
    "temp_df = {'Agility' : [], 'Stamina' : [], 'Preferred_Foot' : [], 'Overall' : []}\n",
    "parameters = {'b0' : [], \"b1\" : [], \"b2\" : [], \"b3\" : [] }\n",
    "\n",
    "for _ in  range(B):\n",
    "    model_sample2 = smf.ols('Overall ~ Agility + Stamina + Preferred_Foot', data.sample(200)).fit()\n",
    "    for i in range(len(model_sample2.params)):\n",
    "        parameters[f'b{i}'].append(model_sample2.params[i])\n",
    "\n",
    "pdf = {}\n",
    "for parameter in parameters:\n",
    "    pdf[parameter] = [np.quantile(parameters[parameter], 0.975), np.quantile(parameters[parameter], 0.025)]\n",
    "    \n",
    "conf_int2 = {'Parameter': [], 'Low': [], 'High': []}\n",
    "for i in range(4):\n",
    "    b_hat =  model_sample.params[i]\n",
    "    ci_low = pdf[f'b{i}'][1]\n",
    "    ci_high = pdf[f'b{i}'][0]\n",
    "    conf_int2['Parameter'].append('b%s' % i)\n",
    "    conf_int2['Low'].append(ci_low)\n",
    "    conf_int2['High'].append(ci_high)\n",
    "    \n",
    "pd.DataFrame(data=conf_int2)"
   ]
  },
  {
   "cell_type": "markdown",
   "id": "d68816a7",
   "metadata": {
    "papermill": {
     "duration": 0.195813,
     "end_time": "2022-12-11T13:21:54.852403",
     "exception": false,
     "start_time": "2022-12-11T13:21:54.656590",
     "status": "completed"
    },
    "tags": []
   },
   "source": [
    "**Comparison**"
   ]
  },
  {
   "cell_type": "code",
   "execution_count": 53,
   "id": "62656167",
   "metadata": {
    "execution": {
     "iopub.execute_input": "2022-12-11T13:21:55.151333Z",
     "iopub.status.busy": "2022-12-11T13:21:55.150346Z",
     "iopub.status.idle": "2022-12-11T13:21:55.170288Z",
     "shell.execute_reply": "2022-12-11T13:21:55.170863Z",
     "shell.execute_reply.started": "2022-02-28T20:36:18.665775Z"
    },
    "papermill": {
     "duration": 0.170179,
     "end_time": "2022-12-11T13:21:55.171051",
     "exception": false,
     "start_time": "2022-12-11T13:21:55.000872",
     "status": "completed"
    },
    "tags": []
   },
   "outputs": [
    {
     "data": {
      "text/html": [
       "<div>\n",
       "<style scoped>\n",
       "    .dataframe tbody tr th:only-of-type {\n",
       "        vertical-align: middle;\n",
       "    }\n",
       "\n",
       "    .dataframe tbody tr th {\n",
       "        vertical-align: top;\n",
       "    }\n",
       "\n",
       "    .dataframe thead th {\n",
       "        text-align: right;\n",
       "    }\n",
       "</style>\n",
       "<table border=\"1\" class=\"dataframe\">\n",
       "  <thead>\n",
       "    <tr style=\"text-align: right;\">\n",
       "      <th></th>\n",
       "      <th>Parameter</th>\n",
       "      <th>No Bootstrap</th>\n",
       "      <th>Normal Approximation</th>\n",
       "      <th>Pivot</th>\n",
       "      <th>Quantiles</th>\n",
       "    </tr>\n",
       "  </thead>\n",
       "  <tbody>\n",
       "    <tr>\n",
       "      <th>0</th>\n",
       "      <td>b0</td>\n",
       "      <td>11.651621</td>\n",
       "      <td>12.485900</td>\n",
       "      <td>12.596473</td>\n",
       "      <td>12.642917</td>\n",
       "    </tr>\n",
       "    <tr>\n",
       "      <th>1</th>\n",
       "      <td>b1</td>\n",
       "      <td>0.125233</td>\n",
       "      <td>0.145317</td>\n",
       "      <td>0.138444</td>\n",
       "      <td>0.147794</td>\n",
       "    </tr>\n",
       "    <tr>\n",
       "      <th>2</th>\n",
       "      <td>b2</td>\n",
       "      <td>0.126394</td>\n",
       "      <td>0.144101</td>\n",
       "      <td>0.142394</td>\n",
       "      <td>0.153104</td>\n",
       "    </tr>\n",
       "    <tr>\n",
       "      <th>3</th>\n",
       "      <td>b3</td>\n",
       "      <td>4.148137</td>\n",
       "      <td>4.078029</td>\n",
       "      <td>4.086226</td>\n",
       "      <td>4.049987</td>\n",
       "    </tr>\n",
       "  </tbody>\n",
       "</table>\n",
       "</div>"
      ],
      "text/plain": [
       "  Parameter  No Bootstrap  Normal Approximation      Pivot  Quantiles\n",
       "0        b0     11.651621             12.485900  12.596473  12.642917\n",
       "1        b1      0.125233              0.145317   0.138444   0.147794\n",
       "2        b2      0.126394              0.144101   0.142394   0.153104\n",
       "3        b3      4.148137              4.078029   4.086226   4.049987"
      ]
     },
     "execution_count": 53,
     "metadata": {},
     "output_type": "execute_result"
    }
   ],
   "source": [
    "ci_length = {'Parameter': ['b0', 'b1', 'b2', 'b3'], 'No Bootstrap': [], 'Normal Approximation': [], 'Pivot': [], 'Quantiles': []}\n",
    "for i in range(4):\n",
    "    ci_length['No Bootstrap'].append(model_sample.conf_int()[1][i] - model_sample.conf_int()[0][i])\n",
    "    ci_length['Normal Approximation'].append(conf_int['High'][i] - conf_int['Low'][i])\n",
    "    ci_length['Pivot'].append(conf_int1['High'][i] - conf_int1['Low'][i])\n",
    "    ci_length['Quantiles'].append(conf_int2['High'][i] - conf_int2['Low'][i])\n",
    "pd.DataFrame(data=ci_length)"
   ]
  },
  {
   "cell_type": "markdown",
   "id": "4e1cb6b0",
   "metadata": {
    "papermill": {
     "duration": 0.147505,
     "end_time": "2022-12-11T13:21:55.469139",
     "exception": false,
     "start_time": "2022-12-11T13:21:55.321634",
     "status": "completed"
    },
    "tags": []
   },
   "source": [
    "We can see that the length of the confidence interval was about the same for all methods."
   ]
  },
  {
   "cell_type": "code",
   "execution_count": 54,
   "id": "4ef86c5b",
   "metadata": {
    "execution": {
     "iopub.execute_input": "2022-12-11T13:21:55.769440Z",
     "iopub.status.busy": "2022-12-11T13:21:55.768459Z",
     "iopub.status.idle": "2022-12-11T13:21:55.824439Z",
     "shell.execute_reply": "2022-12-11T13:21:55.823250Z",
     "shell.execute_reply.started": "2022-02-28T20:36:18.693247Z"
    },
    "papermill": {
     "duration": 0.206164,
     "end_time": "2022-12-11T13:21:55.824718",
     "exception": false,
     "start_time": "2022-12-11T13:21:55.618554",
     "status": "completed"
    },
    "tags": []
   },
   "outputs": [
    {
     "data": {
      "text/html": [
       "<div>\n",
       "<style scoped>\n",
       "    .dataframe tbody tr th:only-of-type {\n",
       "        vertical-align: middle;\n",
       "    }\n",
       "\n",
       "    .dataframe tbody tr th {\n",
       "        vertical-align: top;\n",
       "    }\n",
       "\n",
       "    .dataframe thead th {\n",
       "        text-align: right;\n",
       "    }\n",
       "</style>\n",
       "<table border=\"1\" class=\"dataframe\">\n",
       "  <thead>\n",
       "    <tr style=\"text-align: right;\">\n",
       "      <th></th>\n",
       "      <th>Parameter</th>\n",
       "      <th>Value</th>\n",
       "      <th>No Bootstrap</th>\n",
       "      <th>Normal Approximation</th>\n",
       "      <th>Pivot</th>\n",
       "      <th>Quantiles</th>\n",
       "    </tr>\n",
       "  </thead>\n",
       "  <tbody>\n",
       "    <tr>\n",
       "      <th>Intercept</th>\n",
       "      <td>b0*</td>\n",
       "      <td>55.176439</td>\n",
       "      <td>True</td>\n",
       "      <td>True</td>\n",
       "      <td>True</td>\n",
       "      <td>True</td>\n",
       "    </tr>\n",
       "    <tr>\n",
       "      <th>Agility</th>\n",
       "      <td>b1*</td>\n",
       "      <td>0.039248</td>\n",
       "      <td>True</td>\n",
       "      <td>True</td>\n",
       "      <td>True</td>\n",
       "      <td>True</td>\n",
       "    </tr>\n",
       "    <tr>\n",
       "      <th>Stamina</th>\n",
       "      <td>b2*</td>\n",
       "      <td>0.138124</td>\n",
       "      <td>True</td>\n",
       "      <td>True</td>\n",
       "      <td>True</td>\n",
       "      <td>True</td>\n",
       "    </tr>\n",
       "    <tr>\n",
       "      <th>Preferred_Foot</th>\n",
       "      <td>b3*</td>\n",
       "      <td>-0.085453</td>\n",
       "      <td>True</td>\n",
       "      <td>True</td>\n",
       "      <td>True</td>\n",
       "      <td>True</td>\n",
       "    </tr>\n",
       "  </tbody>\n",
       "</table>\n",
       "</div>"
      ],
      "text/plain": [
       "               Parameter      Value  No Bootstrap  Normal Approximation  \\\n",
       "Intercept            b0*  55.176439          True                  True   \n",
       "Agility              b1*   0.039248          True                  True   \n",
       "Stamina              b2*   0.138124          True                  True   \n",
       "Preferred_Foot       b3*  -0.085453          True                  True   \n",
       "\n",
       "                Pivot  Quantiles  \n",
       "Intercept        True       True  \n",
       "Agility          True       True  \n",
       "Stamina          True       True  \n",
       "Preferred_Foot   True       True  "
      ]
     },
     "execution_count": 54,
     "metadata": {},
     "output_type": "execute_result"
    }
   ],
   "source": [
    "ci_star = {'Parameter': ['b0*', 'b1*', 'b2*', 'b3*'], 'Value': smf.ols('Overall ~ Agility + Stamina + Preferred_Foot', data).fit().params, 'No Bootstrap': [], 'Normal Approximation': [], 'Pivot': [], 'Quantiles': []}\n",
    "for i in range(4):\n",
    "    ci_star['No Bootstrap'].append(model_sample.conf_int()[0][i] < ci_star['Value'][i] < model_sample.conf_int()[1][i])\n",
    "    ci_star['Normal Approximation'].append(conf_int['Low'][i] < ci_star['Value'][i] < conf_int['High'][i])\n",
    "    ci_star['Pivot'].append(conf_int1['Low'][i] < ci_star['Value'][i] < conf_int1['High'][i])\n",
    "    ci_star['Quantiles'].append(conf_int2['Low'][i] < ci_star['Value'][i] < conf_int2['High'][i])\n",
    "pd.DataFrame(data=ci_star)"
   ]
  },
  {
   "cell_type": "markdown",
   "id": "e72475be",
   "metadata": {
    "papermill": {
     "duration": 0.151901,
     "end_time": "2022-12-11T13:21:56.174254",
     "exception": false,
     "start_time": "2022-12-11T13:21:56.022353",
     "status": "completed"
    },
    "tags": []
   },
   "source": [
    "**Bootstrap for Prediction**"
   ]
  },
  {
   "cell_type": "code",
   "execution_count": 55,
   "id": "4fc6554d",
   "metadata": {
    "execution": {
     "iopub.execute_input": "2022-12-11T13:21:56.476066Z",
     "iopub.status.busy": "2022-12-11T13:21:56.472818Z",
     "iopub.status.idle": "2022-12-11T13:21:56.487406Z",
     "shell.execute_reply": "2022-12-11T13:21:56.486800Z",
     "shell.execute_reply.started": "2022-02-28T20:36:18.757148Z"
    },
    "papermill": {
     "duration": 0.164606,
     "end_time": "2022-12-11T13:21:56.487549",
     "exception": false,
     "start_time": "2022-12-11T13:21:56.322943",
     "status": "completed"
    },
    "tags": []
   },
   "outputs": [
    {
     "data": {
      "text/plain": [
       "array([67.23460735, 67.68773015, 64.36567824, 70.99827016, 64.61451722,\n",
       "       68.56510982, 68.7015782 , 68.68082025, 67.9222544 , 65.63116812,\n",
       "       67.29037388, 66.04898178, 65.64601985, 66.6088695 , 68.95322003,\n",
       "       65.96911747, 67.56665048, 68.04947673, 68.59815311, 62.08998068,\n",
       "       65.30807049, 69.89561228, 69.18440445, 58.37981856, 67.8298042 ,\n",
       "       63.68417386, 60.16064098, 68.26020375, 68.72817827, 67.47139745,\n",
       "       63.058973  , 68.2305003 , 63.15679243, 63.89770372, 65.83264909,\n",
       "       68.27451849, 59.52369179, 64.49934378, 70.01132272, 65.23100902,\n",
       "       60.82168796, 63.30781199, 68.6511168 , 69.0098241 , 69.4304406 ,\n",
       "       69.88356339, 68.38462325, 65.42408148, 66.28016621, 62.81884308,\n",
       "       66.07868524, 68.56844965, 67.84185309, 70.79344936, 59.14763047,\n",
       "       66.37488224, 67.65522385, 66.72768332, 67.17520044, 66.89999783,\n",
       "       64.96141208, 64.91435461, 67.56050781, 63.14474354, 66.55870865,\n",
       "       68.20079684, 64.00727148, 64.04538345, 64.69802192, 68.42864143,\n",
       "       60.63505872, 68.67467758, 69.47499578, 66.9885712 , 70.75223401,\n",
       "       68.58556722, 66.55590581, 66.79269591, 64.86109037, 62.47218466,\n",
       "       67.76813145, 68.23640652, 64.44273971, 66.54385692, 66.9885712 ,\n",
       "       66.64471563, 66.2597088 , 60.26149969, 68.5177518 , 57.90259799,\n",
       "       56.88314426, 64.79554079, 64.62376328, 69.154701  , 65.73793305,\n",
       "       65.78529107, 65.10378669, 58.04186921, 61.08818151, 68.6306594 ])"
      ]
     },
     "execution_count": 55,
     "metadata": {},
     "output_type": "execute_result"
    }
   ],
   "source": [
    "test_sample = data.drop(sample_lin.index).sample(100, random_state=1)\n",
    "test_sample['const'] = 1\n",
    "test_sample_numpy = test_sample[['const', 'Agility', 'Stamina', 'Preferred_Foot']].to_numpy()\n",
    "predictions = model_sample.params@test_sample_numpy.T\n",
    "test_sample\n",
    "predictions"
   ]
  },
  {
   "cell_type": "markdown",
   "id": "6a4edf59",
   "metadata": {
    "papermill": {
     "duration": 0.146548,
     "end_time": "2022-12-11T13:21:56.782631",
     "exception": false,
     "start_time": "2022-12-11T13:21:56.636083",
     "status": "completed"
    },
    "tags": []
   },
   "source": [
    "# Section II"
   ]
  },
  {
   "cell_type": "markdown",
   "id": "9d27ce32",
   "metadata": {
    "papermill": {
     "duration": 0.148948,
     "end_time": "2022-12-11T13:21:57.080030",
     "exception": false,
     "start_time": "2022-12-11T13:21:56.931082",
     "status": "completed"
    },
    "tags": []
   },
   "source": [
    "We will focus on 'Preferred Foot' column wich has two categories in it: right and left."
   ]
  },
  {
   "cell_type": "code",
   "execution_count": 56,
   "id": "f240d1b0",
   "metadata": {
    "execution": {
     "iopub.execute_input": "2022-12-11T13:21:57.381839Z",
     "iopub.status.busy": "2022-12-11T13:21:57.381149Z",
     "iopub.status.idle": "2022-12-11T13:21:57.390188Z",
     "shell.execute_reply": "2022-12-11T13:21:57.390846Z",
     "shell.execute_reply.started": "2022-02-28T20:36:18.783124Z"
    },
    "papermill": {
     "duration": 0.164097,
     "end_time": "2022-12-11T13:21:57.391029",
     "exception": false,
     "start_time": "2022-12-11T13:21:57.226932",
     "status": "completed"
    },
    "tags": []
   },
   "outputs": [
    {
     "data": {
      "text/html": [
       "<div>\n",
       "<style scoped>\n",
       "    .dataframe tbody tr th:only-of-type {\n",
       "        vertical-align: middle;\n",
       "    }\n",
       "\n",
       "    .dataframe tbody tr th {\n",
       "        vertical-align: top;\n",
       "    }\n",
       "\n",
       "    .dataframe thead th {\n",
       "        text-align: right;\n",
       "    }\n",
       "</style>\n",
       "<table border=\"1\" class=\"dataframe\">\n",
       "  <thead>\n",
       "    <tr style=\"text-align: right;\">\n",
       "      <th></th>\n",
       "      <th>Overall</th>\n",
       "    </tr>\n",
       "    <tr>\n",
       "      <th>Preferred Foot</th>\n",
       "      <th></th>\n",
       "    </tr>\n",
       "  </thead>\n",
       "  <tbody>\n",
       "    <tr>\n",
       "      <th>Left</th>\n",
       "      <td>66.801472</td>\n",
       "    </tr>\n",
       "    <tr>\n",
       "      <th>Right</th>\n",
       "      <td>66.083381</td>\n",
       "    </tr>\n",
       "  </tbody>\n",
       "</table>\n",
       "</div>"
      ],
      "text/plain": [
       "                  Overall\n",
       "Preferred Foot           \n",
       "Left            66.801472\n",
       "Right           66.083381"
      ]
     },
     "execution_count": 56,
     "metadata": {},
     "output_type": "execute_result"
    }
   ],
   "source": [
    "data = fifa.filter(items=['Preferred Foot', 'Overall'])\n",
    "data.groupby('Preferred Foot').mean()"
   ]
  },
  {
   "cell_type": "markdown",
   "id": "43159593",
   "metadata": {
    "papermill": {
     "duration": 0.148187,
     "end_time": "2022-12-11T13:21:57.687903",
     "exception": false,
     "start_time": "2022-12-11T13:21:57.539716",
     "status": "completed"
    },
    "tags": []
   },
   "source": [
    "**Research question:** Are Overall score values in left bigger than values in right? "
   ]
  },
  {
   "cell_type": "markdown",
   "id": "2202d90c",
   "metadata": {
    "papermill": {
     "duration": 0.151278,
     "end_time": "2022-12-11T13:21:57.987799",
     "exception": false,
     "start_time": "2022-12-11T13:21:57.836521",
     "status": "completed"
    },
    "tags": []
   },
   "source": [
    "Define: **m_l** as expectation of left, **m_r** as expectation of right and **d** as the difference between them (m_l - m_r)"
   ]
  },
  {
   "cell_type": "markdown",
   "id": "f657b07c",
   "metadata": {
    "papermill": {
     "duration": 0.148957,
     "end_time": "2022-12-11T13:21:58.286153",
     "exception": false,
     "start_time": "2022-12-11T13:21:58.137196",
     "status": "completed"
    },
    "tags": []
   },
   "source": [
    "Estimate all definitions:"
   ]
  },
  {
   "cell_type": "code",
   "execution_count": 57,
   "id": "befb7431",
   "metadata": {
    "execution": {
     "iopub.execute_input": "2022-12-11T13:21:58.592398Z",
     "iopub.status.busy": "2022-12-11T13:21:58.591361Z",
     "iopub.status.idle": "2022-12-11T13:21:58.664148Z",
     "shell.execute_reply": "2022-12-11T13:21:58.663346Z",
     "shell.execute_reply.started": "2022-02-28T20:36:18.806125Z"
    },
    "papermill": {
     "duration": 0.230059,
     "end_time": "2022-12-11T13:21:58.664349",
     "exception": false,
     "start_time": "2022-12-11T13:21:58.434290",
     "status": "completed"
    },
    "tags": []
   },
   "outputs": [
    {
     "name": "stdout",
     "output_type": "stream",
     "text": [
      "Estomator for mean of Right is : 65.63190322580641\n",
      "Estomator for mean of Left is : 67.13583333333338\n",
      "Estimator for difference of means is: 1.3760967741935481\n"
     ]
    }
   ],
   "source": [
    "sample = data.sample(200, random_state=0)\n",
    "B = 400\n",
    "\n",
    "m_r = sample.loc[sample['Preferred Foot'] == 'Right']['Overall']\n",
    "samples_r = []\n",
    "for _ in range(B):\n",
    "    r = np.random.choice(m_r, size=len(m_r), replace=True)\n",
    "    samples_r.append(r.mean())\n",
    "print(f'Estomator for mean of Right is : {sum(samples_r) / len(samples_r)}')\n",
    "\n",
    "m_l = sample.loc[sample['Preferred Foot'] == 'Left']['Overall']\n",
    "samples_l = []\n",
    "for _ in range(B):\n",
    "    l = np.random.choice(m_l, size=len(m_l), replace=True)\n",
    "    samples_l.append(l.mean())\n",
    "print(f'Estomator for mean of Left is : {sum(samples_l) / len(samples_l)}')\n",
    "\n",
    "samples_d = []\n",
    "for _ in range(B):\n",
    "    l = np.random.choice(m_l, size=len(m_l), replace=True)\n",
    "    r = np.random.choice(m_r, size=len(m_r), replace=True)\n",
    "    samples_d.append(l.mean() - r.mean())\n",
    "print(f'Estimator for difference of means is: {sum(samples_d) / len(samples_d)}')"
   ]
  },
  {
   "cell_type": "markdown",
   "id": "5d8952a6",
   "metadata": {
    "papermill": {
     "duration": 0.150228,
     "end_time": "2022-12-11T13:21:58.964453",
     "exception": false,
     "start_time": "2022-12-11T13:21:58.814225",
     "status": "completed"
    },
    "tags": []
   },
   "source": [
    "All estimators are MLE's, Average is an MLE of expectation and d is MLE because invariant of MLE."
   ]
  },
  {
   "cell_type": "markdown",
   "id": "18b4b92b",
   "metadata": {
    "papermill": {
     "duration": 0.149761,
     "end_time": "2022-12-11T13:21:59.264538",
     "exception": false,
     "start_time": "2022-12-11T13:21:59.114777",
     "status": "completed"
    },
    "tags": []
   },
   "source": [
    "Confidence interval for d from the 200 samples"
   ]
  },
  {
   "cell_type": "code",
   "execution_count": 58,
   "id": "97a6075b",
   "metadata": {
    "execution": {
     "iopub.execute_input": "2022-12-11T13:21:59.570709Z",
     "iopub.status.busy": "2022-12-11T13:21:59.569718Z",
     "iopub.status.idle": "2022-12-11T13:21:59.573548Z",
     "shell.execute_reply": "2022-12-11T13:21:59.574359Z",
     "shell.execute_reply.started": "2022-02-28T20:36:18.911771Z"
    },
    "papermill": {
     "duration": 0.161368,
     "end_time": "2022-12-11T13:21:59.574552",
     "exception": false,
     "start_time": "2022-12-11T13:21:59.413184",
     "status": "completed"
    },
    "tags": []
   },
   "outputs": [
    {
     "name": "stdout",
     "output_type": "stream",
     "text": [
      "Confidence interval for mean difference is :\n",
      "[-0.8855468374115973, 3.6377403857986934]\n"
     ]
    }
   ],
   "source": [
    "temp = 0\n",
    "temp1 = 0 \n",
    "for i in range(len(samples_d)):\n",
    "    temp = temp + samples_d[i]**2\n",
    "    temp1 = temp1 + samples_d[i]\n",
    "se_boot_d = (temp / B + (temp1 / B)**2)**0.5\n",
    "\n",
    "d = sum(samples_d) / len(samples_d)\n",
    "\n",
    "print('Confidence interval for mean difference is :')\n",
    "print([d - se_boot_d, d + se_boot_d])"
   ]
  },
  {
   "cell_type": "markdown",
   "id": "9dea61e7",
   "metadata": {
    "papermill": {
     "duration": 0.149983,
     "end_time": "2022-12-11T13:21:59.873755",
     "exception": false,
     "start_time": "2022-12-11T13:21:59.723772",
     "status": "completed"
    },
    "tags": []
   },
   "source": [
    "Estimate d based on all data"
   ]
  },
  {
   "cell_type": "code",
   "execution_count": 59,
   "id": "7a704555",
   "metadata": {
    "execution": {
     "iopub.execute_input": "2022-12-11T13:22:00.180367Z",
     "iopub.status.busy": "2022-12-11T13:22:00.179643Z",
     "iopub.status.idle": "2022-12-11T13:22:00.187512Z",
     "shell.execute_reply": "2022-12-11T13:22:00.186670Z",
     "shell.execute_reply.started": "2022-02-28T20:36:18.924081Z"
    },
    "papermill": {
     "duration": 0.164078,
     "end_time": "2022-12-11T13:22:00.187715",
     "exception": false,
     "start_time": "2022-12-11T13:22:00.023637",
     "status": "completed"
    },
    "tags": []
   },
   "outputs": [
    {
     "name": "stdout",
     "output_type": "stream",
     "text": [
      "0.7180912044512837\n"
     ]
    }
   ],
   "source": [
    "m_r_data = data.loc[data['Preferred Foot'] == 'Right']['Overall']\n",
    "m_l_data = data.loc[data['Preferred Foot'] == 'Left']['Overall']\n",
    "d_all = m_l_data.values.mean() - m_r_data.values.mean()\n",
    "print(d_all)"
   ]
  },
  {
   "cell_type": "markdown",
   "id": "36b5d980",
   "metadata": {
    "papermill": {
     "duration": 0.148412,
     "end_time": "2022-12-11T13:22:00.488942",
     "exception": false,
     "start_time": "2022-12-11T13:22:00.340530",
     "status": "completed"
    },
    "tags": []
   },
   "source": [
    "d from all data is in the confidence interval"
   ]
  },
  {
   "cell_type": "markdown",
   "id": "45e8b103",
   "metadata": {
    "papermill": {
     "duration": 0.14808,
     "end_time": "2022-12-11T13:22:00.788836",
     "exception": false,
     "start_time": "2022-12-11T13:22:00.640756",
     "status": "completed"
    },
    "tags": []
   },
   "source": [
    "Permutation test for search question (sample is large and there are ties so can be approximated)"
   ]
  },
  {
   "cell_type": "code",
   "execution_count": 60,
   "id": "1a645874",
   "metadata": {
    "execution": {
     "iopub.execute_input": "2022-12-11T13:22:01.097082Z",
     "iopub.status.busy": "2022-12-11T13:22:01.096397Z",
     "iopub.status.idle": "2022-12-11T13:22:01.173536Z",
     "shell.execute_reply": "2022-12-11T13:22:01.174541Z",
     "shell.execute_reply.started": "2022-02-28T20:36:18.944399Z"
    },
    "papermill": {
     "duration": 0.232869,
     "end_time": "2022-12-11T13:22:01.174842",
     "exception": false,
     "start_time": "2022-12-11T13:22:00.941973",
     "status": "completed"
    },
    "tags": []
   },
   "outputs": [
    {
     "name": "stdout",
     "output_type": "stream",
     "text": [
      "p value is:\n",
      "0.125\n"
     ]
    }
   ],
   "source": [
    "import random\n",
    "y = len(m_l)\n",
    "d_list = []\n",
    "B = 400\n",
    "observations = m_l.values.tolist() + m_r.values.tolist()\n",
    "x_temp, y_temp = [], []\n",
    "\n",
    "for i in range(B):\n",
    "    random.shuffle(observations)\n",
    "    x_temp = observations[:y]\n",
    "    y_temp = observations[y:]\n",
    "    d_list.append((sum(y_temp) / len(y_temp)) - (sum(x_temp) / len(x_temp)))\n",
    "    \n",
    "bigger = 0\n",
    "for i in range(len(d_list)):\n",
    "    if d_list[i] >= d:\n",
    "        bigger = bigger + 1\n",
    "\n",
    "print('p value is:')\n",
    "print(bigger / B)"
   ]
  },
  {
   "cell_type": "markdown",
   "id": "227b68a5",
   "metadata": {
    "papermill": {
     "duration": 0.147861,
     "end_time": "2022-12-11T13:22:01.473418",
     "exception": false,
     "start_time": "2022-12-11T13:22:01.325557",
     "status": "completed"
    },
    "tags": []
   },
   "source": [
    "According to permutation test we should **not** reject the null hypothisis (alpha = 0.05)"
   ]
  },
  {
   "cell_type": "code",
   "execution_count": 61,
   "id": "42683a25",
   "metadata": {
    "execution": {
     "iopub.execute_input": "2022-12-11T13:22:01.774934Z",
     "iopub.status.busy": "2022-12-11T13:22:01.774261Z",
     "iopub.status.idle": "2022-12-11T13:22:01.780805Z",
     "shell.execute_reply": "2022-12-11T13:22:01.780127Z",
     "shell.execute_reply.started": "2022-02-28T20:36:19.03679Z"
    },
    "papermill": {
     "duration": 0.158241,
     "end_time": "2022-12-11T13:22:01.780953",
     "exception": false,
     "start_time": "2022-12-11T13:22:01.622712",
     "status": "completed"
    },
    "tags": []
   },
   "outputs": [
    {
     "name": "stdout",
     "output_type": "stream",
     "text": [
      "True\n"
     ]
    }
   ],
   "source": [
    "from scipy.stats import norm\n",
    "w = (d - 0)**2 / (se_boot_d**2)\n",
    "rej = norm.ppf(0.975)\n",
    "if abs(w) > rej:\n",
    "    print(False)\n",
    "else:\n",
    "    print(True)"
   ]
  },
  {
   "cell_type": "markdown",
   "id": "358aa548",
   "metadata": {
    "papermill": {
     "duration": 0.149048,
     "end_time": "2022-12-11T13:22:02.082272",
     "exception": false,
     "start_time": "2022-12-11T13:22:01.933224",
     "status": "completed"
    },
    "tags": []
   },
   "source": [
    "According to wald test we should reject null hypothisis"
   ]
  },
  {
   "cell_type": "markdown",
   "id": "161c207e",
   "metadata": {
    "papermill": {
     "duration": 0.151428,
     "end_time": "2022-12-11T13:22:02.385505",
     "exception": false,
     "start_time": "2022-12-11T13:22:02.234077",
     "status": "completed"
    },
    "tags": []
   },
   "source": [
    "Define **med_l** and **med_r** to be the medians of the categoreis"
   ]
  },
  {
   "cell_type": "code",
   "execution_count": 62,
   "id": "d28f7733",
   "metadata": {
    "execution": {
     "iopub.execute_input": "2022-12-11T13:22:02.692150Z",
     "iopub.status.busy": "2022-12-11T13:22:02.691419Z",
     "iopub.status.idle": "2022-12-11T13:22:02.800671Z",
     "shell.execute_reply": "2022-12-11T13:22:02.800116Z",
     "shell.execute_reply.started": "2022-02-28T20:36:19.044992Z"
    },
    "papermill": {
     "duration": 0.266415,
     "end_time": "2022-12-11T13:22:02.800814",
     "exception": false,
     "start_time": "2022-12-11T13:22:02.534399",
     "status": "completed"
    },
    "tags": []
   },
   "outputs": [
    {
     "name": "stdout",
     "output_type": "stream",
     "text": [
      "Estomator for median of Right is : 66.0\n",
      "Estomator for median of Left is : 67.0\n",
      "Estomator for median difference is : 1.0\n"
     ]
    }
   ],
   "source": [
    "samples_r_med = []\n",
    "for _ in range(B):\n",
    "    r = np.random.choice(m_r, size=len(m_r), replace=True)\n",
    "    samples_r_med.append(np.median(r))\n",
    "print(f'Estomator for median of Right is : {np.median(samples_r_med)}')\n",
    "\n",
    "samples_l_med = []\n",
    "for _ in range(B):\n",
    "    l = np.random.choice(m_l, size=len(m_l), replace=True)\n",
    "    samples_l_med.append(np.median(l))\n",
    "print(f'Estomator for median of Left is : {np.median(samples_l_med)}')\n",
    "\n",
    "samples_d_med = []\n",
    "for _ in range(B):\n",
    "    l = np.random.choice(m_l, size=len(m_l), replace=True)\n",
    "    r = np.random.choice(m_r, size=len(m_r), replace=True)\n",
    "    samples_d_med.append(np.median(l) - np.median(r))\n",
    "print(f'Estomator for median difference is : {np.median(samples_d_med)}')"
   ]
  },
  {
   "cell_type": "markdown",
   "id": "01d9f79f",
   "metadata": {
    "papermill": {
     "duration": 0.151448,
     "end_time": "2022-12-11T13:22:03.104389",
     "exception": false,
     "start_time": "2022-12-11T13:22:02.952941",
     "status": "completed"
    },
    "tags": []
   },
   "source": [
    "Since samples comes from a normal distribution wich is symetric, the median is very close to MLE, and so because MLE invariant d is also MLE, the median difference is also normally distributed."
   ]
  },
  {
   "cell_type": "markdown",
   "id": "dc6b6e75",
   "metadata": {
    "papermill": {
     "duration": 0.151218,
     "end_time": "2022-12-11T13:22:03.408203",
     "exception": false,
     "start_time": "2022-12-11T13:22:03.256985",
     "status": "completed"
    },
    "tags": []
   },
   "source": [
    "Confidence interval for d_med"
   ]
  },
  {
   "cell_type": "code",
   "execution_count": 63,
   "id": "5e6aa113",
   "metadata": {
    "execution": {
     "iopub.execute_input": "2022-12-11T13:22:03.715882Z",
     "iopub.status.busy": "2022-12-11T13:22:03.715021Z",
     "iopub.status.idle": "2022-12-11T13:22:03.718393Z",
     "shell.execute_reply": "2022-12-11T13:22:03.718909Z",
     "shell.execute_reply.started": "2022-02-28T20:36:19.177962Z"
    },
    "papermill": {
     "duration": 0.16034,
     "end_time": "2022-12-11T13:22:03.719085",
     "exception": false,
     "start_time": "2022-12-11T13:22:03.558745",
     "status": "completed"
    },
    "tags": []
   },
   "outputs": [
    {
     "name": "stdout",
     "output_type": "stream",
     "text": [
      "Confidence interval for median difference is :\n",
      "[-1.2167332597188107, 3.3717332597188108]\n"
     ]
    }
   ],
   "source": [
    "temp = 0\n",
    "temp1 = 0 \n",
    "for i in range(len(samples_d_med)):\n",
    "    temp = temp + samples_d_med[i]**2\n",
    "    temp1 = temp1 + samples_d_med[i]\n",
    "se_boot_d_med = (temp / B + (temp1 / B)**2)**0.5\n",
    "\n",
    "d_med = sum(samples_d_med) / len(samples_d_med)\n",
    "\n",
    "print('Confidence interval for median difference is :')\n",
    "print([d_med - se_boot_d_med, d_med + se_boot_d_med])"
   ]
  },
  {
   "cell_type": "markdown",
   "id": "a08dc18d",
   "metadata": {
    "papermill": {
     "duration": 0.150704,
     "end_time": "2022-12-11T13:22:04.021481",
     "exception": false,
     "start_time": "2022-12-11T13:22:03.870777",
     "status": "completed"
    },
    "tags": []
   },
   "source": [
    "d_med from all data"
   ]
  },
  {
   "cell_type": "code",
   "execution_count": 64,
   "id": "ff18bdf4",
   "metadata": {
    "execution": {
     "iopub.execute_input": "2022-12-11T13:22:04.360484Z",
     "iopub.status.busy": "2022-12-11T13:22:04.359803Z",
     "iopub.status.idle": "2022-12-11T13:22:04.363887Z",
     "shell.execute_reply": "2022-12-11T13:22:04.364445Z",
     "shell.execute_reply.started": "2022-02-28T20:36:19.18927Z"
    },
    "papermill": {
     "duration": 0.183799,
     "end_time": "2022-12-11T13:22:04.364652",
     "exception": false,
     "start_time": "2022-12-11T13:22:04.180853",
     "status": "completed"
    },
    "tags": []
   },
   "outputs": [
    {
     "name": "stdout",
     "output_type": "stream",
     "text": [
      "1.0\n"
     ]
    }
   ],
   "source": [
    "d_med_all = np.median(m_l_data.values) - np.median(m_r_data.values)\n",
    "print(d_med_all)"
   ]
  },
  {
   "cell_type": "markdown",
   "id": "ca8a8d74",
   "metadata": {
    "papermill": {
     "duration": 0.150839,
     "end_time": "2022-12-11T13:22:04.664967",
     "exception": false,
     "start_time": "2022-12-11T13:22:04.514128",
     "status": "completed"
    },
    "tags": []
   },
   "source": [
    "Median difference from all data is in the confidence interval"
   ]
  },
  {
   "cell_type": "markdown",
   "id": "079f4795",
   "metadata": {
    "papermill": {
     "duration": 0.154849,
     "end_time": "2022-12-11T13:22:04.970320",
     "exception": false,
     "start_time": "2022-12-11T13:22:04.815471",
     "status": "completed"
    },
    "tags": []
   },
   "source": [
    "Permutation test"
   ]
  },
  {
   "cell_type": "code",
   "execution_count": 65,
   "id": "4eeca10c",
   "metadata": {
    "execution": {
     "iopub.execute_input": "2022-12-11T13:22:05.276897Z",
     "iopub.status.busy": "2022-12-11T13:22:05.276186Z",
     "iopub.status.idle": "2022-12-11T13:22:05.383484Z",
     "shell.execute_reply": "2022-12-11T13:22:05.382875Z",
     "shell.execute_reply.started": "2022-02-28T20:36:19.199705Z"
    },
    "papermill": {
     "duration": 0.262048,
     "end_time": "2022-12-11T13:22:05.383648",
     "exception": false,
     "start_time": "2022-12-11T13:22:05.121600",
     "status": "completed"
    },
    "tags": []
   },
   "outputs": [
    {
     "name": "stdout",
     "output_type": "stream",
     "text": [
      "p value is:\n",
      "0.1175\n"
     ]
    }
   ],
   "source": [
    "from itertools import permutations\n",
    "d_med_list = []\n",
    "B = 400\n",
    "observations = m_r.values.tolist() + m_l.values.tolist()\n",
    "x_temp, y_temp = [], []\n",
    "for i in range(400):\n",
    "    random.shuffle(observations)\n",
    "    x_temp = observations[:y]\n",
    "    y_temp = observations[y:]\n",
    "    d_med_list.append(np.median(x_temp) - np.median(y_temp))\n",
    "\n",
    "bigger = 0\n",
    "for i in range(len(d_med_list)):\n",
    "    if d_med_list[i] >= d_med:\n",
    "        bigger = bigger + 1\n",
    "\n",
    "print('p value is:')\n",
    "print(bigger / B)"
   ]
  },
  {
   "cell_type": "markdown",
   "id": "4d44135d",
   "metadata": {
    "papermill": {
     "duration": 0.1531,
     "end_time": "2022-12-11T13:22:05.687203",
     "exception": false,
     "start_time": "2022-12-11T13:22:05.534103",
     "status": "completed"
    },
    "tags": []
   },
   "source": [
    "According to permutation test we should **not** reject the null hypothisis."
   ]
  },
  {
   "cell_type": "code",
   "execution_count": 66,
   "id": "5e71d504",
   "metadata": {
    "execution": {
     "iopub.execute_input": "2022-12-11T13:22:05.991947Z",
     "iopub.status.busy": "2022-12-11T13:22:05.990573Z",
     "iopub.status.idle": "2022-12-11T13:22:05.995933Z",
     "shell.execute_reply": "2022-12-11T13:22:05.996441Z",
     "shell.execute_reply.started": "2022-02-28T20:36:19.340621Z"
    },
    "papermill": {
     "duration": 0.159268,
     "end_time": "2022-12-11T13:22:05.996633",
     "exception": false,
     "start_time": "2022-12-11T13:22:05.837365",
     "status": "completed"
    },
    "tags": []
   },
   "outputs": [
    {
     "name": "stdout",
     "output_type": "stream",
     "text": [
      "44.90347554630591\n",
      "48.398024691358025\n"
     ]
    }
   ],
   "source": [
    "print((m_r.values.std())**2)\n",
    "print((m_l.values.std())**2)"
   ]
  },
  {
   "cell_type": "markdown",
   "id": "639144e9",
   "metadata": {
    "papermill": {
     "duration": 0.161709,
     "end_time": "2022-12-11T13:22:06.312438",
     "exception": false,
     "start_time": "2022-12-11T13:22:06.150729",
     "status": "completed"
    },
    "tags": []
   },
   "source": [
    "Variances of sample categories are different so can't perform a t-test here.\n",
    "\n",
    "Wald test can be performed here because the assumption the samples are coming from normal distributions thus their medians is likely to normally distribute and also difference between them is normally distribute, the estimator  is asymptotically normal as Wald test assumes."
   ]
  },
  {
   "cell_type": "markdown",
   "id": "d2667300",
   "metadata": {
    "papermill": {
     "duration": 0.153869,
     "end_time": "2022-12-11T13:22:06.622390",
     "exception": false,
     "start_time": "2022-12-11T13:22:06.468521",
     "status": "completed"
    },
    "tags": []
   },
   "source": [
    "Define **s_l** as the sum of degrees of sample from left category."
   ]
  },
  {
   "cell_type": "code",
   "execution_count": 67,
   "id": "8c3ec778",
   "metadata": {
    "execution": {
     "iopub.execute_input": "2022-12-11T13:22:06.927754Z",
     "iopub.status.busy": "2022-12-11T13:22:06.927085Z",
     "iopub.status.idle": "2022-12-11T13:22:07.032946Z",
     "shell.execute_reply": "2022-12-11T13:22:07.033428Z",
     "shell.execute_reply.started": "2022-02-28T20:36:19.34871Z"
    },
    "papermill": {
     "duration": 0.260082,
     "end_time": "2022-12-11T13:22:07.033607",
     "exception": false,
     "start_time": "2022-12-11T13:22:06.773525",
     "status": "completed"
    },
    "tags": []
   },
   "outputs": [
    {
     "name": "stdout",
     "output_type": "stream",
     "text": [
      "True\n"
     ]
    }
   ],
   "source": [
    "hist = []\n",
    "temp_rank = []\n",
    "x_temp = []\n",
    "ranks = {}\n",
    "\n",
    "for i in range(1, 101):\n",
    "    hist.append(sample.loc[sample['Overall'] == i].count() + 1)\n",
    "\n",
    "observations = m_l.values.tolist()\n",
    "# deal with ties:\n",
    "for i in observations:\n",
    "    for j in range(hist[i].values[1]):\n",
    "        temp_rank.append(i + j)\n",
    "    ranks[i] = sum(temp_rank) / len(temp_rank)\n",
    "    temp_rank = []\n",
    "s_l = sum(ranks.values())\n",
    "\n",
    "# As we saw in tutorial 9 n,m > 30 thus can perform normal approximation, need to calculate expectation and sd of s_l\n",
    "\n",
    "expectation_s_l = 0.5*(len(m_l) + len(m_r) + 1)\n",
    "se_s_l = ((1/12)*(len(m_l)*len(m_r)*(len(m_l) + len(m_r) + 1)))**0.5\n",
    "\n",
    "s_l_norm = (s_l - expectation_s_l) / se_s_l\n",
    "rej = norm.ppf(0.95)\n",
    "if s_l_norm < rej:\n",
    "    print(False)\n",
    "else:\n",
    "    print(True)"
   ]
  },
  {
   "cell_type": "markdown",
   "id": "954c0825",
   "metadata": {
    "papermill": {
     "duration": 0.152287,
     "end_time": "2022-12-11T13:22:07.341745",
     "exception": false,
     "start_time": "2022-12-11T13:22:07.189458",
     "status": "completed"
    },
    "tags": []
   },
   "source": [
    "\n",
    "According to the test with normal approximation, reject null hypothisis"
   ]
  },
  {
   "cell_type": "markdown",
   "id": "a1b6222d",
   "metadata": {
    "papermill": {
     "duration": 0.150902,
     "end_time": "2022-12-11T13:22:07.644730",
     "exception": false,
     "start_time": "2022-12-11T13:22:07.493828",
     "status": "completed"
    },
    "tags": []
   },
   "source": [
    "Now test based on sampling"
   ]
  },
  {
   "cell_type": "code",
   "execution_count": 68,
   "id": "aec1f9d7",
   "metadata": {
    "execution": {
     "iopub.execute_input": "2022-12-11T13:22:07.958400Z",
     "iopub.status.busy": "2022-12-11T13:22:07.957240Z",
     "iopub.status.idle": "2022-12-11T13:22:08.205362Z",
     "shell.execute_reply": "2022-12-11T13:22:08.204426Z",
     "shell.execute_reply.started": "2022-02-28T20:36:19.465882Z"
    },
    "papermill": {
     "duration": 0.409921,
     "end_time": "2022-12-11T13:22:08.205558",
     "exception": false,
     "start_time": "2022-12-11T13:22:07.795637",
     "status": "completed"
    },
    "tags": []
   },
   "outputs": [
    {
     "name": "stdout",
     "output_type": "stream",
     "text": [
      "Reject if p value less than 0.05\n",
      "P value is: 0.0025\n"
     ]
    }
   ],
   "source": [
    "y = len(m_l)\n",
    "B = 400\n",
    "hist = []\n",
    "temp_rank = []\n",
    "ranks = {}\n",
    "s_l_list = []\n",
    "observations = m_l.values.tolist() + m_r.values.tolist()\n",
    "for i in range(1, 101):\n",
    "    hist.append(sample.loc[sample['Overall'] == i].count() + 1)\n",
    "    \n",
    "x_temp = []\n",
    "for i in range(B):\n",
    "    random.shuffle(observations)\n",
    "    x_temp = observations[:y]\n",
    "    \n",
    "    # deal with ties:\n",
    "    for i in x_temp:\n",
    "        for j in range(hist[i].values[1]):\n",
    "            temp_rank.append(i + j)\n",
    "        ranks[i] = sum(temp_rank) / len(temp_rank)\n",
    "        temp_rank = []\n",
    "    s_l_list.append(sum(ranks.values()))\n",
    "      \n",
    "smaller = 0\n",
    "for i in range(len(s_l_list)):\n",
    "    if s_l_list[i] <= s_l:\n",
    "        smaller = smaller + 1\n",
    "\n",
    "print('Reject if p value less than 0.05')\n",
    "print(f'P value is: {smaller / B}')"
   ]
  },
  {
   "cell_type": "markdown",
   "id": "8785af3d",
   "metadata": {
    "papermill": {
     "duration": 0.151331,
     "end_time": "2022-12-11T13:22:08.510267",
     "exception": false,
     "start_time": "2022-12-11T13:22:08.358936",
     "status": "completed"
    },
    "tags": []
   },
   "source": [
    "According to permutation test based on sampling, can reject the null hypothisis."
   ]
  },
  {
   "cell_type": "markdown",
   "id": "4331c149",
   "metadata": {
    "papermill": {
     "duration": 0.151249,
     "end_time": "2022-12-11T13:22:08.812833",
     "exception": false,
     "start_time": "2022-12-11T13:22:08.661584",
     "status": "completed"
    },
    "tags": []
   },
   "source": []
  },
  {
   "cell_type": "markdown",
   "id": "e333e978",
   "metadata": {
    "papermill": {
     "duration": 0.151735,
     "end_time": "2022-12-11T13:22:09.115187",
     "exception": false,
     "start_time": "2022-12-11T13:22:08.963452",
     "status": "completed"
    },
    "tags": []
   },
   "source": [
    "# Part V"
   ]
  },
  {
   "cell_type": "markdown",
   "id": "9f2cec4c",
   "metadata": {
    "papermill": {
     "duration": 0.151349,
     "end_time": "2022-12-11T13:22:09.420179",
     "exception": false,
     "start_time": "2022-12-11T13:22:09.268830",
     "status": "completed"
    },
    "tags": []
   },
   "source": [
    "# Section I"
   ]
  },
  {
   "cell_type": "markdown",
   "id": "701de3d3",
   "metadata": {
    "papermill": {
     "duration": 0.150707,
     "end_time": "2022-12-11T13:22:09.722093",
     "exception": false,
     "start_time": "2022-12-11T13:22:09.571386",
     "status": "completed"
    },
    "tags": []
   },
   "source": [
    "Research question: does the distribution of 'Overall' in 'Left' category is different than 'Overall' in 'Right' category?"
   ]
  },
  {
   "cell_type": "markdown",
   "id": "1ad643ec",
   "metadata": {
    "papermill": {
     "duration": 0.154514,
     "end_time": "2022-12-11T13:22:10.027374",
     "exception": false,
     "start_time": "2022-12-11T13:22:09.872860",
     "status": "completed"
    },
    "tags": []
   },
   "source": [
    "Spliting the 1200 sample as requested"
   ]
  },
  {
   "cell_type": "code",
   "execution_count": 69,
   "id": "a0d9b79d",
   "metadata": {
    "execution": {
     "iopub.execute_input": "2022-12-11T13:22:10.387500Z",
     "iopub.status.busy": "2022-12-11T13:22:10.386467Z",
     "iopub.status.idle": "2022-12-11T13:22:12.152662Z",
     "shell.execute_reply": "2022-12-11T13:22:12.152021Z",
     "shell.execute_reply.started": "2022-02-28T20:36:19.73531Z"
    },
    "papermill": {
     "duration": 1.92443,
     "end_time": "2022-12-11T13:22:12.152872",
     "exception": false,
     "start_time": "2022-12-11T13:22:10.228442",
     "status": "completed"
    },
    "tags": []
   },
   "outputs": [],
   "source": [
    "data = fifa.loc[:, ('Overall', 'Preferred Foot')]\n",
    "data['Preferred_Foot'] = data.apply(lambda row: 1 if row['Preferred Foot'] == 'Left' else 0, axis=1)\n",
    "data['z'] = data.apply(lambda row: 1 if row['Overall'] > data['Overall'].median() else 0, axis=1)\n",
    "sample = data.sample(1200, random_state=0)\n",
    "sample_200 = sample.iloc[:200,:]\n",
    "sample_1000 = sample.iloc[201:,:]"
   ]
  },
  {
   "cell_type": "markdown",
   "id": "4c173918",
   "metadata": {
    "papermill": {
     "duration": 0.152422,
     "end_time": "2022-12-11T13:22:12.456393",
     "exception": false,
     "start_time": "2022-12-11T13:22:12.303971",
     "status": "completed"
    },
    "tags": []
   },
   "source": [
    "Estimation of psi and bootstrap based CI"
   ]
  },
  {
   "cell_type": "code",
   "execution_count": 70,
   "id": "fe1c9a5d",
   "metadata": {
    "execution": {
     "iopub.execute_input": "2022-12-11T13:22:12.780655Z",
     "iopub.status.busy": "2022-12-11T13:22:12.777687Z",
     "iopub.status.idle": "2022-12-11T13:22:18.373969Z",
     "shell.execute_reply": "2022-12-11T13:22:18.373340Z",
     "shell.execute_reply.started": "2022-02-28T20:36:21.540621Z"
    },
    "papermill": {
     "duration": 5.765916,
     "end_time": "2022-12-11T13:22:18.374134",
     "exception": false,
     "start_time": "2022-12-11T13:22:12.608218",
     "status": "completed"
    },
    "tags": []
   },
   "outputs": [
    {
     "name": "stdout",
     "output_type": "stream",
     "text": [
      "Estimated psi is: 0.11278743143211799\n",
      "Bootstrap based confidence interval for psi is: [-0.6078212508718858, 0.8037554672134357]\n"
     ]
    }
   ],
   "source": [
    "import scipy.stats as stats\n",
    "B = 400\n",
    "log_odds_ration_list = []\n",
    "for _ in range(B):\n",
    "    temp_sample = data.sample(n=200)\n",
    "    temp_con_table = pd.crosstab(temp_sample['z'],temp_sample['Preferred_Foot'], rownames='Z', colnames='Y')\n",
    "    temp_odds_ratio, _ = stats.fisher_exact(temp_con_table)\n",
    "    log_odds_ration_list.append(np.log(temp_odds_ratio))\n",
    "    \n",
    "boot_psi_est = (1 / B) * np.sum(log_odds_ration_list)\n",
    "print(f'Estimated psi is: {boot_psi_est}')\n",
    "print(f'Bootstrap based confidence interval for psi is: {[np.quantile(log_odds_ration_list, 0.025), np.quantile(log_odds_ration_list, 0.975)]}')"
   ]
  },
  {
   "cell_type": "markdown",
   "id": "6db214e6",
   "metadata": {
    "papermill": {
     "duration": 0.150797,
     "end_time": "2022-12-11T13:22:18.679360",
     "exception": false,
     "start_time": "2022-12-11T13:22:18.528563",
     "status": "completed"
    },
    "tags": []
   },
   "source": [
    "Credible interval for psi (Uniform prior Beta(1,1)) follows the course book 11.4"
   ]
  },
  {
   "cell_type": "code",
   "execution_count": 71,
   "id": "16bdd405",
   "metadata": {
    "execution": {
     "iopub.execute_input": "2022-12-11T13:22:18.991096Z",
     "iopub.status.busy": "2022-12-11T13:22:18.990377Z",
     "iopub.status.idle": "2022-12-11T13:22:18.998887Z",
     "shell.execute_reply": "2022-12-11T13:22:18.999520Z",
     "shell.execute_reply.started": "2022-02-28T20:36:27.924796Z"
    },
    "papermill": {
     "duration": 0.169339,
     "end_time": "2022-12-11T13:22:18.999714",
     "exception": false,
     "start_time": "2022-12-11T13:22:18.830375",
     "status": "completed"
    },
    "tags": []
   },
   "outputs": [
    {
     "name": "stdout",
     "output_type": "stream",
     "text": [
      "Estimated psi is: 0.3266214520322378\n",
      "Credible interval for psi is: [-0.27639144639612706, 0.9712770770939826]\n"
     ]
    }
   ],
   "source": [
    "B = 200\n",
    "r = len(sample_200[sample_200['Preferred_Foot'] == 0])\n",
    "l = len(sample_200[sample_200['Preferred_Foot'] == 1])\n",
    "s_r = sample_200[sample_200['Preferred_Foot'] == 0]['z'].sum()\n",
    "s_l = sample_200[sample_200['Preferred_Foot'] == 1]['z'].sum()\n",
    "p_l = np.random.beta(s_l + 1, l - s_l + 1, B)\n",
    "p_r = np.random.beta(s_r + 1, r - s_r + 1, B)\n",
    "eta_l = [np.log(p / (1 - p)) for p in p_l]\n",
    "eta_r = [np.log(p / (1 - p)) for p in p_r]\n",
    "psi = [(eta_1 - eta_2) for eta_1, eta_2 in zip(eta_l, eta_r)]\n",
    "uni_prior_psi = sum(psi) / len(psi)\n",
    "\n",
    "print(f'Estimated psi is: {uni_prior_psi}')\n",
    "print(f'Credible interval for psi is: {[np.quantile(psi, 0.025), np.quantile(psi, 0.975)]}')"
   ]
  },
  {
   "cell_type": "markdown",
   "id": "fd919aed",
   "metadata": {
    "papermill": {
     "duration": 0.151717,
     "end_time": "2022-12-11T13:22:19.304131",
     "exception": false,
     "start_time": "2022-12-11T13:22:19.152414",
     "status": "completed"
    },
    "tags": []
   },
   "source": [
    "Credible interval for psi (Jeffreys prior Beta(0.5,0.5)) follows the course book 11.4"
   ]
  },
  {
   "cell_type": "code",
   "execution_count": 72,
   "id": "f6de2979",
   "metadata": {
    "execution": {
     "iopub.execute_input": "2022-12-11T13:22:19.609917Z",
     "iopub.status.busy": "2022-12-11T13:22:19.609207Z",
     "iopub.status.idle": "2022-12-11T13:22:19.622940Z",
     "shell.execute_reply": "2022-12-11T13:22:19.623598Z",
     "shell.execute_reply.started": "2022-02-28T20:36:27.94808Z"
    },
    "papermill": {
     "duration": 0.167985,
     "end_time": "2022-12-11T13:22:19.623796",
     "exception": false,
     "start_time": "2022-12-11T13:22:19.455811",
     "status": "completed"
    },
    "tags": []
   },
   "outputs": [
    {
     "name": "stdout",
     "output_type": "stream",
     "text": [
      "Estimated psi is: 0.32517847633998875\n",
      "Credible interval for psi is: [-0.30429422797733774, 0.962142628791526]\n"
     ]
    }
   ],
   "source": [
    "B = 200\n",
    "r = len(sample_200[sample_200['Preferred_Foot'] == 0])\n",
    "l = len(sample_200[sample_200['Preferred_Foot'] == 1])\n",
    "s_r = sample_200[sample_200['Preferred_Foot'] == 0]['z'].sum()\n",
    "s_l = sample_200[sample_200['Preferred_Foot'] == 1]['z'].sum()\n",
    "p_l = np.random.beta(s_l + 0.5, l - s_l + 0.5, B)\n",
    "p_r = np.random.beta(s_r + 0.5, r - s_r + 0.5, B)\n",
    "eta_l = [np.log(p / (1 - p)) for p in p_l]\n",
    "eta_r = [np.log(p / (1 - p)) for p in p_r]\n",
    "psi = [(eta_1 - eta_2) for eta_1, eta_2 in zip(eta_l, eta_r)]\n",
    "Jeff_prior_psi = sum(psi) / len(psi)\n",
    "\n",
    "print(f'Estimated psi is: {Jeff_prior_psi}')\n",
    "print(f'Credible interval for psi is: {[np.quantile(psi, 0.025), np.quantile(psi, 0.975)]}')"
   ]
  },
  {
   "cell_type": "markdown",
   "id": "6cf27a8a",
   "metadata": {
    "papermill": {
     "duration": 0.151674,
     "end_time": "2022-12-11T13:22:19.928159",
     "exception": false,
     "start_time": "2022-12-11T13:22:19.776485",
     "status": "completed"
    },
    "tags": []
   },
   "source": [
    "Now we'll use sample_1000 (past_data) to calculate prior (assuming Beta) to p_l, p_r"
   ]
  },
  {
   "cell_type": "code",
   "execution_count": 73,
   "id": "86d46b4a",
   "metadata": {
    "execution": {
     "iopub.execute_input": "2022-12-11T13:22:20.248771Z",
     "iopub.status.busy": "2022-12-11T13:22:20.248038Z",
     "iopub.status.idle": "2022-12-11T13:22:22.179987Z",
     "shell.execute_reply": "2022-12-11T13:22:22.179348Z",
     "shell.execute_reply.started": "2022-02-28T20:36:27.966544Z"
    },
    "papermill": {
     "duration": 2.100732,
     "end_time": "2022-12-11T13:22:22.180127",
     "exception": false,
     "start_time": "2022-12-11T13:22:20.079395",
     "status": "completed"
    },
    "tags": []
   },
   "outputs": [
    {
     "name": "stdout",
     "output_type": "stream",
     "text": [
      "Estimated psi is: 0.20847079465039398\n",
      "Credible interval for psi is: [-0.2007624332434312, 0.6329858200793477]\n"
     ]
    }
   ],
   "source": [
    "import scipy.stats as stats\n",
    "B = 1000\n",
    "p_l_list = []\n",
    "p_r_list = []\n",
    "for _ in  range(B):\n",
    "    temp_sample = sample_1000.sample(n=200)\n",
    "    p_l_list.append(temp_sample[temp_sample['Preferred_Foot'] == 1]['z'].sum() / (len(temp_sample[temp_sample['Preferred_Foot'] == 1])))\n",
    "    p_r_list.append(temp_sample[temp_sample['Preferred_Foot'] == 0]['z'].sum() / (len(temp_sample[temp_sample['Preferred_Foot'] == 0])))\n",
    "\n",
    "# Fitting beta distribution and getting its parameter for the priors\n",
    "a_p_l, b_p_l = stats.beta.fit(p_l_list, floc=0, fscale=1)[: 2]\n",
    "a_p_r, b_p_r = stats.beta.fit(p_r_list, floc=0, fscale=1)[: 2]\n",
    "\n",
    "# Now calculate the posterior\n",
    "l = len(sample_200[sample_200['Preferred_Foot'] == 1])\n",
    "r = len(sample_200[sample_200['Preferred_Foot'] == 0])\n",
    "s_r = sample_200[sample_200['Preferred_Foot'] == 0]['z'].sum()\n",
    "s_l = sample_200[sample_200['Preferred_Foot'] == 1]['z'].sum()\n",
    "p_l = np.random.beta(s_l + a_p_l, l - s_l + b_p_l, B)\n",
    "p_r = np.random.beta(s_r + a_p_r, r - s_r + b_p_r, B)\n",
    "eta_l = [np.log(p / (1 - p)) for p in p_l]\n",
    "eta_r = [np.log(p / (1 - p)) for p in p_r]\n",
    "psi = [(eta_1 - eta_2) for eta_1, eta_2 in zip(eta_l, eta_r)]\n",
    "past_data_psi = sum(psi) / len(psi)\n",
    "\n",
    "print(f'Estimated psi is: {past_data_psi}')\n",
    "print(f'Credible interval for psi is: {[np.quantile(psi, 0.025), np.quantile(psi, 0.975)]}')"
   ]
  },
  {
   "cell_type": "markdown",
   "id": "16da5bbf",
   "metadata": {
    "papermill": {
     "duration": 0.152839,
     "end_time": "2022-12-11T13:22:22.484691",
     "exception": false,
     "start_time": "2022-12-11T13:22:22.331852",
     "status": "completed"
    },
    "tags": []
   },
   "source": [
    "Psi from all data"
   ]
  },
  {
   "cell_type": "code",
   "execution_count": 74,
   "id": "fe85cc4f",
   "metadata": {
    "execution": {
     "iopub.execute_input": "2022-12-11T13:22:22.791252Z",
     "iopub.status.busy": "2022-12-11T13:22:22.790517Z",
     "iopub.status.idle": "2022-12-11T13:22:23.251083Z",
     "shell.execute_reply": "2022-12-11T13:22:23.251589Z",
     "shell.execute_reply.started": "2022-02-28T20:36:29.840587Z"
    },
    "papermill": {
     "duration": 0.615573,
     "end_time": "2022-12-11T13:22:23.251820",
     "exception": false,
     "start_time": "2022-12-11T13:22:22.636247",
     "status": "completed"
    },
    "tags": []
   },
   "outputs": [
    {
     "name": "stdout",
     "output_type": "stream",
     "text": [
      "Psi from all data is: 0.13570679849371922\n"
     ]
    }
   ],
   "source": [
    "con_table = pd.crosstab(data['z'],data['Preferred_Foot'], rownames='Z', colnames='Y')\n",
    "odds_ration, _ = stats.fisher_exact(con_table)\n",
    "data_psi = np.log(odds_ration)\n",
    "\n",
    "print(f'Psi from all data is: {data_psi}')"
   ]
  },
  {
   "cell_type": "markdown",
   "id": "3e281d81",
   "metadata": {
    "papermill": {
     "duration": 0.153939,
     "end_time": "2022-12-11T13:22:23.557592",
     "exception": false,
     "start_time": "2022-12-11T13:22:23.403653",
     "status": "completed"
    },
    "tags": []
   },
   "source": [
    "**Comparison**"
   ]
  },
  {
   "cell_type": "code",
   "execution_count": 75,
   "id": "0515e8bc",
   "metadata": {
    "execution": {
     "iopub.execute_input": "2022-12-11T13:22:23.867835Z",
     "iopub.status.busy": "2022-12-11T13:22:23.867168Z",
     "iopub.status.idle": "2022-12-11T13:22:23.880377Z",
     "shell.execute_reply": "2022-12-11T13:22:23.879822Z",
     "shell.execute_reply.started": "2022-02-28T20:36:30.472414Z"
    },
    "papermill": {
     "duration": 0.168481,
     "end_time": "2022-12-11T13:22:23.880518",
     "exception": false,
     "start_time": "2022-12-11T13:22:23.712037",
     "status": "completed"
    },
    "tags": []
   },
   "outputs": [
    {
     "data": {
      "text/html": [
       "<div>\n",
       "<style scoped>\n",
       "    .dataframe tbody tr th:only-of-type {\n",
       "        vertical-align: middle;\n",
       "    }\n",
       "\n",
       "    .dataframe tbody tr th {\n",
       "        vertical-align: top;\n",
       "    }\n",
       "\n",
       "    .dataframe thead th {\n",
       "        text-align: right;\n",
       "    }\n",
       "</style>\n",
       "<table border=\"1\" class=\"dataframe\">\n",
       "  <thead>\n",
       "    <tr style=\"text-align: right;\">\n",
       "      <th></th>\n",
       "      <th>All Data</th>\n",
       "      <th>Past data psi</th>\n",
       "      <th>Jeffreys prior psi</th>\n",
       "      <th>Uniform prior psi</th>\n",
       "      <th>Bootstrap psi</th>\n",
       "    </tr>\n",
       "  </thead>\n",
       "  <tbody>\n",
       "    <tr>\n",
       "      <th>Psi estimation</th>\n",
       "      <td>0.135707</td>\n",
       "      <td>0.208471</td>\n",
       "      <td>0.325178</td>\n",
       "      <td>0.326621</td>\n",
       "      <td>0.112787</td>\n",
       "    </tr>\n",
       "  </tbody>\n",
       "</table>\n",
       "</div>"
      ],
      "text/plain": [
       "                All Data  Past data psi  Jeffreys prior psi  \\\n",
       "Psi estimation  0.135707       0.208471            0.325178   \n",
       "\n",
       "                Uniform prior psi  Bootstrap psi  \n",
       "Psi estimation           0.326621       0.112787  "
      ]
     },
     "execution_count": 75,
     "metadata": {},
     "output_type": "execute_result"
    }
   ],
   "source": [
    "comparison = {'All Data': data_psi, 'Past data psi': past_data_psi, 'Jeffreys prior psi': Jeff_prior_psi, 'Uniform prior psi': uni_prior_psi,\\\n",
    "             'Bootstrap psi': boot_psi_est}\n",
    "pd.DataFrame(comparison, index=['Psi estimation'])"
   ]
  },
  {
   "cell_type": "markdown",
   "id": "4d64e4e2",
   "metadata": {
    "papermill": {
     "duration": 0.157403,
     "end_time": "2022-12-11T13:22:24.192884",
     "exception": false,
     "start_time": "2022-12-11T13:22:24.035481",
     "status": "completed"
    },
    "tags": []
   },
   "source": [
    "We got that the boostrap estimator was by far the most accurate. However, in this case, we could sample quite easily from our distribution and we used many sets. In case we can't sample easily from our distribution we will prefer the estimator that used previous data. The result is as expected, the estimator that used more data was more accurate to the real world result and the estimators that used non informative priors gave us results that are far from the actual value."
   ]
  },
  {
   "cell_type": "markdown",
   "id": "dd1285c7",
   "metadata": {
    "papermill": {
     "duration": 0.153376,
     "end_time": "2022-12-11T13:22:24.502768",
     "exception": false,
     "start_time": "2022-12-11T13:22:24.349392",
     "status": "completed"
    },
    "tags": []
   },
   "source": [
    "# Section II"
   ]
  },
  {
   "cell_type": "markdown",
   "id": "3db0ec04",
   "metadata": {
    "papermill": {
     "duration": 0.151672,
     "end_time": "2022-12-11T13:22:24.807886",
     "exception": false,
     "start_time": "2022-12-11T13:22:24.656214",
     "status": "completed"
    },
    "tags": []
   },
   "source": [
    "The continuos features are 'Stamina' and 'Agility', the discreet feature is 'Preferred foot', Y is 'Overall'"
   ]
  },
  {
   "cell_type": "code",
   "execution_count": 76,
   "id": "75dc61bd",
   "metadata": {
    "execution": {
     "iopub.execute_input": "2022-12-11T13:22:25.122026Z",
     "iopub.status.busy": "2022-12-11T13:22:25.120063Z",
     "iopub.status.idle": "2022-12-11T13:22:25.345041Z",
     "shell.execute_reply": "2022-12-11T13:22:25.344415Z",
     "shell.execute_reply.started": "2022-03-01T12:08:38.229433Z"
    },
    "papermill": {
     "duration": 0.384491,
     "end_time": "2022-12-11T13:22:25.345189",
     "exception": false,
     "start_time": "2022-12-11T13:22:24.960698",
     "status": "completed"
    },
    "tags": []
   },
   "outputs": [],
   "source": [
    "data = fifa.loc[:, ('Overall', 'Stamina', 'Agility', 'Preferred Foot')]\n",
    "data['Preferred_Foot'] = data.apply(lambda row: 1 if row['Preferred Foot'] == 'Left' else 2, axis=1)\n",
    "\n",
    "sample = data.sample(1000, random_state=0)"
   ]
  },
  {
   "cell_type": "markdown",
   "id": "7d516bf8",
   "metadata": {
    "papermill": {
     "duration": 0.155185,
     "end_time": "2022-12-11T13:22:25.656078",
     "exception": false,
     "start_time": "2022-12-11T13:22:25.500893",
     "status": "completed"
    },
    "tags": []
   },
   "source": [
    "**Linear Regression without Missing Data**"
   ]
  },
  {
   "cell_type": "code",
   "execution_count": 77,
   "id": "f3b7fa01",
   "metadata": {
    "execution": {
     "iopub.execute_input": "2022-12-11T13:22:25.967209Z",
     "iopub.status.busy": "2022-12-11T13:22:25.966509Z",
     "iopub.status.idle": "2022-12-11T13:22:26.004888Z",
     "shell.execute_reply": "2022-12-11T13:22:26.005944Z",
     "shell.execute_reply.started": "2022-03-01T12:08:40.503462Z"
    },
    "papermill": {
     "duration": 0.196011,
     "end_time": "2022-12-11T13:22:26.006263",
     "exception": false,
     "start_time": "2022-12-11T13:22:25.810252",
     "status": "completed"
    },
    "tags": []
   },
   "outputs": [
    {
     "name": "stdout",
     "output_type": "stream",
     "text": [
      "Intercept         53.619430\n",
      "Agility            0.044563\n",
      "Stamina            0.144178\n",
      "Preferred_Foot     0.276972\n",
      "dtype: float64\n"
     ]
    },
    {
     "data": {
      "text/html": [
       "<div>\n",
       "<style scoped>\n",
       "    .dataframe tbody tr th:only-of-type {\n",
       "        vertical-align: middle;\n",
       "    }\n",
       "\n",
       "    .dataframe tbody tr th {\n",
       "        vertical-align: top;\n",
       "    }\n",
       "\n",
       "    .dataframe thead th {\n",
       "        text-align: right;\n",
       "    }\n",
       "</style>\n",
       "<table border=\"1\" class=\"dataframe\">\n",
       "  <thead>\n",
       "    <tr style=\"text-align: right;\">\n",
       "      <th></th>\n",
       "      <th>Parameter</th>\n",
       "      <th>Low</th>\n",
       "      <th>High</th>\n",
       "    </tr>\n",
       "  </thead>\n",
       "  <tbody>\n",
       "    <tr>\n",
       "      <th>0</th>\n",
       "      <td>b0</td>\n",
       "      <td>50.829128</td>\n",
       "      <td>56.409731</td>\n",
       "    </tr>\n",
       "    <tr>\n",
       "      <th>1</th>\n",
       "      <td>b1</td>\n",
       "      <td>0.011222</td>\n",
       "      <td>0.077903</td>\n",
       "    </tr>\n",
       "    <tr>\n",
       "      <th>2</th>\n",
       "      <td>b2</td>\n",
       "      <td>0.112920</td>\n",
       "      <td>0.175436</td>\n",
       "    </tr>\n",
       "    <tr>\n",
       "      <th>3</th>\n",
       "      <td>b3</td>\n",
       "      <td>-0.675558</td>\n",
       "      <td>1.229502</td>\n",
       "    </tr>\n",
       "  </tbody>\n",
       "</table>\n",
       "</div>"
      ],
      "text/plain": [
       "  Parameter        Low       High\n",
       "0        b0  50.829128  56.409731\n",
       "1        b1   0.011222   0.077903\n",
       "2        b2   0.112920   0.175436\n",
       "3        b3  -0.675558   1.229502"
      ]
     },
     "execution_count": 77,
     "metadata": {},
     "output_type": "execute_result"
    }
   ],
   "source": [
    "model_sample = smf.ols('Overall ~ Agility + Stamina + Preferred_Foot', sample).fit()\n",
    "print(model_sample.params)\n",
    "\n",
    "C = np.ones((1000,4))\n",
    "C[:,1:] = sample[['Agility', 'Stamina', 'Preferred_Foot']].to_numpy()\n",
    "C = np.linalg.inv((C.T@C))\n",
    "var_error = np.sum(model_sample.resid**2)/996\n",
    "conf_int_full = {'Parameter': [], 'Low': [], 'High': []}\n",
    "for i in range(4):\n",
    "    b_hat = model_sample.params[i]\n",
    "    ci_low = b_hat - 1.96*np.sqrt(var_error*C[i][i])\n",
    "    ci_high = b_hat + 1.96*np.sqrt(var_error*C[i][i])\n",
    "    conf_int_full['Parameter'].append('b%s' % i)\n",
    "    conf_int_full['Low'].append(ci_low)\n",
    "    conf_int_full['High'].append(ci_high)\n",
    "pd.DataFrame(data=conf_int_full)"
   ]
  },
  {
   "cell_type": "markdown",
   "id": "53c924f1",
   "metadata": {
    "papermill": {
     "duration": 0.158711,
     "end_time": "2022-12-11T13:22:26.400310",
     "exception": false,
     "start_time": "2022-12-11T13:22:26.241599",
     "status": "completed"
    },
    "tags": []
   },
   "source": [
    "**Adding Missing Data**"
   ]
  },
  {
   "cell_type": "code",
   "execution_count": 78,
   "id": "23a40e97",
   "metadata": {
    "execution": {
     "iopub.execute_input": "2022-12-11T13:22:26.714297Z",
     "iopub.status.busy": "2022-12-11T13:22:26.713631Z",
     "iopub.status.idle": "2022-12-11T13:22:26.731876Z",
     "shell.execute_reply": "2022-12-11T13:22:26.732338Z",
     "shell.execute_reply.started": "2022-03-01T12:08:45.046895Z"
    },
    "papermill": {
     "duration": 0.177922,
     "end_time": "2022-12-11T13:22:26.732526",
     "exception": false,
     "start_time": "2022-12-11T13:22:26.554604",
     "status": "completed"
    },
    "tags": []
   },
   "outputs": [
    {
     "data": {
      "text/plain": [
       "False    501\n",
       "True     499\n",
       "Name: Overall, dtype: int64"
      ]
     },
     "execution_count": 78,
     "metadata": {},
     "output_type": "execute_result"
    }
   ],
   "source": [
    "sample = sample.sort_values('Overall')\n",
    "sample = sample.reset_index()\n",
    "\n",
    "to_delete = 0\n",
    "for i in range(1000):\n",
    "\n",
    "    p_i = i / 1000\n",
    "    ber = np.random.binomial(1, p_i)\n",
    "    if ber == 1:\n",
    "        sample.at[i, 'Overall'] = None\n",
    "        to_delete = to_delete + 1\n",
    "        \n",
    "sample.Overall.isnull().value_counts()"
   ]
  },
  {
   "cell_type": "markdown",
   "id": "2f6ceea0",
   "metadata": {
    "papermill": {
     "duration": 0.15631,
     "end_time": "2022-12-11T13:22:27.045191",
     "exception": false,
     "start_time": "2022-12-11T13:22:26.888881",
     "status": "completed"
    },
    "tags": []
   },
   "source": [
    "**Linear Regression Based on Visible Data Only**"
   ]
  },
  {
   "cell_type": "code",
   "execution_count": 79,
   "id": "f7517e39",
   "metadata": {
    "execution": {
     "iopub.execute_input": "2022-12-11T13:22:27.367983Z",
     "iopub.status.busy": "2022-12-11T13:22:27.366956Z",
     "iopub.status.idle": "2022-12-11T13:22:27.399826Z",
     "shell.execute_reply": "2022-12-11T13:22:27.401011Z",
     "shell.execute_reply.started": "2022-03-01T12:08:47.414443Z"
    },
    "papermill": {
     "duration": 0.198688,
     "end_time": "2022-12-11T13:22:27.401389",
     "exception": false,
     "start_time": "2022-12-11T13:22:27.202701",
     "status": "completed"
    },
    "tags": []
   },
   "outputs": [
    {
     "name": "stdout",
     "output_type": "stream",
     "text": [
      "Intercept         52.063654\n",
      "Agility            0.022689\n",
      "Stamina            0.156207\n",
      "Preferred_Foot    -0.381400\n",
      "dtype: float64\n"
     ]
    },
    {
     "data": {
      "text/html": [
       "<div>\n",
       "<style scoped>\n",
       "    .dataframe tbody tr th:only-of-type {\n",
       "        vertical-align: middle;\n",
       "    }\n",
       "\n",
       "    .dataframe tbody tr th {\n",
       "        vertical-align: top;\n",
       "    }\n",
       "\n",
       "    .dataframe thead th {\n",
       "        text-align: right;\n",
       "    }\n",
       "</style>\n",
       "<table border=\"1\" class=\"dataframe\">\n",
       "  <thead>\n",
       "    <tr style=\"text-align: right;\">\n",
       "      <th></th>\n",
       "      <th>Parameter</th>\n",
       "      <th>Low</th>\n",
       "      <th>High</th>\n",
       "    </tr>\n",
       "  </thead>\n",
       "  <tbody>\n",
       "    <tr>\n",
       "      <th>0</th>\n",
       "      <td>b0</td>\n",
       "      <td>49.172720</td>\n",
       "      <td>54.954588</td>\n",
       "    </tr>\n",
       "    <tr>\n",
       "      <th>1</th>\n",
       "      <td>b1</td>\n",
       "      <td>-0.013144</td>\n",
       "      <td>0.058521</td>\n",
       "    </tr>\n",
       "    <tr>\n",
       "      <th>2</th>\n",
       "      <td>b2</td>\n",
       "      <td>0.121436</td>\n",
       "      <td>0.190977</td>\n",
       "    </tr>\n",
       "    <tr>\n",
       "      <th>3</th>\n",
       "      <td>b3</td>\n",
       "      <td>-1.417630</td>\n",
       "      <td>0.654831</td>\n",
       "    </tr>\n",
       "  </tbody>\n",
       "</table>\n",
       "</div>"
      ],
      "text/plain": [
       "  Parameter        Low       High\n",
       "0        b0  49.172720  54.954588\n",
       "1        b1  -0.013144   0.058521\n",
       "2        b2   0.121436   0.190977\n",
       "3        b3  -1.417630   0.654831"
      ]
     },
     "execution_count": 79,
     "metadata": {},
     "output_type": "execute_result"
    }
   ],
   "source": [
    "sample_visible_1 = sample.copy(deep=True)\n",
    "sample_visible = sample_visible_1.dropna()\n",
    "\n",
    "model_sample_visible = smf.ols('Overall ~ Agility + Stamina + Preferred_Foot', sample_visible).fit()\n",
    "print(model_sample_visible.params)\n",
    "\n",
    "C = np.ones((len(sample_visible),4))\n",
    "C[:,1:] = sample_visible[['Agility', 'Stamina', 'Preferred_Foot']].to_numpy()\n",
    "C = np.linalg.inv((C.T@C))\n",
    "var_error = np.sum(model_sample_visible.resid**2)/(len(sample_visible) - 4)\n",
    "conf_int_visible = {'Parameter': [], 'Low': [], 'High': []}\n",
    "for i in range(4):\n",
    "    b_hat = model_sample_visible.params[i]\n",
    "    ci_low = b_hat - 1.96*np.sqrt(var_error*C[i][i])\n",
    "    ci_high = b_hat + 1.96*np.sqrt(var_error*C[i][i])\n",
    "    conf_int_visible['Parameter'].append('b%s' % i)\n",
    "    conf_int_visible['Low'].append(ci_low)\n",
    "    conf_int_visible['High'].append(ci_high)\n",
    "pd.DataFrame(data=conf_int_visible)"
   ]
  },
  {
   "cell_type": "markdown",
   "id": "ed2c070b",
   "metadata": {
    "papermill": {
     "duration": 0.156614,
     "end_time": "2022-12-11T13:22:27.778279",
     "exception": false,
     "start_time": "2022-12-11T13:22:27.621665",
     "status": "completed"
    },
    "tags": []
   },
   "source": [
    "Now complete missing values with regression imputation, we are completing a continuos feature thus assume completion by linear regression from previuose section."
   ]
  },
  {
   "cell_type": "code",
   "execution_count": 80,
   "id": "8262e498",
   "metadata": {
    "execution": {
     "iopub.execute_input": "2022-12-11T13:22:28.100063Z",
     "iopub.status.busy": "2022-12-11T13:22:28.098980Z",
     "iopub.status.idle": "2022-12-11T13:22:28.155995Z",
     "shell.execute_reply": "2022-12-11T13:22:28.154802Z",
     "shell.execute_reply.started": "2022-03-01T12:08:51.956264Z"
    },
    "papermill": {
     "duration": 0.221381,
     "end_time": "2022-12-11T13:22:28.156262",
     "exception": false,
     "start_time": "2022-12-11T13:22:27.934881",
     "status": "completed"
    },
    "tags": []
   },
   "outputs": [
    {
     "name": "stdout",
     "output_type": "stream",
     "text": [
      "Intercept         52.063654\n",
      "Agility            0.022689\n",
      "Stamina            0.156207\n",
      "Preferred_Foot    -0.381400\n",
      "dtype: float64\n"
     ]
    },
    {
     "name": "stderr",
     "output_type": "stream",
     "text": [
      "/opt/conda/lib/python3.7/site-packages/statsmodels/tsa/tsatools.py:142: FutureWarning: In a future version of pandas all arguments of concat except for the argument 'objs' will be keyword-only\n",
      "  x = pd.concat(x[::order], 1)\n"
     ]
    },
    {
     "data": {
      "text/html": [
       "<div>\n",
       "<style scoped>\n",
       "    .dataframe tbody tr th:only-of-type {\n",
       "        vertical-align: middle;\n",
       "    }\n",
       "\n",
       "    .dataframe tbody tr th {\n",
       "        vertical-align: top;\n",
       "    }\n",
       "\n",
       "    .dataframe thead th {\n",
       "        text-align: right;\n",
       "    }\n",
       "</style>\n",
       "<table border=\"1\" class=\"dataframe\">\n",
       "  <thead>\n",
       "    <tr style=\"text-align: right;\">\n",
       "      <th></th>\n",
       "      <th>Parameter</th>\n",
       "      <th>Low</th>\n",
       "      <th>High</th>\n",
       "    </tr>\n",
       "  </thead>\n",
       "  <tbody>\n",
       "    <tr>\n",
       "      <th>0</th>\n",
       "      <td>b0</td>\n",
       "      <td>50.567901</td>\n",
       "      <td>53.559407</td>\n",
       "    </tr>\n",
       "    <tr>\n",
       "      <th>1</th>\n",
       "      <td>b1</td>\n",
       "      <td>0.004816</td>\n",
       "      <td>0.040561</td>\n",
       "    </tr>\n",
       "    <tr>\n",
       "      <th>2</th>\n",
       "      <td>b2</td>\n",
       "      <td>0.139450</td>\n",
       "      <td>0.172963</td>\n",
       "    </tr>\n",
       "    <tr>\n",
       "      <th>3</th>\n",
       "      <td>b3</td>\n",
       "      <td>-0.892008</td>\n",
       "      <td>0.129209</td>\n",
       "    </tr>\n",
       "  </tbody>\n",
       "</table>\n",
       "</div>"
      ],
      "text/plain": [
       "  Parameter        Low       High\n",
       "0        b0  50.567901  53.559407\n",
       "1        b1   0.004816   0.040561\n",
       "2        b2   0.139450   0.172963\n",
       "3        b3  -0.892008   0.129209"
      ]
     },
     "execution_count": 80,
     "metadata": {},
     "output_type": "execute_result"
    }
   ],
   "source": [
    "from statsmodels.tools import add_constant\n",
    "\n",
    "# Completing missing data\n",
    "lin_reg_sample = sample.copy(deep=True)\n",
    "X = lin_reg_sample[lin_reg_sample.Overall.isnull()][['Agility', 'Stamina', 'Preferred_Foot']]\n",
    "X = add_constant(X)\n",
    "lin_reg_sample.loc[lin_reg_sample.Overall.isnull(), 'Overall'] = model_sample_visible.predict(X)\n",
    "\n",
    "# Linear regression coefficients\n",
    "model_lin_reg_imp = smf.ols('Overall ~ Agility + Stamina + Preferred_Foot', lin_reg_sample).fit()\n",
    "print(model_lin_reg_imp.params)\n",
    "\n",
    "C = np.ones((len(lin_reg_sample),4))\n",
    "C[:,1:] = lin_reg_sample[['Agility', 'Stamina', 'Preferred_Foot']].to_numpy()\n",
    "C = np.linalg.inv((C.T@C))\n",
    "var_error = np.sum(model_lin_reg_imp.resid**2)/996\n",
    "conf_int_reg_imp = {'Parameter': [], 'Low': [], 'High': []}\n",
    "for i in range(4):\n",
    "    b_hat = model_lin_reg_imp.params[i]\n",
    "    ci_low = b_hat - 1.96*np.sqrt(var_error*C[i][i])\n",
    "    ci_high = b_hat + 1.96*np.sqrt(var_error*C[i][i])\n",
    "    conf_int_reg_imp['Parameter'].append('b%s' % i)\n",
    "    conf_int_reg_imp['Low'].append(ci_low)\n",
    "    conf_int_reg_imp['High'].append(ci_high)\n",
    "pd.DataFrame(data=conf_int_reg_imp)"
   ]
  },
  {
   "cell_type": "markdown",
   "id": "9e83d7dc",
   "metadata": {
    "papermill": {
     "duration": 0.155916,
     "end_time": "2022-12-11T13:22:28.526546",
     "exception": false,
     "start_time": "2022-12-11T13:22:28.370630",
     "status": "completed"
    },
    "tags": []
   },
   "source": [
    "As expected, the coefficients didn't change.\n",
    "We filled the missing values from the regression line of the previous section, thus no effect on the coefficients.\n",
    "CIs are shorter because now we have more data from the same regression line thus SE got smaller."
   ]
  },
  {
   "cell_type": "markdown",
   "id": "7f156c6f",
   "metadata": {
    "papermill": {
     "duration": 0.157887,
     "end_time": "2022-12-11T13:22:28.841883",
     "exception": false,
     "start_time": "2022-12-11T13:22:28.683996",
     "status": "completed"
    },
    "tags": []
   },
   "source": [
    "**Multiple Imputation (Assuming Normal Model)**"
   ]
  },
  {
   "cell_type": "code",
   "execution_count": 81,
   "id": "fc6b0421",
   "metadata": {
    "execution": {
     "iopub.execute_input": "2022-12-11T13:22:29.164700Z",
     "iopub.status.busy": "2022-12-11T13:22:29.163951Z",
     "iopub.status.idle": "2022-12-11T13:23:33.450107Z",
     "shell.execute_reply": "2022-12-11T13:23:33.450706Z",
     "shell.execute_reply.started": "2022-03-01T12:08:55.521165Z"
    },
    "papermill": {
     "duration": 64.452365,
     "end_time": "2022-12-11T13:23:33.450898",
     "exception": false,
     "start_time": "2022-12-11T13:22:28.998533",
     "status": "completed"
    },
    "tags": []
   },
   "outputs": [
    {
     "name": "stderr",
     "output_type": "stream",
     "text": [
      "/opt/conda/lib/python3.7/site-packages/statsmodels/tsa/tsatools.py:142: FutureWarning: In a future version of pandas all arguments of concat except for the argument 'objs' will be keyword-only\n",
      "  x = pd.concat(x[::order], 1)\n"
     ]
    },
    {
     "data": {
      "text/plain": [
       "Intercept         52.063654\n",
       "Agility            0.022689\n",
       "Stamina            0.156207\n",
       "Preferred_Foot    -0.381400\n",
       "dtype: float64"
      ]
     },
     "execution_count": 81,
     "metadata": {},
     "output_type": "execute_result"
    }
   ],
   "source": [
    "from statsmodels.tools import add_constant\n",
    "\n",
    "B = 400\n",
    "reg_params = []\n",
    "reg_vars = []\n",
    "\n",
    "for i in range(B):\n",
    "    # Fill the missing values\n",
    "    temp_dataset = sample.copy(deep=True)\n",
    "    X = temp_dataset[temp_dataset.Overall.isnull()][['Agility', 'Stamina', 'Preferred_Foot']]\n",
    "    X = add_constant(X)\n",
    "    pred = model_sample_visible.predict(X)\n",
    "    temp_dataset.loc[temp_dataset.Overall.isnull(), 'Overall'] = [np.random.normal(mu, np.sum(model_sample_visible.resid**2)/(len(sample_visible) - 4)) for mu in pred]\n",
    "    \n",
    "    # Taking params estimators\n",
    "    temp_lin_reg = smf.ols('Overall ~ Agility + Stamina + Preferred_Foot', lin_reg_sample).fit()\n",
    "    reg_params.append(temp_lin_reg.params)\n",
    "    reg_vars.append(temp_lin_reg.bse**2)\n",
    "    \n",
    "# MI estimators\n",
    "MI = sum(reg_params) / B\n",
    "MI"
   ]
  },
  {
   "cell_type": "markdown",
   "id": "20f16069",
   "metadata": {
    "papermill": {
     "duration": 0.158304,
     "end_time": "2022-12-11T13:23:33.768227",
     "exception": false,
     "start_time": "2022-12-11T13:23:33.609923",
     "status": "completed"
    },
    "tags": []
   },
   "source": [
    "**Using Rubin Formula to Estimate SE and Calculate Confidence Intervals**"
   ]
  },
  {
   "cell_type": "code",
   "execution_count": 82,
   "id": "e31c3103",
   "metadata": {
    "execution": {
     "iopub.execute_input": "2022-12-11T13:23:34.096365Z",
     "iopub.status.busy": "2022-12-11T13:23:34.095608Z",
     "iopub.status.idle": "2022-12-11T13:23:34.281995Z",
     "shell.execute_reply": "2022-12-11T13:23:34.281465Z",
     "shell.execute_reply.started": "2022-03-01T12:13:03.115373Z"
    },
    "papermill": {
     "duration": 0.354129,
     "end_time": "2022-12-11T13:23:34.282156",
     "exception": false,
     "start_time": "2022-12-11T13:23:33.928027",
     "status": "completed"
    },
    "tags": []
   },
   "outputs": [
    {
     "data": {
      "text/plain": [
       "Intercept         0.763139\n",
       "Agility           0.009119\n",
       "Stamina           0.008549\n",
       "Preferred_Foot    0.260514\n",
       "dtype: float64"
      ]
     },
     "execution_count": 82,
     "metadata": {},
     "output_type": "execute_result"
    }
   ],
   "source": [
    "se = np.sqrt(sum(reg_vars) / B + ((B + 1) / (B * (B - 1))) * sum([(params - MI)**2 for params in reg_params]))\n",
    "se"
   ]
  },
  {
   "cell_type": "markdown",
   "id": "b02f8acc",
   "metadata": {
    "papermill": {
     "duration": 0.157739,
     "end_time": "2022-12-11T13:23:34.597561",
     "exception": false,
     "start_time": "2022-12-11T13:23:34.439822",
     "status": "completed"
    },
    "tags": []
   },
   "source": [
    "**CI for regression parameters**"
   ]
  },
  {
   "cell_type": "code",
   "execution_count": 83,
   "id": "e2d0c6c2",
   "metadata": {
    "execution": {
     "iopub.execute_input": "2022-12-11T13:23:34.924993Z",
     "iopub.status.busy": "2022-12-11T13:23:34.914430Z",
     "iopub.status.idle": "2022-12-11T13:23:34.927546Z",
     "shell.execute_reply": "2022-12-11T13:23:34.928102Z",
     "shell.execute_reply.started": "2022-03-01T12:13:10.400344Z"
    },
    "papermill": {
     "duration": 0.173438,
     "end_time": "2022-12-11T13:23:34.928276",
     "exception": false,
     "start_time": "2022-12-11T13:23:34.754838",
     "status": "completed"
    },
    "tags": []
   },
   "outputs": [
    {
     "data": {
      "text/html": [
       "<div>\n",
       "<style scoped>\n",
       "    .dataframe tbody tr th:only-of-type {\n",
       "        vertical-align: middle;\n",
       "    }\n",
       "\n",
       "    .dataframe tbody tr th {\n",
       "        vertical-align: top;\n",
       "    }\n",
       "\n",
       "    .dataframe thead th {\n",
       "        text-align: right;\n",
       "    }\n",
       "</style>\n",
       "<table border=\"1\" class=\"dataframe\">\n",
       "  <thead>\n",
       "    <tr style=\"text-align: right;\">\n",
       "      <th></th>\n",
       "      <th>Parameter</th>\n",
       "      <th>Low</th>\n",
       "      <th>High</th>\n",
       "    </tr>\n",
       "  </thead>\n",
       "  <tbody>\n",
       "    <tr>\n",
       "      <th>0</th>\n",
       "      <td>b0</td>\n",
       "      <td>50.567901</td>\n",
       "      <td>53.559407</td>\n",
       "    </tr>\n",
       "    <tr>\n",
       "      <th>1</th>\n",
       "      <td>b1</td>\n",
       "      <td>0.004816</td>\n",
       "      <td>0.040561</td>\n",
       "    </tr>\n",
       "    <tr>\n",
       "      <th>2</th>\n",
       "      <td>b2</td>\n",
       "      <td>0.139450</td>\n",
       "      <td>0.172963</td>\n",
       "    </tr>\n",
       "    <tr>\n",
       "      <th>3</th>\n",
       "      <td>b3</td>\n",
       "      <td>-0.892008</td>\n",
       "      <td>0.129209</td>\n",
       "    </tr>\n",
       "  </tbody>\n",
       "</table>\n",
       "</div>"
      ],
      "text/plain": [
       "  Parameter        Low       High\n",
       "0        b0  50.567901  53.559407\n",
       "1        b1   0.004816   0.040561\n",
       "2        b2   0.139450   0.172963\n",
       "3        b3  -0.892008   0.129209"
      ]
     },
     "execution_count": 83,
     "metadata": {},
     "output_type": "execute_result"
    }
   ],
   "source": [
    "conf_int_mul_imp = {'Parameter': [], 'Low': [], 'High': []}\n",
    "for i in range(4):\n",
    "    b_hat = MI[i]\n",
    "    ci_low = b_hat - 1.96*se[i]\n",
    "    ci_high = b_hat + 1.96*se[i]\n",
    "    conf_int_mul_imp['Parameter'].append('b%s' % i)\n",
    "    conf_int_mul_imp['Low'].append(ci_low)\n",
    "    conf_int_mul_imp['High'].append(ci_high)\n",
    "pd.DataFrame(data=conf_int_mul_imp)"
   ]
  },
  {
   "cell_type": "markdown",
   "id": "3b70df10",
   "metadata": {
    "papermill": {
     "duration": 0.160537,
     "end_time": "2022-12-11T13:23:35.246859",
     "exception": false,
     "start_time": "2022-12-11T13:23:35.086322",
     "status": "completed"
    },
    "tags": []
   },
   "source": [
    "**Logistic regression to Calculate P(R=1|Agility, Stamina, Preferred_Foot)**"
   ]
  },
  {
   "cell_type": "code",
   "execution_count": 84,
   "id": "9dab4aaf",
   "metadata": {
    "execution": {
     "iopub.execute_input": "2022-12-11T13:23:35.564169Z",
     "iopub.status.busy": "2022-12-11T13:23:35.563447Z",
     "iopub.status.idle": "2022-12-11T13:23:35.608540Z",
     "shell.execute_reply": "2022-12-11T13:23:35.609845Z",
     "shell.execute_reply.started": "2022-03-01T12:13:14.714737Z"
    },
    "papermill": {
     "duration": 0.206195,
     "end_time": "2022-12-11T13:23:35.610165",
     "exception": false,
     "start_time": "2022-12-11T13:23:35.403970",
     "status": "completed"
    },
    "tags": []
   },
   "outputs": [
    {
     "name": "stdout",
     "output_type": "stream",
     "text": [
      "Optimization terminated successfully.\n",
      "         Current function value: 0.673439\n",
      "         Iterations 5\n",
      "Accuracy score is:  0.611\n"
     ]
    }
   ],
   "source": [
    "from sklearn.metrics import accuracy_score\n",
    "from statsmodels.tools import add_constant\n",
    "\n",
    "# Adding a column to indicate if data is missing\n",
    "sample['R'] = sample.Overall.apply(lambda x: 1 if pd.notnull(x) else 0)\n",
    "\n",
    "# Training the model\n",
    "sample['const'] = 1\n",
    "log_reg = smf.logit(formula = str('R ~ Agility + Stamina + Preferred_Foot'), data=sample).fit()\n",
    "pred = log_reg.predict(sample[['Agility', 'Stamina', 'Preferred_Foot']])\n",
    "pred = list(map(lambda x: 1 if x > 0.5 else 0, pred))\n",
    "true = sample['R'].to_list()\n",
    "print(f'Accuracy score is: ', accuracy_score(true, pred))"
   ]
  },
  {
   "cell_type": "markdown",
   "id": "6f89852d",
   "metadata": {
    "papermill": {
     "duration": 0.158077,
     "end_time": "2022-12-11T13:23:35.984943",
     "exception": false,
     "start_time": "2022-12-11T13:23:35.826866",
     "status": "completed"
    },
    "tags": []
   },
   "source": [
    "**IPW Estimator for OLS Linear Regression**"
   ]
  },
  {
   "cell_type": "markdown",
   "id": "a7190474",
   "metadata": {
    "papermill": {
     "duration": 0.162531,
     "end_time": "2022-12-11T13:23:36.304391",
     "exception": false,
     "start_time": "2022-12-11T13:23:36.141860",
     "status": "completed"
    },
    "tags": []
   },
   "source": [
    "Let $z_i = \\frac{R_i}{\\pi(w_i)}$ and $Z = diag(z)$ thus:  \n",
    "$$\\sum\\limits_{i=1}^{n} {\\frac{R_i}{\\pi(w_i)}(e_i)^2} = \\sum\\limits_{i=1}^{n} {(z_i)(e_i)^2} = \\epsilon^t  Z  \\epsilon \n",
    "= (y - X\\beta)^tZ(y - X\\beta) = (y - X\\beta)(Zy - ZX\\beta) = y^tZy - \\beta^tX^tZy - y^tZX\\beta + \\beta^tX^tZX\\beta$$  \n",
    "To find the min perform derivative with respect to beta and compare to zero:  \n",
    "$-2X^tZy + 2X^tZX\\beta = 0$  \n",
    "$X^tZy = X^tZX\\beta$  \n",
    "$\\beta = (X^tZx)^{-1}X^tZy$"
   ]
  },
  {
   "cell_type": "code",
   "execution_count": 85,
   "id": "786f9407",
   "metadata": {
    "execution": {
     "iopub.execute_input": "2022-12-11T13:23:36.628002Z",
     "iopub.status.busy": "2022-12-11T13:23:36.627279Z",
     "iopub.status.idle": "2022-12-11T13:23:36.649200Z",
     "shell.execute_reply": "2022-12-11T13:23:36.650405Z",
     "shell.execute_reply.started": "2022-03-01T12:13:27.094903Z"
    },
    "papermill": {
     "duration": 0.188848,
     "end_time": "2022-12-11T13:23:36.650781",
     "exception": false,
     "start_time": "2022-12-11T13:23:36.461933",
     "status": "completed"
    },
    "tags": []
   },
   "outputs": [
    {
     "name": "stdout",
     "output_type": "stream",
     "text": [
      "[50.96277775  0.0294193   0.16608887 -0.32700702]\n"
     ]
    }
   ],
   "source": [
    "# Column to sum for the IPW estimator\n",
    "sample['z'] = 1 / log_reg.predict(sample[['Agility', 'Stamina', 'Preferred_Foot']]) * sample['R']\n",
    "\n",
    "# Matrix form for the least square estimator with IPW\n",
    "X = np.array(sample[['Agility', 'Stamina', 'Preferred_Foot']])\n",
    "X = add_constant(X)\n",
    "y = np.array(sample.Overall.apply(lambda x: x if pd.notnull(x) else 0))\n",
    "Z = np.diag(sample['z'])\n",
    "\n",
    "# Estimating beta based on the development above\n",
    "beta_est = np.linalg.inv(X.T @ Z @ X) @ X.T @ Z @ y\n",
    "\n",
    "np.set_printoptions(suppress=True)\n",
    "print(beta_est)"
   ]
  },
  {
   "cell_type": "markdown",
   "id": "5b255061",
   "metadata": {
    "papermill": {
     "duration": 0.160812,
     "end_time": "2022-12-11T13:23:37.037976",
     "exception": false,
     "start_time": "2022-12-11T13:23:36.877164",
     "status": "completed"
    },
    "tags": []
   },
   "source": [
    "**CI for Least Squares Parameters Using Bootstrap**"
   ]
  },
  {
   "cell_type": "code",
   "execution_count": 86,
   "id": "a5ef6318",
   "metadata": {
    "execution": {
     "iopub.execute_input": "2022-12-11T13:23:37.367097Z",
     "iopub.status.busy": "2022-12-11T13:23:37.366335Z",
     "iopub.status.idle": "2022-12-11T13:23:52.753703Z",
     "shell.execute_reply": "2022-12-11T13:23:52.754783Z",
     "shell.execute_reply.started": "2022-03-01T12:13:32.94123Z"
    },
    "papermill": {
     "duration": 15.556252,
     "end_time": "2022-12-11T13:23:52.755099",
     "exception": false,
     "start_time": "2022-12-11T13:23:37.198847",
     "status": "completed"
    },
    "tags": []
   },
   "outputs": [
    {
     "data": {
      "text/html": [
       "<div>\n",
       "<style scoped>\n",
       "    .dataframe tbody tr th:only-of-type {\n",
       "        vertical-align: middle;\n",
       "    }\n",
       "\n",
       "    .dataframe tbody tr th {\n",
       "        vertical-align: top;\n",
       "    }\n",
       "\n",
       "    .dataframe thead th {\n",
       "        text-align: right;\n",
       "    }\n",
       "</style>\n",
       "<table border=\"1\" class=\"dataframe\">\n",
       "  <thead>\n",
       "    <tr style=\"text-align: right;\">\n",
       "      <th></th>\n",
       "      <th>Parameter</th>\n",
       "      <th>Low</th>\n",
       "      <th>High</th>\n",
       "    </tr>\n",
       "  </thead>\n",
       "  <tbody>\n",
       "    <tr>\n",
       "      <th>0</th>\n",
       "      <td>b0</td>\n",
       "      <td>48.210112</td>\n",
       "      <td>53.762050</td>\n",
       "    </tr>\n",
       "    <tr>\n",
       "      <th>1</th>\n",
       "      <td>b1</td>\n",
       "      <td>-0.003355</td>\n",
       "      <td>0.061606</td>\n",
       "    </tr>\n",
       "    <tr>\n",
       "      <th>2</th>\n",
       "      <td>b2</td>\n",
       "      <td>0.135698</td>\n",
       "      <td>0.197437</td>\n",
       "    </tr>\n",
       "    <tr>\n",
       "      <th>3</th>\n",
       "      <td>b3</td>\n",
       "      <td>-1.312240</td>\n",
       "      <td>0.615731</td>\n",
       "    </tr>\n",
       "  </tbody>\n",
       "</table>\n",
       "</div>"
      ],
      "text/plain": [
       "  Parameter        Low       High\n",
       "0        b0  48.210112  53.762050\n",
       "1        b1  -0.003355   0.061606\n",
       "2        b2   0.135698   0.197437\n",
       "3        b3  -1.312240   0.615731"
      ]
     },
     "execution_count": 86,
     "metadata": {},
     "output_type": "execute_result"
    }
   ],
   "source": [
    "B = 400\n",
    "betas = []\n",
    "\n",
    "for i in range(B):\n",
    "    \n",
    "    temp_sample = sample.sample(n=1000, replace=True)\n",
    "    temp_sample['R'] = temp_sample.Overall.apply(lambda x: 1 if pd.notnull(x) else 0)\n",
    "    temp_X = temp_sample[['Agility', 'Stamina', 'Preferred_Foot']]\n",
    "    temp_y = temp_sample['R']\n",
    "    temp_log_reg = smf.logit('temp_y ~ temp_X', data=temp_sample).fit(disp=False)\n",
    "    \n",
    "    temp_sample['z'] = 1 / temp_log_reg.predict(temp_X) * temp_sample['R']\n",
    "    Z = np.diag(temp_sample['z'])\n",
    "    y = np.array(temp_sample.Overall.apply(lambda x: x if pd.notnull(x) else 0))\n",
    "    X = np.array(temp_X)\n",
    "    X = add_constant(X)\n",
    "    betas.append(np.linalg.inv(X.T @ Z @ X) @ X.T @ Z @ y)\n",
    "\n",
    "# Bootstrap variance estimation\n",
    "beta_est = sum(betas) / B\n",
    "betas_squared = [x ** 2 for x in betas]\n",
    "boot_var_est = (1 / B) * sum(betas_squared) - ((1 / B) * sum(betas)) ** 2\n",
    "boot_var_est\n",
    "\n",
    "# CI\n",
    "conf_int_ipw = {'Parameter': [], 'Low': [], 'High': []}\n",
    "for i in range(4):\n",
    "    b_hat = beta_est[i]\n",
    "    ci_low = b_hat - 1.96*np.sqrt(boot_var_est[i])\n",
    "    ci_high = b_hat + 1.96*np.sqrt(boot_var_est[i])\n",
    "    conf_int_ipw['Parameter'].append('b%s' % i)\n",
    "    conf_int_ipw['Low'].append(ci_low)\n",
    "    conf_int_ipw['High'].append(ci_high)\n",
    "pd.DataFrame(data=conf_int_ipw)"
   ]
  },
  {
   "cell_type": "markdown",
   "id": "8c0e4485",
   "metadata": {
    "papermill": {
     "duration": 0.156972,
     "end_time": "2022-12-11T13:23:53.126028",
     "exception": false,
     "start_time": "2022-12-11T13:23:52.969056",
     "status": "completed"
    },
    "tags": []
   },
   "source": [
    "**Comparison of the Different Methods**"
   ]
  },
  {
   "cell_type": "code",
   "execution_count": 87,
   "id": "d87a8d0d",
   "metadata": {
    "execution": {
     "iopub.execute_input": "2022-12-11T13:23:53.460898Z",
     "iopub.status.busy": "2022-12-11T13:23:53.460178Z",
     "iopub.status.idle": "2022-12-11T13:23:53.463633Z",
     "shell.execute_reply": "2022-12-11T13:23:53.464157Z",
     "shell.execute_reply.started": "2022-03-01T12:13:55.708574Z"
    },
    "papermill": {
     "duration": 0.17675,
     "end_time": "2022-12-11T13:23:53.464330",
     "exception": false,
     "start_time": "2022-12-11T13:23:53.287580",
     "status": "completed"
    },
    "tags": []
   },
   "outputs": [
    {
     "data": {
      "text/html": [
       "<div>\n",
       "<style scoped>\n",
       "    .dataframe tbody tr th:only-of-type {\n",
       "        vertical-align: middle;\n",
       "    }\n",
       "\n",
       "    .dataframe tbody tr th {\n",
       "        vertical-align: top;\n",
       "    }\n",
       "\n",
       "    .dataframe thead th {\n",
       "        text-align: right;\n",
       "    }\n",
       "</style>\n",
       "<table border=\"1\" class=\"dataframe\">\n",
       "  <thead>\n",
       "    <tr style=\"text-align: right;\">\n",
       "      <th></th>\n",
       "      <th>Intercept</th>\n",
       "      <th>Agility</th>\n",
       "      <th>Stamina</th>\n",
       "      <th>Preferred Foot</th>\n",
       "    </tr>\n",
       "  </thead>\n",
       "  <tbody>\n",
       "    <tr>\n",
       "      <th>Full data</th>\n",
       "      <td>53.619430</td>\n",
       "      <td>0.044563</td>\n",
       "      <td>0.144178</td>\n",
       "      <td>0.276972</td>\n",
       "    </tr>\n",
       "    <tr>\n",
       "      <th>Visible data</th>\n",
       "      <td>52.063654</td>\n",
       "      <td>0.022689</td>\n",
       "      <td>0.156207</td>\n",
       "      <td>-0.381400</td>\n",
       "    </tr>\n",
       "    <tr>\n",
       "      <th>Regression imp</th>\n",
       "      <td>52.063654</td>\n",
       "      <td>0.022689</td>\n",
       "      <td>0.156207</td>\n",
       "      <td>-0.381400</td>\n",
       "    </tr>\n",
       "    <tr>\n",
       "      <th>Multiple imp</th>\n",
       "      <td>52.063654</td>\n",
       "      <td>0.022689</td>\n",
       "      <td>0.156207</td>\n",
       "      <td>-0.381400</td>\n",
       "    </tr>\n",
       "    <tr>\n",
       "      <th>Least squares</th>\n",
       "      <td>50.986081</td>\n",
       "      <td>0.029125</td>\n",
       "      <td>0.166568</td>\n",
       "      <td>-0.348255</td>\n",
       "    </tr>\n",
       "  </tbody>\n",
       "</table>\n",
       "</div>"
      ],
      "text/plain": [
       "                Intercept   Agility   Stamina  Preferred Foot\n",
       "Full data       53.619430  0.044563  0.144178        0.276972\n",
       "Visible data    52.063654  0.022689  0.156207       -0.381400\n",
       "Regression imp  52.063654  0.022689  0.156207       -0.381400\n",
       "Multiple imp    52.063654  0.022689  0.156207       -0.381400\n",
       "Least squares   50.986081  0.029125  0.166568       -0.348255"
      ]
     },
     "execution_count": 87,
     "metadata": {},
     "output_type": "execute_result"
    }
   ],
   "source": [
    "estimations = []\n",
    "index = ['Full data', 'Visible data', 'Regression imp', 'Multiple imp', 'Least squares']\n",
    "columns = ['Intercept', 'Agility', 'Stamina', 'Preferred Foot',]\n",
    "estimations.append(list(dict(model_sample.params).values()))\n",
    "estimations.append(list(dict(model_sample_visible.params).values()))\n",
    "estimations.append(list(dict(model_lin_reg_imp.params).values()))\n",
    "estimations.append(list(dict(MI).values()))\n",
    "estimations.append(list(beta_est))\n",
    "\n",
    "comparison = pd.DataFrame(data=estimations)\n",
    "comparison.index = index\n",
    "comparison.columns = columns\n",
    "comparison"
   ]
  },
  {
   "cell_type": "markdown",
   "id": "dfa2160f",
   "metadata": {
    "papermill": {
     "duration": 0.158694,
     "end_time": "2022-12-11T13:23:53.782175",
     "exception": false,
     "start_time": "2022-12-11T13:23:53.623481",
     "status": "completed"
    },
    "tags": []
   },
   "source": [
    "For the first three methods we got identical estimators while the IPW were slightly different. All estimators were fairly close to the full data results, except for Preferred_Foot which was negative in all methods. In the following code, we can see that while the mean of Overall is similar for Right and Left when looking at the entire sample, when looking at the 500 worst players (in terms of Overall rating), the mean for Left is larger. Because we removed mainly good players, our models give a negative weight to Preferred_Foot."
   ]
  },
  {
   "cell_type": "code",
   "execution_count": 88,
   "id": "874a4ac3",
   "metadata": {
    "execution": {
     "iopub.execute_input": "2022-12-11T13:23:54.113234Z",
     "iopub.status.busy": "2022-12-11T13:23:54.112502Z",
     "iopub.status.idle": "2022-12-11T13:23:54.131482Z",
     "shell.execute_reply": "2022-12-11T13:23:54.132231Z",
     "shell.execute_reply.started": "2022-03-01T12:14:00.930574Z"
    },
    "papermill": {
     "duration": 0.188073,
     "end_time": "2022-12-11T13:23:54.132459",
     "exception": false,
     "start_time": "2022-12-11T13:23:53.944386",
     "status": "completed"
    },
    "tags": []
   },
   "outputs": [
    {
     "name": "stdout",
     "output_type": "stream",
     "text": [
      "Mean of left-footed players in 500 worst players: 65.57510729613733\n",
      "Mean of right-footed players in 500 worst players in the sample: 62.252\n",
      "Mean of left-footed players in sample: 65.57510729613733\n",
      "Mean of right-footed players in sample: 66.21251629726206\n"
     ]
    },
    {
     "name": "stderr",
     "output_type": "stream",
     "text": [
      "/opt/conda/lib/python3.7/site-packages/ipykernel_launcher.py:2: UserWarning: Boolean Series key will be reindexed to match DataFrame index.\n",
      "  \n",
      "/opt/conda/lib/python3.7/site-packages/ipykernel_launcher.py:3: UserWarning: Boolean Series key will be reindexed to match DataFrame index.\n",
      "  This is separate from the ipykernel package so we can avoid doing imports until\n",
      "/opt/conda/lib/python3.7/site-packages/ipykernel_launcher.py:4: UserWarning: Boolean Series key will be reindexed to match DataFrame index.\n",
      "  after removing the cwd from sys.path.\n",
      "/opt/conda/lib/python3.7/site-packages/ipykernel_launcher.py:5: UserWarning: Boolean Series key will be reindexed to match DataFrame index.\n",
      "  \"\"\"\n"
     ]
    }
   ],
   "source": [
    "sample2 = data.sample(1000, random_state=0).sort_values('Overall').reset_index()\n",
    "print(\"Mean of left-footed players in 500 worst players:\", sample2[data['Preferred Foot'] == 'Left'][0:500]['Overall'].mean())\n",
    "print(\"Mean of right-footed players in 500 worst players in the sample:\", sample2[data['Preferred Foot'] == 'Right'][0:500]['Overall'].mean())\n",
    "print(\"Mean of left-footed players in sample:\", sample2[data['Preferred Foot'] == 'Left'][0:1000]['Overall'].mean())\n",
    "print(\"Mean of right-footed players in sample:\", sample2[data['Preferred Foot'] == 'Right'][0:1000]['Overall'].mean())"
   ]
  },
  {
   "cell_type": "markdown",
   "id": "522c43b5",
   "metadata": {
    "papermill": {
     "duration": 0.16134,
     "end_time": "2022-12-11T13:23:54.480353",
     "exception": false,
     "start_time": "2022-12-11T13:23:54.319013",
     "status": "completed"
    },
    "tags": []
   },
   "source": [
    "CI comparison"
   ]
  },
  {
   "cell_type": "code",
   "execution_count": 89,
   "id": "d4367320",
   "metadata": {
    "execution": {
     "iopub.execute_input": "2022-12-11T13:23:54.833172Z",
     "iopub.status.busy": "2022-12-11T13:23:54.832338Z",
     "iopub.status.idle": "2022-12-11T13:23:55.411511Z",
     "shell.execute_reply": "2022-12-11T13:23:55.412118Z",
     "shell.execute_reply.started": "2022-03-01T12:39:27.225756Z"
    },
    "papermill": {
     "duration": 0.765985,
     "end_time": "2022-12-11T13:23:55.412314",
     "exception": false,
     "start_time": "2022-12-11T13:23:54.646329",
     "status": "completed"
    },
    "tags": []
   },
   "outputs": [
    {
     "name": "stderr",
     "output_type": "stream",
     "text": [
      "/opt/conda/lib/python3.7/site-packages/ipykernel_launcher.py:9: UserWarning: color is redundantly defined by the 'color' keyword argument and the fmt string \"ro-\" (-> color='r'). The keyword argument will take precedence.\n",
      "  if __name__ == '__main__':\n",
      "/opt/conda/lib/python3.7/site-packages/ipykernel_launcher.py:10: UserWarning: color is redundantly defined by the 'color' keyword argument and the fmt string \"ro-\" (-> color='r'). The keyword argument will take precedence.\n",
      "  # Remove the CWD from sys.path while we load stuff.\n",
      "/opt/conda/lib/python3.7/site-packages/ipykernel_launcher.py:11: UserWarning: color is redundantly defined by the 'color' keyword argument and the fmt string \"ro-\" (-> color='r'). The keyword argument will take precedence.\n",
      "  # This is added back by InteractiveShellApp.init_path()\n",
      "/opt/conda/lib/python3.7/site-packages/ipykernel_launcher.py:12: UserWarning: color is redundantly defined by the 'color' keyword argument and the fmt string \"ro-\" (-> color='r'). The keyword argument will take precedence.\n",
      "  if sys.path[0] == '':\n",
      "/opt/conda/lib/python3.7/site-packages/ipykernel_launcher.py:13: UserWarning: color is redundantly defined by the 'color' keyword argument and the fmt string \"ro-\" (-> color='r'). The keyword argument will take precedence.\n",
      "  del sys.path[0]\n"
     ]
    },
    {
     "data": {
      "image/png": "[encoded data removed]",
      "text/plain": [
       "<Figure size 432x288 with 1 Axes>"
      ]
     },
     "metadata": {
      "needs_background": "light"
     },
     "output_type": "display_data"
    },
    {
     "data": {
      "image/png": "[encoded data removed]",
      "text/plain": [
       "<Figure size 432x288 with 1 Axes>"
      ]
     },
     "metadata": {
      "needs_background": "light"
     },
     "output_type": "display_data"
    },
    {
     "data": {
      "image/png": "[encoded data removed]",
      "text/plain": [
       "<Figure size 432x288 with 1 Axes>"
      ]
     },
     "metadata": {
      "needs_background": "light"
     },
     "output_type": "display_data"
    },
    {
     "data": {
      "image/png": "[encoded data removed]",
      "text/plain": [
       "<Figure size 432x288 with 1 Axes>"
      ]
     },
     "metadata": {
      "needs_background": "light"
     },
     "output_type": "display_data"
    }
   ],
   "source": [
    "import matplotlib.pyplot as plt\n",
    "data_dict = {}\n",
    "names = ['Full Data Intercept', 'Visible Data Intercept', 'Regression Imputation Intercept', 'Multiple Imputation Intercept','IPW with Boostrap Intercept', 'Full Data Agility', 'Visible Data Agility', 'Regression Imputation Agility', 'Multiple Imputation Agility','IPW with Boostrap Agility', 'Full Data Stamina', 'Visible Data Stamina', 'Regression Imputation Stamina', 'Multiple Imputation Stamina','IPW with Boostrap Stamina', 'Full Data Preferred Foot', 'Visible Data Preferred Foot', 'Regression Imputation Preferred Foot', 'Multiple Imputation Preferred Foot','IPW with Boostrap Intercept']\n",
    "data_dict['lower'] = conf_int_full['Low'][1:] + conf_int_visible['Low'][1:] + conf_int_reg_imp['Low'][1:] + conf_int_mul_imp['Low'][1:] + conf_int_ipw['Low'][1:]\n",
    "data_dict['upper'] = conf_int_full['High'][1:] + conf_int_visible['High'][1:] + conf_int_reg_imp['High'][1:] + conf_int_mul_imp['High'][1:] + conf_int_ipw['High'][1:]\n",
    "dataset = pd.DataFrame(data_dict)\n",
    "y=0\n",
    "for i in range(4):\n",
    "    plt.plot((conf_int_full['Low'][i], conf_int_full['High'][i]),(0,0),'ro-',color='orange')\n",
    "    plt.plot((conf_int_visible['Low'][i], conf_int_visible['High'][i]),(1,1),'ro-',color='orange')\n",
    "    plt.plot((conf_int_reg_imp['Low'][i], conf_int_reg_imp['High'][i]),(2,2),'ro-',color='orange')\n",
    "    plt.plot((conf_int_mul_imp['Low'][i], conf_int_mul_imp['High'][i]),(3,3),'ro-',color='orange')\n",
    "    plt.plot((conf_int_ipw['Low'][i], conf_int_ipw['High'][i]),(4,4),'ro-',color='orange')\n",
    "    plt.yticks(range(5),names[y:y+5])\n",
    "    y += 5\n",
    "    plt.show()"
   ]
  },
  {
   "cell_type": "markdown",
   "id": "a3e34b9b",
   "metadata": {
    "papermill": {
     "duration": 0.170487,
     "end_time": "2022-12-11T13:23:55.763261",
     "exception": false,
     "start_time": "2022-12-11T13:23:55.592774",
     "status": "completed"
    },
    "tags": []
   },
   "source": [
    "Most of the confidence intervals are fairly close to the original interval, leading us to believe that our choice of explanatory variables is decent and thus, given these variables, our data is MAR."
   ]
  }
 ],
 "metadata": {
  "kernelspec": {
   "display_name": "Python 3",
   "language": "python",
   "name": "python3"
  },
  "language_info": {
   "codemirror_mode": {
    "name": "ipython",
    "version": 3
   },
   "file_extension": ".py",
   "mimetype": "text/x-python",
   "name": "python",
   "nbconvert_exporter": "python",
   "pygments_lexer": "ipython3",
   "version": "3.7.10"
  },
  "papermill": {
   "default_parameters": {},
   "duration": 187.60656,
   "end_time": "2022-12-11T13:23:56.743387",
   "environment_variables": {},
   "exception": null,
   "input_path": "__notebook__.ipynb",
   "output_path": "__notebook__.ipynb",
   "parameters": {},
   "start_time": "2022-12-11T13:20:49.136827",
   "version": "2.3.3"
  }
 },
 "nbformat": 4,
 "nbformat_minor": 5
}
